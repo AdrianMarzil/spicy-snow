{
 "cells": [
  {
   "cell_type": "code",
   "execution_count": null,
   "metadata": {},
   "outputs": [],
   "source": [
    "# standard imports\n",
    "import numpy as np\n",
    "import xarray as xr\n",
    "import rioxarray\n",
    "import matplotlib.pyplot as plt\n",
    "\n",
    "# load up the saved dataset\n",
    "import pickle\n",
    "with open('../data/main_test.pkl', 'rb') as f:\n",
    "    ds = pickle.load(f)\n",
    "\n",
    "# add module to path so python can import it. This is the directory with \n",
    "# the __init__.py file in it to let python know this is a module.\n",
    "import sys\n",
    "sys.path.append('/Users/zachkeskinen/Documents/spicy-snow/spicy_snow')\n",
    "\n",
    "# import the function to test\n",
    "from processing.s1_preprocessing import s1_amp_to_dB, s1_dB_to_amp, merge_partial_s1_images\n",
    "\n",
    "ds = ds.isel(time = slice(0, 6))"
   ]
  },
  {
   "cell_type": "code",
   "execution_count": null,
   "metadata": {},
   "outputs": [],
   "source": [
    "from rioxarray.merge import merge_arrays\n",
    "\n",
    "def merge_s1_times(dataset, times, verbose = False):\n",
    "    if verbose:\n",
    "        print('Merging:', times)\n",
    "    das = [dataset.sel(time = ts)['s1'] for ts in times]\n",
    "    assert len(das) == len([d for d in das if d['relative_orbit'] == das[0]['relative_orbit']])\n",
    "    print(das[0].where(das[0] == 0).notnull().sum())\n",
    "    if das[0].where(das[0] == 0).notnull().sum() > 0:\n",
    "        nodata_value = 0\n",
    "    else:\n",
    "        nodata_value = np.nan\n",
    "    print(nodata_value)\n",
    "    merged = merge_arrays(das, crs = 'EPSG:4326', nodata= nodata_value)\n",
    "    dataset = dataset.drop_sel(time = times[1:])\n",
    "    dataset['s1'].loc[dict(time = times[0])] = merged.values\n",
    "    times = []\n",
    "    return dataset, times, das\n",
    "\n",
    "import pandas as pd\n",
    "\n",
    "def s1_partial_merge(dataset):\n",
    "    times = []\n",
    "    for ts in dataset.time.values:\n",
    "        \n",
    "        if not times:\n",
    "            times.append(ts)\n",
    "            continue\n",
    "\n",
    "        if ts - times[0] > pd.Timedelta('1 minute'):\n",
    "            if len(times) == 1:\n",
    "                times = [ts]\n",
    "                continue\n",
    "            else:\n",
    "                dataset, times, das = merge_s1_times(dataset, times)\n",
    "        else:\n",
    "            times.append(ts)\n",
    "        \n",
    "        if ts == ds.time.values[-1] and len(times) > 1:\n",
    "            dataset, times, das = merge_s1_times(dataset, times)\n",
    "        \n",
    "    return dataset, das"
   ]
  },
  {
   "cell_type": "code",
   "execution_count": null,
   "metadata": {},
   "outputs": [],
   "source": [
    "s1_amp_to_dB(ds)"
   ]
  },
  {
   "cell_type": "code",
   "execution_count": null,
   "metadata": {},
   "outputs": [],
   "source": [
    "ds1, das = s1_partial_merge(ds)"
   ]
  },
  {
   "cell_type": "code",
   "execution_count": null,
   "metadata": {},
   "outputs": [],
   "source": [
    "ds1.isel(time = 0).sel(band = 'VV')['s1'].plot()"
   ]
  },
  {
   "cell_type": "code",
   "execution_count": null,
   "metadata": {},
   "outputs": [],
   "source": [
    "ds.isel(time = 0).sel(band = 'VV')['s1']"
   ]
  },
  {
   "cell_type": "code",
   "execution_count": null,
   "metadata": {},
   "outputs": [],
   "source": [
    "ds1.isel(time = 0).sel(band = 'VV')['s1'].plot()"
   ]
  },
  {
   "cell_type": "code",
   "execution_count": null,
   "metadata": {},
   "outputs": [],
   "source": [
    "s1_amp_to_dB(ds)"
   ]
  },
  {
   "cell_type": "code",
   "execution_count": null,
   "metadata": {},
   "outputs": [],
   "source": [
    "ds.isel(time = 0).sel(band = 'VV')['s1']"
   ]
  },
  {
   "cell_type": "code",
   "execution_count": null,
   "metadata": {},
   "outputs": [],
   "source": [
    "ds.isel(time = 0)['time'].values"
   ]
  },
  {
   "cell_type": "code",
   "execution_count": null,
   "metadata": {},
   "outputs": [],
   "source": [
    "ds1 = s1_partial_merge(ds)"
   ]
  },
  {
   "cell_type": "code",
   "execution_count": null,
   "metadata": {},
   "outputs": [],
   "source": [
    "ds1['s1'].isel(time = 0).sel(band = 'VV').plot(vmax = 0.5)"
   ]
  },
  {
   "cell_type": "code",
   "execution_count": null,
   "metadata": {},
   "outputs": [],
   "source": [
    "da1 = ds['s1'].isel(time = 0).sel(band = 'VV')\n",
    "\n",
    "da2 = ds['s1'].isel(time = 1).sel(band = 'VV')\n"
   ]
  },
  {
   "cell_type": "code",
   "execution_count": null,
   "metadata": {},
   "outputs": [],
   "source": [
    "da1.plot(vmax = 0.5)"
   ]
  },
  {
   "cell_type": "code",
   "execution_count": null,
   "metadata": {},
   "outputs": [],
   "source": [
    "da2.plot(vmax = 0.5)"
   ]
  },
  {
   "cell_type": "code",
   "execution_count": null,
   "metadata": {},
   "outputs": [],
   "source": [
    "from rioxarray.merge import merge_arrays\n",
    "merged = merge_arrays([da1, da2], crs = 'EPSG:4326', nodata = np.nan)\n",
    "merged.plot(vmax = 0.5)"
   ]
  },
  {
   "cell_type": "code",
   "execution_count": null,
   "metadata": {},
   "outputs": [],
   "source": [
    "da1.plot(vmax = 0.5)"
   ]
  },
  {
   "cell_type": "code",
   "execution_count": null,
   "metadata": {},
   "outputs": [],
   "source": [
    "# plot first time slice and VV band to see initial\n",
    "ds['s1'].isel(time = 1).sel(band = 'VV').plot()\n",
    "plt.show()\n",
    "# snag the original time slice to compare afterwards\n",
    "amp = ds['s1'].isel(time = 1).sel(band = 'VV').values.ravel()\n",
    "amp = amp[amp != 0]\n",
    "# run your newly written function over the dataset and capture returning dataset\n",
    "s1_amp_to_dB(ds)\n",
    "# plot first time slice and VV band to see dB change\n",
    "ds['s1'].isel(time = 1).sel(band = 'VV').plot()\n",
    "plt.show()\n",
    "# grab the first time slice VV\n",
    "dB = ds['s1'].isel(time = 1).sel(band = 'VV').values.ravel()\n",
    "dB = dB[~np.isnan(dB)]\n",
    "# assert the conversion was succesful\n",
    "assert np.allclose(dB, 10 * np.log10(amp))"
   ]
  },
  {
   "cell_type": "code",
   "execution_count": null,
   "metadata": {},
   "outputs": [],
   "source": [
    "ds['s1'].isel(time = 0).sel(band = 'VV')[2000, 2000] = 0"
   ]
  },
  {
   "cell_type": "code",
   "execution_count": null,
   "metadata": {},
   "outputs": [],
   "source": [
    "ds['s1'].isel(time = 0).sel(band = 'VV')[2000, 2000]"
   ]
  },
  {
   "cell_type": "code",
   "execution_count": null,
   "metadata": {},
   "outputs": [],
   "source": [
    "ds['s1'].isel(time = 1, band = 0, x = 10, y = 10)"
   ]
  },
  {
   "cell_type": "code",
   "execution_count": null,
   "metadata": {},
   "outputs": [],
   "source": [
    "# plot first time slice and VV band to see initial\n",
    "ds['s1'].isel(time = 1).sel(band = 'VV').plot()\n",
    "plt.show()\n",
    "# snag the original time slice to compare afterwards\n",
    "dB = ds['s1'].isel(time = 1).sel(band = 'VV').values.ravel()\n",
    "# run your newly written function over the dataset and capture returning dataset\n",
    "s1_dB_to_amp(ds)\n",
    "# plot first time slice and VV band to see dB change\n",
    "ds['s1'].isel(time = 1).sel(band = 'VV').plot()\n",
    "plt.show()\n",
    "# grab the first time slice VV\n",
    "dB = ds['s1'].isel(time = 1).sel(band = 'VV').values.ravel()\n",
    "dB = dB[np.isfinite(dB)]\n",
    "# assert the conversion was succesful\n",
    "assert np.allclose(dB, 10 * np.log10(amp))"
   ]
  },
  {
   "cell_type": "code",
   "execution_count": null,
   "metadata": {},
   "outputs": [],
   "source": [
    "ds = ds.set_xindex('relative_orbit')"
   ]
  },
  {
   "cell_type": "code",
   "execution_count": null,
   "metadata": {},
   "outputs": [],
   "source": [
    "ds.sel(relative_orbit = 20)"
   ]
  },
  {
   "cell_type": "code",
   "execution_count": null,
   "metadata": {},
   "outputs": [],
   "source": [
    "ds.where(ds.flight_dir == 'ascending', drop = True)"
   ]
  }
 ],
 "metadata": {
  "kernelspec": {
   "display_name": "spicy",
   "language": "python",
   "name": "python3"
  },
  "language_info": {
   "codemirror_mode": {
    "name": "ipython",
    "version": 3
   },
   "file_extension": ".py",
   "mimetype": "text/x-python",
   "name": "python",
   "nbconvert_exporter": "python",
   "pygments_lexer": "ipython3",
   "version": "3.11.0"
  },
  "vscode": {
   "interpreter": {
    "hash": "d55f2b22363d79254ff041d13471de54e352f3ae9dfa1886ee2b85fe903b5a57"
   }
  }
 },
 "nbformat": 4,
 "nbformat_minor": 2
}
