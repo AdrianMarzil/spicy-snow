{
 "cells": [
  {
   "cell_type": "code",
   "execution_count": null,
   "metadata": {},
   "outputs": [],
   "source": [
    "# standard imports\n",
    "import numpy as np\n",
    "import xarray as xr\n",
    "import rioxarray\n",
    "import matplotlib.pyplot as plt\n",
    "\n",
    "# load up the saved dataset\n",
    "import pickle\n",
    "with open('../data/2_img_test.pkl', 'rb') as f:\n",
    "    ds = pickle.load(f)\n",
    "\n",
    "# add module to path so python can import it. This is the directory with \n",
    "# the __init__.py file in it to let python know this is a module.\n",
    "import sys\n",
    "sys.path.append('/Users/zachkeskinen/Documents/spicy-snow/spicy_snow')\n",
    "\n",
    "# import the function to test\n",
    "from processing.s1_preprocessing import s1_amp_to_dB\n",
    "\n",
    "# plot first time slice and VV band to see initial\n",
    "ds['s1'].isel(time = 0).sel(band = 'VV').plot()\n",
    "plt.show()\n",
    "# snag the original time slice to compare afterwards\n",
    "amp = ds['s1'].isel(time = 0).sel(band = 'VV').values.ravel()\n",
    "amp = amp[amp != 0]\n",
    "# run your newly written function over the dataset and capture returning dataset\n",
    "s1_amp_to_dB(ds)\n",
    "# plot first time slice and VV band to see dB change\n",
    "ds['s1'].isel(time = 0).sel(band = 'VV').plot()\n",
    "plt.show()\n",
    "# grab the first time slice VV\n",
    "dB = ds['s1'].isel(time = 0).sel(band = 'VV').values.ravel()\n",
    "dB = dB[np.isfinite(dB)]\n",
    "# assert the conversion was succesful\n",
    "assert np.allclose(dB, 10 * np.log10(amp))"
   ]
  },
  {
   "cell_type": "code",
   "execution_count": null,
   "metadata": {},
   "outputs": [],
   "source": [
    "ds = ds.set_xindex('relative_orbit')"
   ]
  },
  {
   "cell_type": "code",
   "execution_count": null,
   "metadata": {},
   "outputs": [],
   "source": [
    "ds.sel(relative_orbit = 20)"
   ]
  },
  {
   "cell_type": "code",
   "execution_count": null,
   "metadata": {},
   "outputs": [],
   "source": [
    "ds.where(ds.flight_dir == 'ascending', drop = True)"
   ]
  }
 ],
 "metadata": {
  "kernelspec": {
   "display_name": "spicy",
   "language": "python",
   "name": "python3"
  },
  "language_info": {
   "codemirror_mode": {
    "name": "ipython",
    "version": 3
   },
   "file_extension": ".py",
   "mimetype": "text/x-python",
   "name": "python",
   "nbconvert_exporter": "python",
   "pygments_lexer": "ipython3",
   "version": "3.11.0"
  },
  "vscode": {
   "interpreter": {
    "hash": "d55f2b22363d79254ff041d13471de54e352f3ae9dfa1886ee2b85fe903b5a57"
   }
  }
 },
 "nbformat": 4,
 "nbformat_minor": 2
}
