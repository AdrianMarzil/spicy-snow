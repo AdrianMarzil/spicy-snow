{
 "cells": [
  {
   "cell_type": "code",
   "execution_count": null,
   "metadata": {},
   "outputs": [],
   "source": [
    "import pickle\n",
    "import numpy as np\n",
    "import xarray\n",
    "import rioxarray\n",
    "with open('/Users/zachkeskinen/Documents/spicy-snow/data/2_img_test.pkl', 'rb') as f:\n",
    "    ds = pickle.load(f)"
   ]
  },
  {
   "cell_type": "code",
   "execution_count": null,
   "metadata": {},
   "outputs": [],
   "source": [
    "ds"
   ]
  },
  {
   "cell_type": "code",
   "execution_count": null,
   "metadata": {},
   "outputs": [],
   "source": [
    "ds.isel(time = 1)"
   ]
  },
  {
   "cell_type": "code",
   "execution_count": null,
   "metadata": {},
   "outputs": [],
   "source": [
    "da = xr.DataArray(\n",
    "    np.arange(6).reshape(2, 3, 1), [(\"x\", [\"a\", \"b\"]), (\"y\", [30, 20, 10]), (\"time\", ['2020-01-01'])]\n",
    ")\n",
    "\n",
    "da2 = xr.DataArray(\n",
    "    np.arange(6, 12).reshape(2, 3, 1), [(\"x\", [\"a\", \"b\"]), (\"y\", [31, 21, 11]), (\"time\", ['2020-01-02'])]\n",
    ")\n",
    "\n",
    "xr.concat([da, da2], dim = 'time')"
   ]
  },
  {
   "cell_type": "code",
   "execution_count": null,
   "metadata": {},
   "outputs": [],
   "source": [
    "das2 = []\n",
    "if not das2:\n",
    "    print('here')"
   ]
  },
  {
   "cell_type": "code",
   "execution_count": null,
   "metadata": {},
   "outputs": [],
   "source": [
    "da2.rio.reproject_match(da)"
   ]
  },
  {
   "cell_type": "code",
   "execution_count": null,
   "metadata": {},
   "outputs": [],
   "source": [
    "import pickle\n",
    "\n",
    "import shapely\n",
    "\n",
    "import sys\n",
    "from os.path import expanduser\n",
    "sys.path.append(expanduser('~/Documents/spicy-snow'))\n",
    "\n",
    "from spicy_snow.download.sentinel1 import s1_img_search, download_s1_imgs, hyp3_pipeline, hyp3_jobs_to_dataArray\n",
    "from spicy_snow.download.forest_cover import download_fcf, add_fcf\n",
    "from spicy_snow.download.snow_cover import download_snow_cover\n",
    "\n",
    "import os\n",
    "os.environ['PROJ_LIB'] = '/Users/zachkeskinen/miniconda3/pkgs/proj-9.1.0-hf909084_1/share/proj'\n",
    "\n",
    "import pyproj\n",
    "pyproj.datadir.set_data_dir('/Users/zachkeskinen/miniconda3/pkgs/proj-9.1.0-hf909084_1/share/proj')\n",
    "pyproj._pyproj_global_context_initialize()\n",
    "\n",
    "dates = ('2019-10-01', '2019-10-15')\n",
    "area = shapely.geometry.box(-114.4, 43, -114.3, 43.1)\n",
    "\n",
    "\n",
    "skip = False\n",
    "\n",
    "if not skip:\n",
    "    search_results = s1_img_search(area, dates)\n",
    "    print(f'Found {len(search_results)} results')\n",
    "\n",
    "    # ds = download_s1_imgs(search_results, area, tmp_dir = '/Users/zachkeskinen/Documents/spicy-snow/data/tmp', job_name = 'subset_test')    \n"
   ]
  },
  {
   "cell_type": "code",
   "execution_count": null,
   "metadata": {},
   "outputs": [],
   "source": [
    "import numpy as np\n",
    "orbit = search_results.iloc[0]['properties.orbit']\n",
    "np.mod(orbit)"
   ]
  },
  {
   "cell_type": "code",
   "execution_count": null,
   "metadata": {},
   "outputs": [],
   "source": [
    "jobs = hyp3_pipeline(search_results = '', job_name = '', existing_job_name='rtc-example')"
   ]
  },
  {
   "cell_type": "code",
   "execution_count": null,
   "metadata": {},
   "outputs": [],
   "source": [
    "das = hyp3_jobs_to_dataArray(jobs, search_results, area, outdir = '/Users/zachkeskinen/Documents/spicy-snow/data/tmp2', clean = False)"
   ]
  },
  {
   "cell_type": "code",
   "execution_count": null,
   "metadata": {},
   "outputs": [],
   "source": [
    "coned = xr.concat(da, dim = 'time')"
   ]
  },
  {
   "cell_type": "code",
   "execution_count": null,
   "metadata": {},
   "outputs": [],
   "source": [
    "ds.rio.bounds()"
   ]
  },
  {
   "cell_type": "code",
   "execution_count": null,
   "metadata": {},
   "outputs": [],
   "source": [
    "import rioxarray as rxa\n",
    "rxa.open_rasterio('/Users/zachkeskinen/Documents/spicy-snow/data/tmp/S1B_IW_GRDH_1SDV_20200330T134920_20200330T134948_020922_027AE9_F7B9_VV.tif').rio.bounds()"
   ]
  },
  {
   "cell_type": "code",
   "execution_count": null,
   "metadata": {},
   "outputs": [],
   "source": [
    "download_snow_cover(ds, tmp_dir = '/Users/zachkeskinen/Documents/spicy-snow/data/tmp/', clean = False)"
   ]
  },
  {
   "cell_type": "code",
   "execution_count": null,
   "metadata": {},
   "outputs": [],
   "source": [
    "import pickle\n",
    "import xarray\n",
    "import rioxarray as rxa\n",
    "with open('/Users/zachkeskinen/Documents/spicy-snow/data/s1_ds.pkl', 'rb') as f:\n",
    "    ds = pickle.load(f)\n",
    "# with open('/Users/zachkeskinen/Documents/spicy-snow/tests/test_data/s1_da.pkl', 'rb') as f:\n",
    "#     ds = pickle.load(f)\n",
    "out_fp = '/Users/zachkeskinen/Documents/spicy-snow/data/fcf.tif'\n",
    "fcf = rxa.open_rasterio(out_fp)\n",
    "\n",
    "import os\n",
    "os.environ['PROJ_LIB'] = '/Users/zachkeskinen/miniconda3/pkgs/proj-9.1.0-hf909084_1/share/proj'\n",
    "\n",
    "import pyproj\n",
    "pyproj.datadir.set_data_dir('/Users/zachkeskinen/miniconda3/pkgs/proj-9.1.0-hf909084_1/share/proj')\n",
    "pyproj._pyproj_global_context_initialize()"
   ]
  },
  {
   "cell_type": "code",
   "execution_count": null,
   "metadata": {},
   "outputs": [],
   "source": [
    "ds = download_s1_imgs(search_results, area, tmp_dir = '/Users/zachkeskinen/Documents/spicy-snow/data/tmp', job_name = 'idaho_snow_test')"
   ]
  },
  {
   "cell_type": "code",
   "execution_count": null,
   "metadata": {},
   "outputs": [],
   "source": [
    "ds.sel(time = '2020-01-02T01:36:05.000000000', band = 'VV').plot()"
   ]
  },
  {
   "cell_type": "code",
   "execution_count": null,
   "metadata": {},
   "outputs": [],
   "source": [
    "ds.sel(time = '2020-04-17T13:50:02.000000000', band = 'VV')['s1']"
   ]
  },
  {
   "cell_type": "code",
   "execution_count": null,
   "metadata": {},
   "outputs": [],
   "source": [
    "fcf.rio.clip_box(-114.4, 42.9, -114.2, 43.1)"
   ]
  },
  {
   "cell_type": "code",
   "execution_count": null,
   "metadata": {},
   "outputs": [],
   "source": [
    "fcf = rioxarray.open_rasterio('/Users/zachkeskinen/Documents/spicy-snow/data/fcf.tif')"
   ]
  },
  {
   "cell_type": "code",
   "execution_count": null,
   "metadata": {},
   "outputs": [],
   "source": [
    "import shapely\n",
    "\n",
    "import sys\n",
    "from os.path import expanduser\n",
    "sys.path.append(expanduser('~/Documents/spicy-snow'))\n",
    "\n",
    "from spicy_snow.download.sentinel1 import s1_img_search, download_s1_imgs\n",
    "from spicy_snow.download.forest_cover import download_fcf\n",
    "from spicy_snow.download.snow_cover import download_snow_cover"
   ]
  },
  {
   "cell_type": "code",
   "execution_count": null,
   "metadata": {},
   "outputs": [],
   "source": [
    "dates = ('2019-10-01', '2020-05-01')\n",
    "area = shapely.geometry.box(-114.4, 43, -114.3, 43.1)"
   ]
  },
  {
   "attachments": {},
   "cell_type": "markdown",
   "metadata": {},
   "source": [
    "## Get Sentinel-1 Image Search Results"
   ]
  },
  {
   "cell_type": "code",
   "execution_count": null,
   "metadata": {},
   "outputs": [],
   "source": [
    "search_results = s1_img_search(area, dates)"
   ]
  },
  {
   "attachments": {},
   "cell_type": "markdown",
   "metadata": {},
   "source": [
    "## Download S1 images"
   ]
  },
  {
   "cell_type": "code",
   "execution_count": null,
   "metadata": {},
   "outputs": [],
   "source": [
    "download_s1_imgs(search_results, tmp_dir = '/Users/zachkeskinen/Documents/spicy-snow/data/tmp')"
   ]
  },
  {
   "cell_type": "code",
   "execution_count": null,
   "metadata": {},
   "outputs": [],
   "source": [
    "import hyp3_sdk as sdk\n"
   ]
  },
  {
   "cell_type": "code",
   "execution_count": null,
   "metadata": {},
   "outputs": [],
   "source": [
    "import xarray as xr\n",
    "import numpy as np\n",
    "data = xr.DataArray(np.random.randn(2, 3, 1), dims=(\"x\", \"y\", 'time'), coords={\"x\": [10, 20], \"y\": [40,30,20], 'time':[0]})\n",
    "data2 = xr.DataArray(np.random.randn(2, 3, 1), dims=(\"x\", \"y\", 'time'), coords={\"x\": [10, 20], \"y\": [41,31,21], 'time':[1]})\n",
    "ds = xr.concat([data, data2], dim = 'time')"
   ]
  },
  {
   "cell_type": "code",
   "execution_count": null,
   "metadata": {},
   "outputs": [],
   "source": [
    "data2"
   ]
  },
  {
   "cell_type": "code",
   "execution_count": null,
   "metadata": {},
   "outputs": [],
   "source": [
    "data"
   ]
  },
  {
   "cell_type": "code",
   "execution_count": null,
   "metadata": {},
   "outputs": [],
   "source": [
    "ds.isel(time = 1)"
   ]
  },
  {
   "cell_type": "code",
   "execution_count": null,
   "metadata": {},
   "outputs": [],
   "source": [
    "with open('/Users/zachkeskinen/Documents/spicy-snow/data/all_ds.pkl', 'rb') as f:\n",
    "    ds = pickle.load(f)"
   ]
  }
 ],
 "metadata": {
  "kernelspec": {
   "display_name": "spicy",
   "language": "python",
   "name": "python3"
  },
  "language_info": {
   "codemirror_mode": {
    "name": "ipython",
    "version": 3
   },
   "file_extension": ".py",
   "mimetype": "text/x-python",
   "name": "python",
   "nbconvert_exporter": "python",
   "pygments_lexer": "ipython3",
   "version": "3.11.0"
  },
  "vscode": {
   "interpreter": {
    "hash": "d55f2b22363d79254ff041d13471de54e352f3ae9dfa1886ee2b85fe903b5a57"
   }
  }
 },
 "nbformat": 4,
 "nbformat_minor": 2
}
