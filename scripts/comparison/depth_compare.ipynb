{
 "cells": [
  {
   "cell_type": "code",
   "execution_count": null,
   "metadata": {},
   "outputs": [],
   "source": [
    "from pathlib import Path\n",
    "\n",
    "import numpy as np\n",
    "import pandas as pd\n",
    "import geopandas as gpd\n",
    "import xarray as xr\n",
    "import rioxarray as rxa\n",
    "import matplotlib.pyplot as plt\n",
    "import seaborn as sns\n",
    "from scipy.stats import pearsonr\n",
    "from sklearn.metrics import mean_squared_error"
   ]
  },
  {
   "cell_type": "code",
   "execution_count": null,
   "metadata": {},
   "outputs": [],
   "source": [
    "df = pd.read_csv('../../SnowEx-Data/snowex_depths.csv', index_col=0)\n",
    "gdf = gpd.GeoDataFrame(df, geometry=gpd.GeoSeries.from_wkt(df[\"geometry\"]), crs=\"epsg:4326\",)"
   ]
  },
  {
   "cell_type": "code",
   "execution_count": null,
   "metadata": {},
   "outputs": [],
   "source": [
    "data_dir = Path('../../SnowEx-Data')\n",
    "spicy_depths = []\n",
    "# tolerance around each site 200 m\n",
    "tol = 0.00090009*2\n",
    "\n",
    "for fp in data_dir.glob('*.nc'):\n",
    "    ds = xr.open_dataset(fp)\n",
    "    name = fp.stem.replace('.sub','')\n",
    "    xmin, ymin, xmax, ymax = ds.rio.bounds()\n",
    "    site_depths = gdf.cx[xmin:xmax, ymin:ymax].copy()\n",
    "    for i, r in site_depths.iterrows():\n",
    "        depth_dt = pd.to_datetime(r.date)\n",
    "        ds_ts = ds['snow_depth'].sel(time = slice(depth_dt - pd.Timedelta('1 day'), depth_dt + pd.Timedelta('1 day'))).mean(dim = 'time')\n",
    "        spicy_d = ds_ts.sel(x = slice(r.geometry.x-tol, r.geometry.x + tol), y = slice(r.geometry.y + tol, r.geometry.y - tol)) #, method = 'nearest'\n",
    "        site_depths.loc[i, 'spicy_depth'] = spicy_d.mean(skipna = True)*100\n",
    "    spicy_depths.append(site_depths)"
   ]
  },
  {
   "cell_type": "code",
   "execution_count": null,
   "metadata": {},
   "outputs": [],
   "source": [
    "df = pd.concat(spicy_depths, ignore_index=True)\n",
    "df = df.dropna()\n",
    "df = df[df.spicy_depth != 0]"
   ]
  },
  {
   "cell_type": "code",
   "execution_count": null,
   "metadata": {},
   "outputs": [],
   "source": [
    "df.date.unique()"
   ]
  },
  {
   "cell_type": "code",
   "execution_count": null,
   "metadata": {},
   "outputs": [],
   "source": [
    "fig, ax = plt.subplots()\n",
    "cmap = {'Boise River':'b', 'Fraser':'r'}\n",
    " \n",
    "for k, d in df.groupby('Location'):\n",
    "    ax.scatter(d['depth'], d['spicy_depth'], label=k, c = cmap[k])\n",
    "r, p = pearsonr(df.depth, df.spicy_depth)\n",
    "rmse = mean_squared_error(df.depth, df.spicy_depth, squared=False)\n",
    "ax.text(.01, .99, f'r: {r:.2}, rmse: {rmse:.2f}\\nn = {len(df.spicy_depth):.2e}', ha = 'left', va = 'top', transform = ax.transAxes)\n",
    "plt.xlabel('Probed Snow Depth')\n",
    "plt.ylabel('Spicy Depth (200m box)')\n",
    "plt.title('SnowEx Probed vs Spicy Depths')\n",
    "plt.legend(loc = 'lower right')\n",
    "plt.savefig('../../images/probed-spicy-plots/probed_scatter.png')"
   ]
  },
  {
   "cell_type": "code",
   "execution_count": null,
   "metadata": {},
   "outputs": [],
   "source": []
  }
 ],
 "metadata": {
  "kernelspec": {
   "display_name": "spicy",
   "language": "python",
   "name": "python3"
  },
  "language_info": {
   "codemirror_mode": {
    "name": "ipython",
    "version": 3
   },
   "file_extension": ".py",
   "mimetype": "text/x-python",
   "name": "python",
   "nbconvert_exporter": "python",
   "pygments_lexer": "ipython3",
   "version": "3.11.0"
  }
 },
 "nbformat": 4,
 "nbformat_minor": 2
}
