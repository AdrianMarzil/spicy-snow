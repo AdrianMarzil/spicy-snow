{
 "cells": [
  {
   "cell_type": "code",
   "execution_count": null,
   "metadata": {},
   "outputs": [],
   "source": [
    "import xarray as xr\n",
    "import matplotlib.pyplot as plt\n",
    "import pandas as pd\n",
    "import numpy as np\n",
    "from pathlib import Path\n",
    "from glob import glob\n",
    "from datetime import datetime\n",
    "import sys\n",
    "import itertools\n",
    "import dask\n",
    "import dask.dataframe as dd \n",
    "from pathlib import Path\n",
    "\n",
    "from datetime import datetime\n",
    "from metloom.pointdata import SnotelPointData\n",
    "\n",
    "sys.path.append('/projects/dedu0223/spicy-snow/')\n",
    "\n",
    "from spicy_snow.processing.snow_index import calc_delta_cross_ratio, calc_delta_gamma, \\\n",
    "    clip_delta_gamma_outlier, calc_snow_index, calc_snow_index_to_snow_depth\n",
    "from spicy_snow.processing.wet_snow import id_newly_wet_snow, id_wet_negative_si, \\\n",
    "    id_newly_frozen_snow, flag_wet_snow"
   ]
  },
  {
   "cell_type": "code",
   "execution_count": null,
   "metadata": {},
   "outputs": [],
   "source": [
    "for fp in Path('/projects/dedu0223/spicy-snow/scripts/optimize/old/rmse_insitu').glob('*no_flag.nc'):\n",
    "    fp_lidar = next(Path('/projects/dedu0223/spicy-snow/scripts/optimize/rmse_out').glob(fp.name))\n",
    "    da = xr.open_dataarray(fp)\n",
    "    da2 = xr.open_dataarray(fp_lidar) * 100\n",
    "    insitu_best = da.where(da==da.min(), drop=True).squeeze()\n",
    "    lidar_best = da2.where(da2==da2.min(), drop=True).squeeze()"
   ]
  },
  {
   "cell_type": "code",
   "execution_count": null,
   "metadata": {},
   "outputs": [],
   "source": [
    "#Little cottonwood = 628\n",
    "#banner = 312\n",
    "#cameron = 551\n",
    "#Mores = 637\n",
    "snotel_point = SnotelPointData(\"551:CO:SNTL\", \"MyStation\")\n",
    "\n",
    "snotel = snotel_point.get_daily_data(\n",
    "    datetime(2020, 10, 1), datetime(2021, 9, 30),\n",
    "    [snotel_point.ALLOWED_VARIABLES.SNOWDEPTH]\n",
    ")\n",
    "\n",
    "snotel = snotel.reset_index()"
   ]
  },
  {
   "cell_type": "code",
   "execution_count": null,
   "metadata": {},
   "outputs": [],
   "source": [
    "lidar_file = '/projects/dedu0223/snow_ex_data/Cameron_2021-03-19.nc'"
   ]
  },
  {
   "cell_type": "code",
   "execution_count": null,
   "metadata": {},
   "outputs": [],
   "source": [
    "snotel.loc[:, 'depth (cm)'] = snotel.loc[:, 'SNOWDEPTH']*0.0254\n",
    "snotel_x = snotel.iloc[0].geometry.x #longitude\n",
    "snotel_y = snotel.iloc[0].geometry.y #latitude\n",
    "snotel_elevation = snotel.iloc[0].geometry.z #elevation (ft?)\n",
    "\n",
    "A = [1,1,1,1,1,1,1,1]\n",
    "B = [1,0.7,0.2,0.7,0.6,1,1,0.5]\n",
    "C = [0.65,0.48,0.56,0.59,0.5,0.49,0.69,0.67]\n",
    "cols = ['Banner_2020', 'Banner_2021', 'Cameron_2021', 'Dry_Creek_2020', 'Frasier_2021', 'Little_cottonwod_2021', 'Mores_2020', 'Mores_2021']\n",
    "#cols = ['a = 0.25', 'a = 0.5', 'a = 0.75', 'a = 1', 'a = 1.25', 'a = 1.5', 'a = 1.75', 'a = 2']\n",
    "\n",
    "\n",
    "ds_ = xr.open_dataset(lidar_file).load()\n",
    "dataset = ds_[['s1','deltaVV','ims','fcf','lidar-sd']]\n",
    "\n",
    "td = abs(pd.to_datetime(dataset.time) - pd.to_datetime(dataset.attrs['lidar-flight-time']))\n",
    "closest_ts_idx = np.where(td == td.min())[0][0]\n",
    "closest_ts = dataset.time[closest_ts_idx]\n",
    "\n",
    "for i in range(len(A)):\n",
    "    stn = cols[i]\n",
    "\n",
    "\n",
    "    ds = calc_delta_cross_ratio(dataset, A = A[i])\n",
    "    ds = calc_delta_gamma(ds, B = B[i], inplace=False)\n",
    "    ds = clip_delta_gamma_outlier(ds)\n",
    "    ds = calc_snow_index(ds)\n",
    "    ds = id_newly_wet_snow(ds)\n",
    "    ds = id_wet_negative_si(ds)\n",
    "    ds = id_newly_frozen_snow(ds)\n",
    "    ds = flag_wet_snow(ds)\n",
    "    ds = calc_snow_index_to_snow_depth(ds, C = C[i])\n",
    "\n",
    "    snotel[stn] = np.nan\n",
    "    # tolerance around each site 500 m\\n\",\n",
    "    tol = 0.00090009\n",
    "\n",
    "    for ts in ds.time:\n",
    "        spicy_depth = ds['snow_depth'].sel(time = ts).sel(x = slice(snotel_x - tol, snotel_x + tol), y = slice(snotel_y + tol, snotel_y - tol)).mean()\n",
    "        #snotel.loc[snotel.datetime.dt.date == pd.to_datetime(ts.data).date(), 'wet'] = ds['wet_snow'].sel(time = ts).sel(x = snotel_x, y = snotel_y, method = 'nearest')\n",
    "        snotel.loc[snotel.datetime.dt.date == pd.to_datetime(ts.data).date(), stn] = spicy_depth"
   ]
  },
  {
   "cell_type": "code",
   "execution_count": null,
   "metadata": {},
   "outputs": [],
   "source": [
    "ds.sel(time = closest_ts).snow_depth"
   ]
  },
  {
   "cell_type": "code",
   "execution_count": null,
   "metadata": {},
   "outputs": [],
   "source": [
    "fig, ax = plt.subplots(1,2,figsize = (15,5))\n",
    "\n",
    "ax[0].pcolormesh(ds.x, ds.y, ds['lidar-sd'], vmin = 0, vmax = 4)\n",
    "ax[0].contour(ds.x, ds.y, ds['fcf'], vmin = 0, vmax = 1, cmap = 'Greys')\n",
    "ax[0].plot(snotel_x, snotel_y, 'r.', markersize = 10)\n",
    "ax[0].plot(snotel_x-tol, snotel_y-tol, 'r.', markersize = 5)\n",
    "ax[0].plot(snotel_x-tol, snotel_y+tol, 'r.', markersize = 5)\n",
    "ax[0].plot(snotel_x+tol, snotel_y+tol, 'r.', markersize = 5)\n",
    "ax[0].plot(snotel_x+tol, snotel_y-tol, 'r.', markersize = 5)\n",
    "\n",
    "ax[1].pcolormesh(ds.x, ds.y, ds.sel(time = closest_ts).snow_depth, vmin = 0, vmax = 4)"
   ]
  },
  {
   "cell_type": "code",
   "execution_count": null,
   "metadata": {},
   "outputs": [],
   "source": [
    "lidar_depth = ds['lidar-sd'].sel(x = slice(snotel_x - tol, snotel_x + tol), y = slice(snotel_y + tol, snotel_y - tol)).mean()"
   ]
  },
  {
   "cell_type": "code",
   "execution_count": null,
   "metadata": {},
   "outputs": [],
   "source": [
    "fig,ax = plt.subplots(figsize = (12,8))\n",
    "snotel.dropna(subset = ['Banner_2020'])[['depth (cm)','Banner_2020', 'Banner_2021', 'Cameron_2021', 'Dry_Creek_2020', 'Frasier_2021', 'Little_cottonwod_2021', 'Mores_2020', 'Mores_2021','datetime']].set_index('datetime').plot(ax = ax, linestyle = '-')\n",
    "plt.plot(closest_ts, lidar_depth,'k.', markersize = 20, label = 'lidar depth')\n",
    "plt.title('Cameron 2021')\n",
    "plt.savefig('cameron_2021.png')\n",
    "plt.legend()"
   ]
  },
  {
   "cell_type": "code",
   "execution_count": null,
   "metadata": {},
   "outputs": [],
   "source": []
  }
 ],
 "metadata": {
  "kernelspec": {
   "display_name": "csnow",
   "language": "python",
   "name": "csnow"
  },
  "language_info": {
   "codemirror_mode": {
    "name": "ipython",
    "version": 3
   },
   "file_extension": ".py",
   "mimetype": "text/x-python",
   "name": "python",
   "nbconvert_exporter": "python",
   "pygments_lexer": "ipython3",
   "version": "3.11.2"
  }
 },
 "nbformat": 4,
 "nbformat_minor": 4
}
