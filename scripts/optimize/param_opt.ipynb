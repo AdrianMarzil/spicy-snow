{
 "cells": [
  {
   "cell_type": "code",
   "execution_count": 1,
   "metadata": {},
   "outputs": [],
   "source": [
    "import xarray as xr\n",
    "import matplotlib.pyplot as plt\n",
    "import pandas as pd\n",
    "import numpy as np\n",
    "from pathlib import Path\n",
    "from glob import glob\n",
    "from datetime import datetime\n",
    "import sys\n",
    "sys.path.append('/Users/w76m851/github_workspace/spicy-snow/')\n",
    "\n",
    "from spicy_snow.processing.snow_index import calc_delta_cross_ratio, calc_delta_gamma, \\\n",
    "    clip_delta_gamma_outlier, calc_snow_index, calc_snow_index_to_snow_depth\n",
    "from spicy_snow.processing.wet_snow import id_newly_wet_snow, id_wet_negative_si, \\\n",
    "    id_newly_frozen_snow, flag_wet_snow\n"
   ]
  },
  {
   "cell_type": "code",
   "execution_count": 4,
   "metadata": {},
   "outputs": [
    {
     "name": "stdout",
     "output_type": "stream",
     "text": [
      "2023-03-07 22:05:14.190590  -- starting Frasier_2021-03-19\n"
     ]
    }
   ],
   "source": [
    "# %%time\n",
    "files = sorted(glob('/Users/w76m851/OneDrive - Montana State University/spicy_s1_stacks/*.nc'))\n",
    "\n",
    "# Create parameter space\n",
    "A = np.arange(1, 3.1, 0.5)\n",
    "B = np.arange(0, 1.01, 0.1)\n",
    "C = np.arange(0, 1.001, 0.01)\n",
    "\n",
    "for f in files:\n",
    "    ds_name = f.split('stacks/')[-1].split('.')[0]\n",
    "    if 'Frasier_2021' not in ds_name:\n",
    "        continue\n",
    "    print(datetime.now(), f' -- starting {ds_name}')\n",
    "    # Open dataset \n",
    "    ds_ = xr.open_dataset(f).load()\n",
    "    dataset = ds_[['s1','deltaVV','ims','fcf','lidar-sd']]\n",
    "    td = abs(pd.to_datetime(dataset.time) - pd.to_datetime(dataset.attrs['lidar-flight-time']))\n",
    "    closest_ts_idx = np.where(td == td.min())[0][0]\n",
    "    closest_ts = dataset.time[closest_ts_idx]\n",
    "    # Initialize RMSE arrays\n",
    "    rmse_wet_flag = xr.DataArray(np.empty((len(A), len(B), len(C)))*np.nan,\n",
    "                        coords=(A, B, C), dims=('A','B','C'))\n",
    "    rmse_no_flag = xr.DataArray(np.empty((len(A), len(B), len(C)))*np.nan,\n",
    "                        coords=(A, B, C), dims=('A','B','C'))\n",
    "    \n",
    "    # Brute-force loop\n",
    "    for a in A:\n",
    "        ds = calc_delta_cross_ratio(dataset, A=a, inplace=False)\n",
    "        for b in B:\n",
    "            ds = calc_delta_gamma(ds, B=b, inplace=False)\n",
    "            for c in C:\n",
    "                # print(f'A={a}; B={b}; C={c}')\n",
    "                ds = clip_delta_gamma_outlier(ds)\n",
    "                ds = calc_snow_index(ds)\n",
    "                ds = calc_snow_index_to_snow_depth(ds, C=c, inplace=False)\n",
    "                ds = id_newly_wet_snow(ds)\n",
    "                ds = id_wet_negative_si(ds)\n",
    "                ds = id_newly_frozen_snow(ds)\n",
    "                ds = flag_wet_snow(ds)\n",
    "                # Compare snow depths - mask wet snow\n",
    "                mask_wet = ~(pd.isnull(ds['lidar-sd']) | pd.isnull(ds['snow_depth'].sel(time=closest_ts)) | \n",
    "                        ds['wet_snow'].sel(time=closest_ts).astype(bool))\n",
    "                diff_wet = ds['lidar-sd'].where(mask_wet) - ds['snow_depth'].sel(time=closest_ts).where(mask_wet)\n",
    "                rmse_wet = float(np.sqrt((diff_wet**2).sum()/len(diff_wet.values.flatten())))\n",
    "                rmse_wet_flag.loc[a, b, c] = rmse_wet\n",
    "                # Compare snow depths - no wet snow mask\n",
    "                mask = ~(pd.isnull(ds['lidar-sd']) | pd.isnull(ds['snow_depth'].sel(time=closest_ts)))\n",
    "                diff = ds['lidar-sd'].where(mask) - ds['snow_depth'].sel(time=closest_ts).where(mask)\n",
    "                rmse = float(np.sqrt((diff**2).sum()/len(diff.values.flatten())))\n",
    "                rmse_no_flag.loc[a,b,c] = rmse\n",
    "\n",
    "    # After loop, save RMSE results per file\n",
    "    rmse_wet_flag.to_netcdf(f'rmse_out/{ds_name}_wet_flag.nc')\n",
    "    rmse_no_flag.to_netcdf(f'rmse_out/{ds_name}_no_flag.nc')\n",
    "    "
   ]
  },
  {
   "cell_type": "code",
   "execution_count": 19,
   "metadata": {},
   "outputs": [
    {
     "name": "stdout",
     "output_type": "stream",
     "text": [
      "2023-03-09 09:25:19.745006  -- starting Banner_2020-02-18\n",
      "2023-03-09 09:25:25.362827  -- starting Banner_2021-03-15\n",
      "2023-03-09 09:25:35.758793  -- starting Cameron_2021-03-19\n",
      "2023-03-09 09:25:40.566271  -- starting Dry_Creek_2020-02-19\n",
      "2023-03-09 09:25:47.409119  -- starting Frasier_2020-02-11\n",
      "2023-03-09 09:25:52.023831  -- starting Frasier_2021-03-19\n",
      "2023-03-09 09:25:56.974349  -- starting Little_Cottonwood_2021-03-18\n",
      "2023-03-09 09:26:03.721874  -- starting Mores_2020-02-09\n",
      "2023-03-09 09:26:07.256668  -- starting Mores_2021-03-15\n"
     ]
    },
    {
     "data": {
      "text/plain": [
       "Banner_2020-02-18               0.292333\n",
       "Banner_2021-03-15               0.338418\n",
       "Cameron_2021-03-19              0.332266\n",
       "Dry_Creek_2020-02-19            0.274637\n",
       "Frasier_2020-02-11              0.000000\n",
       "Frasier_2021-03-19              0.186346\n",
       "Little_Cottonwood_2021-03-18    0.412172\n",
       "Mores_2020-02-09                0.399471\n",
       "Mores_2021-03-15                0.273484\n",
       "dtype: float64"
      ]
     },
     "execution_count": 19,
     "metadata": {},
     "output_type": "execute_result"
    }
   ],
   "source": [
    "# %%time\n",
    "files = sorted(glob('/Users/w76m851/OneDrive - Montana State University/spicy_s1_stacks/*.nc'))\n",
    "\n",
    "# Create parameter space\n",
    "A = [2]\n",
    "B = [0.5]\n",
    "C = [0.44]\n",
    "\n",
    "ds_list = []\n",
    "rmse_default = []\n",
    "\n",
    "for f in files:\n",
    "    ds_name = f.split('stacks/')[-1].split('.')[0]\n",
    "    print(datetime.now(), f' -- starting {ds_name}')\n",
    "    # Open dataset \n",
    "    ds_ = xr.open_dataset(f).load()\n",
    "    dataset = ds_[['s1','deltaVV','ims','fcf','lidar-sd']]\n",
    "    td = abs(pd.to_datetime(dataset.time) - pd.to_datetime(dataset.attrs['lidar-flight-time']))\n",
    "    closest_ts_idx = np.where(td == td.min())[0][0]\n",
    "    closest_ts = dataset.time[closest_ts_idx]\n",
    "    \n",
    "    # Brute-force loop\n",
    "    for a in A:\n",
    "        ds = calc_delta_cross_ratio(dataset, A=a, inplace=False)\n",
    "        for b in B:\n",
    "            ds = calc_delta_gamma(ds, B=b, inplace=False)\n",
    "            for c in C:\n",
    "                # print(f'A={a}; B={b}; C={c}')\n",
    "                ds = clip_delta_gamma_outlier(ds)\n",
    "                ds = calc_snow_index(ds)\n",
    "                ds = calc_snow_index_to_snow_depth(ds, C=c, inplace=False)\n",
    "                ds = id_newly_wet_snow(ds)\n",
    "                ds = id_wet_negative_si(ds)\n",
    "                ds = id_newly_frozen_snow(ds)\n",
    "                ds = flag_wet_snow(ds)\n",
    "                # Compare snow depths - mask wet snow\n",
    "                mask_wet = ~(pd.isnull(ds['lidar-sd']) | pd.isnull(ds['snow_depth'].sel(time=closest_ts)) | \n",
    "                        ds['wet_snow'].sel(time=closest_ts).astype(bool))\n",
    "                diff_wet = ds['lidar-sd'].where(mask_wet) - ds['snow_depth'].sel(time=closest_ts).where(mask_wet)\n",
    "                rmse_wet = float(np.sqrt((diff_wet**2).sum()/len(diff_wet.values.flatten())))\n",
    "                rmse_default.append(rmse_wet)\n",
    "                ds_list.append(ds_name)\n",
    "\n",
    "\n",
    "\n",
    "res_default = pd.Series(rmse_default, index=ds_list)\n",
    "res_default"
   ]
  },
  {
   "cell_type": "code",
   "execution_count": 18,
   "metadata": {},
   "outputs": [
    {
     "data": {
      "text/plain": [
       "[0.29233282908895264, 0.33841823424791734]"
      ]
     },
     "execution_count": 18,
     "metadata": {},
     "output_type": "execute_result"
    }
   ],
   "source": [
    "rmse_default"
   ]
  },
  {
   "cell_type": "code",
   "execution_count": 65,
   "metadata": {},
   "outputs": [
    {
     "data": {
      "text/html": [
       "<div>\n",
       "<style scoped>\n",
       "    .dataframe tbody tr th:only-of-type {\n",
       "        vertical-align: middle;\n",
       "    }\n",
       "\n",
       "    .dataframe tbody tr th {\n",
       "        vertical-align: top;\n",
       "    }\n",
       "\n",
       "    .dataframe thead th {\n",
       "        text-align: right;\n",
       "    }\n",
       "</style>\n",
       "<table border=\"1\" class=\"dataframe\">\n",
       "  <thead>\n",
       "    <tr style=\"text-align: right;\">\n",
       "      <th></th>\n",
       "      <th>rmse_default</th>\n",
       "      <th>rmse_opt</th>\n",
       "      <th>pct_change</th>\n",
       "      <th>A_opt</th>\n",
       "      <th>B_opt</th>\n",
       "      <th>C_opt</th>\n",
       "    </tr>\n",
       "  </thead>\n",
       "  <tbody>\n",
       "    <tr>\n",
       "      <th>Banner_2020-02-18</th>\n",
       "      <td>0.292333</td>\n",
       "      <td>0.190380</td>\n",
       "      <td>0.348757</td>\n",
       "      <td>1.0</td>\n",
       "      <td>1.0</td>\n",
       "      <td>0.65</td>\n",
       "    </tr>\n",
       "    <tr>\n",
       "      <th>Banner_2021-03-15</th>\n",
       "      <td>0.338418</td>\n",
       "      <td>0.182646</td>\n",
       "      <td>0.460294</td>\n",
       "      <td>1.0</td>\n",
       "      <td>0.7</td>\n",
       "      <td>0.48</td>\n",
       "    </tr>\n",
       "    <tr>\n",
       "      <th>Cameron_2021-03-19</th>\n",
       "      <td>0.332266</td>\n",
       "      <td>0.135335</td>\n",
       "      <td>0.592689</td>\n",
       "      <td>1.0</td>\n",
       "      <td>0.2</td>\n",
       "      <td>0.56</td>\n",
       "    </tr>\n",
       "    <tr>\n",
       "      <th>Dry_Creek_2020-02-19</th>\n",
       "      <td>0.274637</td>\n",
       "      <td>0.100938</td>\n",
       "      <td>0.632470</td>\n",
       "      <td>1.0</td>\n",
       "      <td>0.7</td>\n",
       "      <td>0.59</td>\n",
       "    </tr>\n",
       "    <tr>\n",
       "      <th>Frasier_2020-02-11</th>\n",
       "      <td>NaN</td>\n",
       "      <td>NaN</td>\n",
       "      <td>NaN</td>\n",
       "      <td>NaN</td>\n",
       "      <td>NaN</td>\n",
       "      <td>NaN</td>\n",
       "    </tr>\n",
       "    <tr>\n",
       "      <th>Frasier_2021-03-19</th>\n",
       "      <td>0.186346</td>\n",
       "      <td>0.118154</td>\n",
       "      <td>0.365945</td>\n",
       "      <td>1.0</td>\n",
       "      <td>0.6</td>\n",
       "      <td>0.50</td>\n",
       "    </tr>\n",
       "    <tr>\n",
       "      <th>Little_Cottonwood_2021-03-18</th>\n",
       "      <td>0.412172</td>\n",
       "      <td>0.347714</td>\n",
       "      <td>0.156385</td>\n",
       "      <td>1.0</td>\n",
       "      <td>1.0</td>\n",
       "      <td>0.49</td>\n",
       "    </tr>\n",
       "    <tr>\n",
       "      <th>Mores_2020-02-09</th>\n",
       "      <td>0.399471</td>\n",
       "      <td>0.273508</td>\n",
       "      <td>0.315326</td>\n",
       "      <td>1.0</td>\n",
       "      <td>1.0</td>\n",
       "      <td>0.69</td>\n",
       "    </tr>\n",
       "    <tr>\n",
       "      <th>Mores_2021-03-15</th>\n",
       "      <td>0.273484</td>\n",
       "      <td>0.157778</td>\n",
       "      <td>0.423083</td>\n",
       "      <td>1.0</td>\n",
       "      <td>0.5</td>\n",
       "      <td>0.67</td>\n",
       "    </tr>\n",
       "  </tbody>\n",
       "</table>\n",
       "</div>"
      ],
      "text/plain": [
       "                              rmse_default  rmse_opt  pct_change  A_opt  \\\n",
       "Banner_2020-02-18                 0.292333  0.190380    0.348757    1.0   \n",
       "Banner_2021-03-15                 0.338418  0.182646    0.460294    1.0   \n",
       "Cameron_2021-03-19                0.332266  0.135335    0.592689    1.0   \n",
       "Dry_Creek_2020-02-19              0.274637  0.100938    0.632470    1.0   \n",
       "Frasier_2020-02-11                     NaN       NaN         NaN    NaN   \n",
       "Frasier_2021-03-19                0.186346  0.118154    0.365945    1.0   \n",
       "Little_Cottonwood_2021-03-18      0.412172  0.347714    0.156385    1.0   \n",
       "Mores_2020-02-09                  0.399471  0.273508    0.315326    1.0   \n",
       "Mores_2021-03-15                  0.273484  0.157778    0.423083    1.0   \n",
       "\n",
       "                              B_opt  C_opt  \n",
       "Banner_2020-02-18               1.0   0.65  \n",
       "Banner_2021-03-15               0.7   0.48  \n",
       "Cameron_2021-03-19              0.2   0.56  \n",
       "Dry_Creek_2020-02-19            0.7   0.59  \n",
       "Frasier_2020-02-11              NaN    NaN  \n",
       "Frasier_2021-03-19              0.6   0.50  \n",
       "Little_Cottonwood_2021-03-18    1.0   0.49  \n",
       "Mores_2020-02-09                1.0   0.69  \n",
       "Mores_2021-03-15                0.5   0.67  "
      ]
     },
     "execution_count": 65,
     "metadata": {},
     "output_type": "execute_result"
    }
   ],
   "source": [
    "results = sorted(glob('rmse_out/*.nc'))\n",
    "res_df = pd.DataFrame(res_default, columns=['rmse_default'])\n",
    "minn, a_list, b_list, c_list, = [], [], [], []\n",
    "for f in results:\n",
    "    if 'no_flag' in f:\n",
    "        continue\n",
    "    r = xr.open_dataarray(f).load()\n",
    "    ds_name = f.split('rmse_out/')[-1]\n",
    "    ds_name = ds_name.split('_wet')[0]\n",
    "    try:\n",
    "        rmse_min = r.min().values[0]\n",
    "    except IndexError:\n",
    "        rmse_min = float(r.min().values)\n",
    "    minn.append(rmse_min)\n",
    "    if r.min() > 0:\n",
    "        a, b, c, = [int(i) for i in np.where(r == r.min())]\n",
    "    else:\n",
    "        a, b, c = 0, 0, 0 \n",
    "    a_list.append(float(r['A'][a].values))\n",
    "    b_list.append(float(r['B'][b].values))\n",
    "    c_list.append(float(r['C'][c].values))\n",
    "\n",
    "res_df['rmse_opt'] = minn\n",
    "res_df['pct_change'] = (res_df['rmse_default'] - res_df['rmse_opt']) / res_df['rmse_default']\n",
    "res_df['A_opt'] = a_list\n",
    "res_df['B_opt'] = b_list\n",
    "res_df['C_opt'] = c_list\n",
    "res_df.loc['Frasier_2020-02-11'] = np.nan\n",
    "res_df\n",
    "    "
   ]
  },
  {
   "cell_type": "code",
   "execution_count": 66,
   "metadata": {},
   "outputs": [],
   "source": [
    "res_df.to_csv('rmse_out/optimization_results.csv')"
   ]
  },
  {
   "cell_type": "code",
   "execution_count": 33,
   "metadata": {},
   "outputs": [
    {
     "data": {
      "text/plain": [
       "0"
      ]
     },
     "execution_count": 33,
     "metadata": {},
     "output_type": "execute_result"
    }
   ],
   "source": [
    "a, b, c, = [int(i) for i in np.where(r == r.min())]\n",
    "a\n"
   ]
  },
  {
   "cell_type": "markdown",
   "metadata": {},
   "source": []
  }
 ],
 "metadata": {
  "kernelspec": {
   "display_name": "spicy",
   "language": "python",
   "name": "python3"
  },
  "language_info": {
   "codemirror_mode": {
    "name": "ipython",
    "version": 3
   },
   "file_extension": ".py",
   "mimetype": "text/x-python",
   "name": "python",
   "nbconvert_exporter": "python",
   "pygments_lexer": "ipython3",
   "version": "3.11.0"
  },
  "vscode": {
   "interpreter": {
    "hash": "ce4bdd2387e2daa803a7d0f8b0d766d25a1c9eab6b20981c1c0786f34d7ccd75"
   }
  }
 },
 "nbformat": 4,
 "nbformat_minor": 2
}
