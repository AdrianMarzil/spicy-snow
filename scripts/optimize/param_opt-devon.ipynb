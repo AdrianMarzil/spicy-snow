{
 "cells": [
  {
   "cell_type": "code",
   "execution_count": null,
   "metadata": {},
   "outputs": [],
   "source": [
    "import xarray as xr\n",
    "import matplotlib.pyplot as plt\n",
    "import pandas as pd\n",
    "import numpy as np\n",
    "from pathlib import Path\n",
    "from glob import glob\n",
    "from datetime import datetime\n",
    "import sys\n",
    "import itertools\n",
    "import dask\n",
    "import dask.dataframe as dd \n",
    "\n",
    "sys.path.append('/projects/dedu0223/spicy-snow/')\n",
    "\n",
    "from spicy_snow.processing.snow_index import calc_delta_cross_ratio, calc_delta_gamma, \\\n",
    "    clip_delta_gamma_outlier, calc_snow_index, calc_snow_index_to_snow_depth\n",
    "from spicy_snow.processing.wet_snow import id_newly_wet_snow, id_wet_negative_si, \\\n",
    "    id_newly_frozen_snow, flag_wet_snow\n"
   ]
  },
  {
   "cell_type": "code",
   "execution_count": null,
   "metadata": {},
   "outputs": [],
   "source": [
    "def add_s1_depths(row):\n",
    "    c = row.C\n",
    "    \n",
    "    ds = calc_snow_index_to_snow_depth(dsB, C=c, inplace=False)\n",
    "    bias_wet, bias, rmse_wet, rmse = get_bias(ds, closest_ts)\n",
    "    return bias_wet, bias, rmse_wet, rmse\n",
    "\n",
    "def get_bias(ds, closest_ts):\n",
    "    ds_closest_ts = ds.sel(time=closest_ts, method = 'nearest')\n",
    "    \n",
    "    mask_wet = ~(pd.isnull(ds_closest_ts['lidar-sd']) | pd.isnull(ds_closest_ts['snow_depth']) | \n",
    "                        ds_closest_ts['wet_snow'].astype(bool))\n",
    "    bias_wet = ((ds_closest_ts['lidar-sd'] - ds_closest_ts['snow_depth']).where(mask_wet)).mean()\n",
    "    rmse_wet = np.sqrt(((ds_closest_ts['lidar-sd'].where(mask_wet) - ds_closest_ts['snow_depth'].where(mask_wet))**2).sum()/mask_wet.sum()).values \n",
    "    \n",
    "                # Compare snow depths - no wet snow mask\n",
    "    mask = ~(pd.isnull(ds['lidar-sd']) | pd.isnull(ds['snow_depth'].sel(time=closest_ts)))\n",
    "    bias = (ds['lidar-sd'].where(mask) - ds['snow_depth'].sel(time=closest_ts).where(mask)).mean()\n",
    "    rmse = np.sqrt(((ds_closest_ts['lidar-sd'].where(mask) - ds_closest_ts['snow_depth'].where(mask))**2).sum()/mask.sum()).values\n",
    "    \n",
    "    return bias_wet.values, bias.values, rmse_wet, rmse\n",
    "\n",
    "def change_b(ds, b):\n",
    "    ds = calc_delta_gamma(ds, B=b, inplace=False)\n",
    "    ds = clip_delta_gamma_outlier(ds)\n",
    "    ds = calc_snow_index(ds)\n",
    "    ds = id_newly_wet_snow(ds)\n",
    "    ds = id_wet_negative_si(ds)\n",
    "    ds = id_newly_frozen_snow(ds)\n",
    "    ds = flag_wet_snow(ds)\n",
    "    return ds"
   ]
  },
  {
   "cell_type": "code",
   "execution_count": null,
   "metadata": {},
   "outputs": [],
   "source": [
    "A = [2]\n",
    "B = [1]\n",
    "C = np.arange(0, 2, 0.05)\n",
    "\n",
    "all_biases = pd.DataFrame({'C':C})"
   ]
  },
  {
   "cell_type": "code",
   "execution_count": null,
   "metadata": {},
   "outputs": [],
   "source": [
    "# %%time\n",
    "files = sorted(glob('/projects/dedu0223/snow_ex_data/*.nc'))\n",
    "\n",
    "for f in files[4:5]:\n",
    "    ds_name = f.split('stacks/')[-1].split('.')[0].split('/')[-1]\n",
    "    \n",
    "    if ds_name not in ['Banner_2021-03-15']:\n",
    "        print(datetime.now(), f' -- starting {ds_name}')\n",
    "        ds_ = xr.open_dataset(f).load() # Open dataset \n",
    "\n",
    "\n",
    "        dataset = ds_[['s1','deltaVV','ims','fcf','lidar-sd']]\n",
    "\n",
    "        td = abs(pd.to_datetime(dataset.time) - pd.to_datetime(dataset.attrs['lidar-flight-time']))\n",
    "        closest_ts_idx = np.where(td == td.min())[0][0]\n",
    "        closest_ts = dataset.time[closest_ts_idx]\n",
    "\n",
    "        for a in A:\n",
    "            dsA = calc_delta_cross_ratio(dataset, A=a, inplace=False)\n",
    "            for b in B:\n",
    "                dsB = change_b(dsA, b)\n",
    "                dfC = pd.DataFrame({'C':C})\n",
    "\n",
    "                ddf = dd.from_pandas(dfC, npartitions=8)\n",
    "                output_series = ddf.apply(add_s1_depths, axis=1, result_type='expand', meta=({0: float, 1: float, 2:float, 3:float}))\n",
    "                output_series = output_series.compute()\n",
    "\n",
    "                all_biases[f'{ds_name}_wet_bias'] = output_series[0]\n",
    "                all_biases[f'{ds_name}_bias'] = output_series[1]\n",
    "                all_biases[f'{ds_name}_wet_rmse'] = output_series[2]\n",
    "                all_biases[f'{ds_name}_rmse'] = output_series[3]"
   ]
  },
  {
   "cell_type": "code",
   "execution_count": null,
   "metadata": {},
   "outputs": [],
   "source": [
    "fig, ax = plt.subplots(2,1,figsize = (14,10))\n",
    "\n",
    "ax[0].plot(all_biases.C, np.abs(all_biases['Mores_2021-03-15_bias']),'r', label = 'Mores 2021')\n",
    "ax[0].plot(all_biases.C, np.abs(all_biases['Mores_2021-03-15_wet_bias']),'r--')\n",
    "\n",
    "ax[0].plot(all_biases.C, np.abs(all_biases['Mores_2020-02-09_bias']),'m', label = 'Mores 2020')\n",
    "ax[0].plot(all_biases.C, np.abs(all_biases['Mores_2020-02-09_wet_bias']),'m--')\n",
    "\n",
    "ax[0].plot(all_biases.C, np.abs(all_biases['Little_Cottonwood_2021-03-18_bias']),'g', label = 'L Cottonwood 2021')\n",
    "ax[0].plot(all_biases.C, np.abs(all_biases['Little_Cottonwood_2021-03-18_wet_bias']),'g--')\n",
    "\n",
    "ax[0].plot(all_biases.C, np.abs(all_biases['Frasier_2021-03-19_bias']),'b', label = 'Frasier 2021')\n",
    "ax[0].plot(all_biases.C, np.abs(all_biases['Frasier_2021-03-19_wet_bias']),'b--')\n",
    "\n",
    "ax[0].plot(all_biases.C, np.abs(all_biases['Dry_Creek_2020-02-19_bias']),'y', label = 'Dry Creek 2020')\n",
    "ax[0].plot(all_biases.C, np.abs(all_biases['Dry_Creek_2020-02-19_wet_bias']),'y--')\n",
    "\n",
    "ax[0].plot(all_biases.C, np.abs(all_biases['Banner_2020-02-18_bias']),'c', label = 'Banner 2020')\n",
    "ax[0].plot(all_biases.C, np.abs(all_biases['Banner_2020-02-18_wet_bias']),'c--')\n",
    "\n",
    "ax[0].plot(all_biases.C, np.abs(all_biases['Cameron_2021-03-19_bias']),'k', label = 'Cameron 2021')\n",
    "ax[0].plot(all_biases.C, np.abs(all_biases['Cameron_2021-03-19_wet_bias']),'k--', label = 'Wet snow masked')\n",
    "\n",
    "ax[0].legend()\n",
    "ax[0].set_xlabel('C parameter')\n",
    "ax[0].set_ylabel('abs(bias) (m)')\n",
    "\n",
    "ax[1].plot(all_biases.C, np.abs(all_biases['Mores_2021-03-15_rmse']),'r', label = 'Mores 2021')\n",
    "ax[1].plot(all_biases.C, np.abs(all_biases['Mores_2021-03-15_wet_rmse']),'r--')\n",
    "\n",
    "ax[1].plot(all_biases.C, np.abs(all_biases['Mores_2020-02-09_rmse']),'m', label = 'Mores 2020')\n",
    "ax[1].plot(all_biases.C, np.abs(all_biases['Mores_2020-02-09_wet_rmse']),'m--')\n",
    "\n",
    "ax[1].plot(all_biases.C, np.abs(all_biases['Little_Cottonwood_2021-03-18_rmse']),'g', label = 'L Cottonwood 2021')\n",
    "ax[1].plot(all_biases.C, np.abs(all_biases['Little_Cottonwood_2021-03-18_wet_rmse']),'g--')\n",
    "\n",
    "ax[1].plot(all_biases.C, np.abs(all_biases['Frasier_2021-03-19_rmse']),'b', label = 'Frasier 2021')\n",
    "ax[1].plot(all_biases.C, np.abs(all_biases['Frasier_2021-03-19_wet_rmse']),'b--')\n",
    "\n",
    "ax[1].plot(all_biases.C, np.abs(all_biases['Dry_Creek_2020-02-19_rmse']),'y', label = 'Dry Creek 2020')\n",
    "ax[1].plot(all_biases.C, np.abs(all_biases['Dry_Creek_2020-02-19_wet_rmse']),'y--')\n",
    "\n",
    "ax[1].plot(all_biases.C, np.abs(all_biases['Banner_2020-02-18_rmse']),'c', label = 'Banner 2020')\n",
    "ax[1].plot(all_biases.C, np.abs(all_biases['Banner_2020-02-18_wet_rmse']),'c--')\n",
    "\n",
    "ax[1].plot(all_biases.C, np.abs(all_biases['Cameron_2021-03-19_rmse']),'k', label = 'Cameron 2021')\n",
    "ax[1].plot(all_biases.C, np.abs(all_biases['Cameron_2021-03-19_wet_rmse']),'k--', label = 'Wet snow masked')\n",
    "\n",
    "ax[1].legend()\n",
    "ax[1].set_xlabel('C parameter')\n",
    "ax[1].set_ylabel('RMSE (m)')\n",
    "\n",
    "plt.savefig('/projects/dedu0223/spicy-snow/images/bias_rmse_opt.png')\n"
   ]
  },
  {
   "cell_type": "code",
   "execution_count": null,
   "metadata": {},
   "outputs": [],
   "source": [
    "all_biases['Frasier_2020-02-11_bias']"
   ]
  },
  {
   "cell_type": "code",
   "execution_count": null,
   "metadata": {},
   "outputs": [],
   "source": [
    "import pickle"
   ]
  },
  {
   "cell_type": "code",
   "execution_count": null,
   "metadata": {},
   "outputs": [],
   "source": [
    "with open('param_opt_bias.p', 'wb') as f:\n",
    "    pickle.dump(all_biases, f)"
   ]
  },
  {
   "cell_type": "code",
   "execution_count": null,
   "metadata": {},
   "outputs": [],
   "source": [
    "# dataset_lowf = dataset.where((dataset.fcf<0.25))\n",
    "# dataset_midf = dataset.where((dataset.fcf<0.75) & (dataset.fcf>0.25))\n",
    "# dataset_highf = dataset.where((dataset.fcf>0.75))\n",
    "\n",
    "# all_datasets = [dataset_lowf, dataset_midf, dataset_highf, dataset]\n",
    "# all_rmse_datasets = list()\n",
    "\n",
    "#         for row in dfC.iterrows():\n",
    "#                 rmse_wet_flag.loc[a, b, row[1].C] = row[1].rmse_wet\n",
    "#                 rmse_no_flag.loc[a, b, row[1].C] = row[1].rmse\n",
    "                \n",
    "#     all_rmse_datasets.append(rmse_wet_flag)"
   ]
  },
  {
   "cell_type": "code",
   "execution_count": null,
   "metadata": {},
   "outputs": [],
   "source": [
    "fig, ax = plt.subplots(1,3,figsize = (20,5))\n",
    "\n",
    "ax[0].pcolormesh(closest_ds.x, closest_ds.y, lidar, vmin = 0, vmax = 4)\n",
    "ax[1].pcolormesh(closest_ds.x, closest_ds.y, s1, vmin = 0, vmax = 4)\n",
    "ax[2].pcolormesh(closest_ds.x, closest_ds.y, lidar - s1, vmin = -2, vmax = 2, cmap = 'RdBu')"
   ]
  },
  {
   "cell_type": "code",
   "execution_count": null,
   "metadata": {},
   "outputs": [],
   "source": [
    "fig, ax = plt.subplots(2,4, figsize = (20,8))\n",
    "titles = ['fcf < 0.25, A=1', '0.25 < fcf < 0.75, A=1', 'fcf > 0.75, A=1', 'all data, A=1']\n",
    "\n",
    "for i in range(len(all_rmse_datasets)):\n",
    "    d1 = all_datasets[i]\n",
    "    ax[0,i].pcolormesh(d1.x, d1.y, d1['lidar-sd'], vmin = 0, vmax = 4)\n",
    "    ax[0,i].set_title(titles[i])\n",
    "    \n",
    "    d = all_rmse_datasets[i].sel(A=1)\n",
    "    ax[1,i].pcolormesh(d.C, d.B, d)\n",
    "    ax[1,i].set_xlabel('C')\n",
    "    ax[1,i].set_ylabel('B')\n",
    "\n"
   ]
  },
  {
   "cell_type": "markdown",
   "metadata": {},
   "source": []
  }
 ],
 "metadata": {
  "kernelspec": {
   "display_name": "csnow",
   "language": "python",
   "name": "csnow"
  },
  "language_info": {
   "codemirror_mode": {
    "name": "ipython",
    "version": 3
   },
   "file_extension": ".py",
   "mimetype": "text/x-python",
   "name": "python",
   "nbconvert_exporter": "python",
   "pygments_lexer": "ipython3",
   "version": "3.11.2"
  }
 },
 "nbformat": 4,
 "nbformat_minor": 4
}
