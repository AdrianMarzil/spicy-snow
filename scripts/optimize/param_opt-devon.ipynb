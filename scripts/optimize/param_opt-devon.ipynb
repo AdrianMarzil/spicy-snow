{
 "cells": [
  {
   "cell_type": "code",
   "execution_count": null,
   "metadata": {},
   "outputs": [],
   "source": [
    "import xarray as xr\n",
    "import matplotlib.pyplot as plt\n",
    "import pandas as pd\n",
    "import numpy as np\n",
    "from pathlib import Path\n",
    "from glob import glob\n",
    "from datetime import datetime\n",
    "import sys\n",
    "import itertools\n",
    "import dask\n",
    "import dask.dataframe as dd \n",
    "\n",
    "sys.path.append('/projects/dedu0223/spicy-snow/')\n",
    "\n",
    "from spicy_snow.processing.snow_index import calc_delta_cross_ratio, calc_delta_gamma, \\\n",
    "    clip_delta_gamma_outlier, calc_snow_index, calc_snow_index_to_snow_depth\n",
    "from spicy_snow.processing.wet_snow import id_newly_wet_snow, id_wet_negative_si, \\\n",
    "    id_newly_frozen_snow, flag_wet_snow\n"
   ]
  },
  {
   "cell_type": "code",
   "execution_count": null,
   "metadata": {},
   "outputs": [],
   "source": [
    "def add_s1_depths(row):\n",
    "    c = row.C\n",
    "    #print(f'    {c}')\n",
    "    \n",
    "    ds = calc_snow_index_to_snow_depth(dsB, C=c, inplace=False)\n",
    "    rmse_wet, rmse = get_rmse(ds, closest_ts)\n",
    "    return rmse_wet, rmse\n",
    "\n",
    "def get_rmse(ds, closest_ts):\n",
    "    mask_wet = ~(pd.isnull(ds['lidar-sd']) | pd.isnull(ds['snow_depth'].sel(time=closest_ts)) | \n",
    "                        ds['wet_snow'].sel(time=closest_ts).astype(bool))\n",
    "    diff_wet = ds['lidar-sd'].where(mask_wet) - ds['snow_depth'].sel(time=closest_ts).where(mask_wet)\n",
    "    rmse_wet = float(np.sqrt((diff_wet**2).sum()/len(diff_wet.values.flatten())))\n",
    "\n",
    "    \n",
    "                # Compare snow depths - no wet snow mask\n",
    "    mask = ~(pd.isnull(ds['lidar-sd']) | pd.isnull(ds['snow_depth'].sel(time=closest_ts)))\n",
    "    diff = ds['lidar-sd'].where(mask) - ds['snow_depth'].sel(time=closest_ts).where(mask)\n",
    "    rmse = float(np.sqrt((diff**2).sum()/len(diff.values.flatten())))\n",
    "    \n",
    "    return rmse_wet, rmse\n",
    "\n",
    "def change_b(ds, b):\n",
    "    ds = calc_delta_gamma(dsA, B=b, inplace=False)\n",
    "    ds = clip_delta_gamma_outlier(ds)\n",
    "    ds = calc_snow_index(ds)\n",
    "    ds = id_newly_wet_snow(ds)\n",
    "    ds = id_wet_negative_si(ds)\n",
    "    ds = id_newly_frozen_snow(ds)\n",
    "    ds = flag_wet_snow(ds)\n",
    "    return ds"
   ]
  },
  {
   "cell_type": "code",
   "execution_count": null,
   "metadata": {},
   "outputs": [],
   "source": [
    "A = np.arange(1, 3.1, 0.5)\n",
    "B = np.arange(0, 2, 0.2)\n",
    "C = np.arange(0, 2, 0.1)\n",
    "\n",
    "ABC = [A, B, C]\n",
    "df = pd.DataFrame(columns=['A', 'B', 'C'])\n",
    "for item in list(itertools.product(*ABC)):\n",
    "    a = item[0]\n",
    "    b = item[1]\n",
    "    c = item[2]\n",
    "    \n",
    "    df2 = pd.DataFrame({'A': [a], 'B':[b], 'C': [c]})\n",
    "    df = pd.concat([df, df2], ignore_index = True)\n",
    "    \n",
    "rmse_wet_flag = xr.DataArray(np.empty((len(A), len(B), len(C)))*np.nan,\n",
    "                        coords=(A, B, C), dims=('A','B','C'))\n",
    "rmse_no_flag = xr.DataArray(np.empty((len(A), len(B), len(C)))*np.nan,\n",
    "                        coords=(A, B, C), dims=('A','B','C'))"
   ]
  },
  {
   "cell_type": "code",
   "execution_count": null,
   "metadata": {},
   "outputs": [],
   "source": [
    "# %%time\n",
    "files = sorted(glob('/projects/dedu0223/snow_ex_data/*.nc'))\n",
    "\n",
    "for f in files[0:1]:\n",
    "    ds_name = f.split('stacks/')[-1].split('.')[0]\n",
    "    print(datetime.now(), f' -- starting {ds_name}')\n",
    "    \n",
    "    ds_ = xr.open_dataset(f).load() # Open dataset \n",
    "\n",
    "    \n",
    "    dataset = ds_[['s1','deltaVV','ims','fcf','lidar-sd']]\n",
    "    dataset = dataset.where((dataset.fcf>0.75))# & (dataset.fcf>0.25))\n",
    "    \n",
    "    td = abs(pd.to_datetime(dataset.time) - pd.to_datetime(dataset.attrs['lidar-flight-time']))\n",
    "    closest_ts_idx = np.where(td == td.min())[0][0]\n",
    "    closest_ts = dataset.time[closest_ts_idx]\n",
    "    # Initialize RMSE arrays"
   ]
  },
  {
   "cell_type": "code",
   "execution_count": null,
   "metadata": {},
   "outputs": [],
   "source": [
    "a=1\n",
    "for a in A:\n",
    "    dsA = calc_delta_cross_ratio(dataset, A=a, inplace=False)\n",
    "    for b in B:\n",
    "        print(a,b)\n",
    "        dsB = change_b(dsA, b)\n",
    "        dfC = pd.DataFrame({'C':C})\n",
    "\n",
    "        ddf = dd.from_pandas(dfC, npartitions=8)\n",
    "        output_series = ddf.apply(add_s1_depths, axis=1, result_type='expand', meta=({0: float, 1: float}))\n",
    "        output_series = output_series.compute()\n",
    "\n",
    "        dfC['rmse_wet'] = output_series[0]\n",
    "        dfC['rmse'] = output_series[1]\n",
    "\n",
    "        for row in dfC.iterrows():\n",
    "            rmse_wet_flag.loc[a, b, row[1].C] = row[1].rmse_wet\n",
    "            rmse_no_flag.loc[a, b, row[1].C] = row[1].rmse"
   ]
  },
  {
   "cell_type": "code",
   "execution_count": null,
   "metadata": {},
   "outputs": [],
   "source": [
    "plt.figure(figsize = (20,8))\n",
    "colors = ['r','b','g']\n",
    "alphas = [0,.1,.2,.3,.4,0.5,0.6,0.7,.8,.9,1]\n",
    "for i in range(3):\n",
    "    ds_temp = rmse_wet_flag.isel(A=i)\n",
    "    for j in range(len(B)):\n",
    "        ds_temp2 = ds_temp.isel(B=j)\n",
    "        plt.plot(ds_temp2.C, ds_temp2, color = colors[i],alpha = alphas[j], label = f'A:{A[i]}, B:{B[j]}' )\n",
    "        \n",
    "plt.xlabel('C')\n",
    "plt.ylabel('RMSE')\n",
    "plt.legend()\n",
    "plt.xlim([-0.1,1.41])"
   ]
  },
  {
   "cell_type": "code",
   "execution_count": null,
   "metadata": {},
   "outputs": [],
   "source": [
    "rmse_wet_flag.sel(A=1)"
   ]
  },
  {
   "cell_type": "code",
   "execution_count": null,
   "metadata": {},
   "outputs": [],
   "source": [
    "# %%time\n",
    "files = sorted(glob('/Users/w76m851/OneDrive - Montana State University/spicy_s1_stacks/*.nc'))\n",
    "\n",
    "# # Create parameter space\n",
    "# A = [2]\n",
    "# B = [0.5]\n",
    "# C = [0.44]\n",
    "\n",
    "# ds_list = []\n",
    "# rmse_default = []\n",
    "\n",
    "# for f in files:\n",
    "#     ds_name = f.split('stacks/')[-1].split('.')[0]\n",
    "#     print(datetime.now(), f' -- starting {ds_name}')\n",
    "#     # Open dataset \n",
    "#     ds_ = xr.open_dataset(f).load()\n",
    "#     dataset = ds_[['s1','deltaVV','ims','fcf','lidar-sd']]\n",
    "#     td = abs(pd.to_datetime(dataset.time) - pd.to_datetime(dataset.attrs['lidar-flight-time']))\n",
    "#     closest_ts_idx = np.where(td == td.min())[0][0]\n",
    "#     closest_ts = dataset.time[closest_ts_idx]\n",
    "    \n",
    "#     # Brute-force loop\n",
    "#     for a in A:\n",
    "#         ds = calc_delta_cross_ratio(dataset, A=a, inplace=False)\n",
    "#         for b in B:\n",
    "#             ds = calc_delta_gamma(ds, B=b, inplace=False)\n",
    "#             for c in C:\n",
    "#                 # print(f'A={a}; B={b}; C={c}')\n",
    "#                 ds = clip_delta_gamma_outlier(ds)\n",
    "#                 ds = calc_snow_index(ds)\n",
    "#                 ds = calc_snow_index_to_snow_depth(ds, C=c, inplace=False)\n",
    "#                 ds = id_newly_wet_snow(ds)\n",
    "#                 ds = id_wet_negative_si(ds)\n",
    "#                 ds = id_newly_frozen_snow(ds)\n",
    "#                 ds = flag_wet_snow(ds)\n",
    "#                 # Compare snow depths - mask wet snow\n",
    "#                 mask_wet = ~(pd.isnull(ds['lidar-sd']) | pd.isnull(ds['snow_depth'].sel(time=closest_ts)) | \n",
    "#                         ds['wet_snow'].sel(time=closest_ts).astype(bool))\n",
    "#                 diff_wet = ds['lidar-sd'].where(mask_wet) - ds['snow_depth'].sel(time=closest_ts).where(mask_wet)\n",
    "#                 rmse_wet = float(np.sqrt((diff_wet**2).sum()/len(diff_wet.values.flatten())))\n",
    "#                 rmse_default.append(rmse_wet)\n",
    "#                 ds_list.append(ds_name)\n",
    "\n",
    "\n",
    "\n",
    "# res_default = pd.Series(rmse_default, index=ds_list)\n",
    "# res_default"
   ]
  },
  {
   "cell_type": "code",
   "execution_count": null,
   "metadata": {},
   "outputs": [],
   "source": [
    "rmse_default"
   ]
  },
  {
   "cell_type": "code",
   "execution_count": null,
   "metadata": {},
   "outputs": [],
   "source": [
    "results = sorted(glob('rmse_out/*.nc'))\n",
    "res_df = pd.DataFrame(res_default, columns=['rmse_default'])\n",
    "minn, a_list, b_list, c_list, = [], [], [], []\n",
    "for f in results:\n",
    "    if 'no_flag' in f:\n",
    "        continue\n",
    "    r = xr.open_dataarray(f).load()\n",
    "    ds_name = f.split('rmse_out/')[-1]\n",
    "    ds_name = ds_name.split('_wet')[0]\n",
    "    try:\n",
    "        rmse_min = r.min().values[0]\n",
    "    except IndexError:\n",
    "        rmse_min = float(r.min().values)\n",
    "    minn.append(rmse_min)\n",
    "    if r.min() > 0:\n",
    "        a, b, c, = [int(i) for i in np.where(r == r.min())]\n",
    "    else:\n",
    "        a, b, c = 0, 0, 0 \n",
    "    a_list.append(float(r['A'][a].values))\n",
    "    b_list.append(float(r['B'][b].values))\n",
    "    c_list.append(float(r['C'][c].values))\n",
    "\n",
    "res_df['rmse_opt'] = minn\n",
    "res_df['pct_change'] = (res_df['rmse_default'] - res_df['rmse_opt']) / res_df['rmse_default']\n",
    "res_df['A_opt'] = a_list\n",
    "res_df['B_opt'] = b_list\n",
    "res_df['C_opt'] = c_list\n",
    "res_df.loc['Frasier_2020-02-11'] = np.nan\n",
    "res_df\n",
    "    "
   ]
  },
  {
   "cell_type": "code",
   "execution_count": null,
   "metadata": {},
   "outputs": [],
   "source": [
    "res_df.to_csv('rmse_out/optimization_results.csv')"
   ]
  },
  {
   "cell_type": "code",
   "execution_count": null,
   "metadata": {},
   "outputs": [],
   "source": [
    "a, b, c, = [int(i) for i in np.where(r == r.min())]\n",
    "a\n"
   ]
  },
  {
   "cell_type": "markdown",
   "metadata": {},
   "source": []
  }
 ],
 "metadata": {
  "kernelspec": {
   "display_name": "csnow",
   "language": "python",
   "name": "csnow"
  },
  "language_info": {
   "codemirror_mode": {
    "name": "ipython",
    "version": 3
   },
   "file_extension": ".py",
   "mimetype": "text/x-python",
   "name": "python",
   "nbconvert_exporter": "python",
   "pygments_lexer": "ipython3",
   "version": "3.11.2"
  },
  "vscode": {
   "interpreter": {
    "hash": "ce4bdd2387e2daa803a7d0f8b0d766d25a1c9eab6b20981c1c0786f34d7ccd75"
   }
  }
 },
 "nbformat": 4,
 "nbformat_minor": 4
}
