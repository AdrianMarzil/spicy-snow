{
 "cells": [
  {
   "cell_type": "code",
   "execution_count": null,
   "id": "afa29c01-1fac-4957-b4ac-17150a4b5921",
   "metadata": {},
   "outputs": [],
   "source": [
    "import sys\n",
    "from pathlib import Path\n",
    "\n",
    "# Add main repo to path if you haven't added with conda-develop\n",
    "# import sys\n",
    "sys.path.append('/home/jovyan/spicy-snow')\n",
    "\n",
    "from spicy_snow.retrieval import retrieve_snow_depth\n",
    "from spicy_snow.IO.user_dates import get_input_dates\n",
    "\n",
    "# change to your minimum longitude, min lat, max long, max lat\n",
    "from shapely import geometry\n",
    "import json\n",
    "\n",
    "with open(\"east_river_basin_wgs.geojson\") as f:\n",
    "    er_geojson = json.load(f)[\"features\"][0]\n",
    "    \n",
    "area = geometry.shape(er_geojson['geometry'])\n",
    "area = list(area.geoms)[0]\n",
    "\n",
    "year = '2022'\n",
    "\n",
    "out_nc = Path(f'/home/jovyan/spicy-snow/er_test/er_{year}.nc').expanduser()\n",
    "\n",
    "# this will generate a tuple of dates from the previous August 1st to this date\n",
    "dates = get_input_dates(f'{year}-07-31') # run on all s1 images from (2020-08-01, 2021-04-01) in this example\n",
    "\n",
    "spicy_ds = retrieve_snow_depth(area = area, dates = dates, \n",
    "                               work_dir = Path('/tmp/er_test/').expanduser(), \n",
    "                               job_name = f'er_{year}_test',\n",
    "                               existing_job_name = f'er_{year}_test',\n",
    "                               debug=False,\n",
    "                               outfp=out_nc)"
   ]
  }
 ],
 "metadata": {
  "kernelspec": {
   "display_name": "Python 3 (ipykernel)",
   "language": "python",
   "name": "python3"
  },
  "language_info": {
   "codemirror_mode": {
    "name": "ipython",
    "version": 3
   },
   "file_extension": ".py",
   "mimetype": "text/x-python",
   "name": "python",
   "nbconvert_exporter": "python",
   "pygments_lexer": "ipython3",
   "version": "3.10.10"
  }
 },
 "nbformat": 4,
 "nbformat_minor": 5
}
