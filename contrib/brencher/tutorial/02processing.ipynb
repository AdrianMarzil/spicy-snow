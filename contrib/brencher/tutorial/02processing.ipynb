{
 "cells": [
  {
   "cell_type": "markdown",
   "id": "a75f236a-877c-434f-b976-1f4b57939888",
   "metadata": {},
   "source": [
    "# Processing\n",
    "George Brencher, some code from Zach Keskinen, Daniel Hogan \n",
    "\n",
    "-----------------------------------------------------"
   ]
  },
  {
   "cell_type": "markdown",
   "id": "cd688f47-11e8-40c5-8fdd-c9b91b2de4b5",
   "metadata": {},
   "source": [
    "This notebook walks through the few steps needed to retrieve snow depth for a given date range and area of interest with spicy-snow. It can be applied for most land surfaces on earth with seasonal snow. First, install spicy-snow:"
   ]
  },
  {
   "cell_type": "code",
   "execution_count": 1,
   "id": "4b9d9b3c-0cb2-4bd9-a772-d14fc7b5a100",
   "metadata": {
    "scrolled": true,
    "tags": []
   },
   "outputs": [],
   "source": [
    "# # install spicy-snow in the current Jupyter kernel\n",
    "# import sys\n",
    "# !{sys.executable} -m pip install spicy-snow"
   ]
  },
  {
   "cell_type": "code",
   "execution_count": 2,
   "id": "e49b8e00-08a8-44c4-9eb1-4709f85d1e9b",
   "metadata": {
    "tags": []
   },
   "outputs": [],
   "source": [
    "# import spicy-snow functions and other required packages\n",
    "# depending on your environment, you may need to install some of these\n",
    "from spicy_snow.retrieval import retrieve_snow_depth\n",
    "from spicy_snow.IO.user_dates import get_input_dates\n",
    "import geopandas as gpd\n",
    "from pathlib import Path\n",
    "from shapely import geometry\n",
    "# for optional plotting\n",
    "import contextily as cx \n",
    "import matplotlib.pyplot as plt"
   ]
  },
  {
   "cell_type": "markdown",
   "id": "2929573f-f2bc-4e15-bb80-323a3b64682a",
   "metadata": {},
   "source": [
    "Next, we need to define our area of interest. This can be done directly with a latitude and longitude range or with a geojson. In this case, we're using the geojson for the Upper East River Basin near Crested Butte in Colorado. "
   ]
  },
  {
   "cell_type": "code",
   "execution_count": 3,
   "id": "afa29c01-1fac-4957-b4ac-17150a4b5921",
   "metadata": {},
   "outputs": [],
   "source": [
    "# to use lat-lon range for aoi\n",
    "#area = geometry.box(-113.2, 43, -113, 43.4)\n",
    "\n",
    "# to use geojson for aoi\n",
    "# geojson is expected to be in wgs84. \n",
    "area_gdf = gpd.read_file('./east_river_basin_wgs.geojson')\n",
    "area = list(area_gdf.geometry)[0].envelope # convert feature to box for search"
   ]
  },
  {
   "cell_type": "code",
   "execution_count": null,
   "id": "e7a3d889-76eb-4c59-ad85-6dfd12d3c145",
   "metadata": {
    "tags": []
   },
   "outputs": [],
   "source": [
    "# Plot aoi\n",
    "fig, ax = plt.subplots(figsize=(12,12))\n",
    "area_gdf.plot(ax=ax,\n",
    "              color='darkgrey',\n",
    "              alpha=0.3)\n",
    "area_gdf.boundary.plot(ax=ax,\n",
    "                       color='k')\n",
    "\n",
    "cx.add_basemap(ax=ax, crs=area_gdf.crs.to_string(), source=cx.providers.OpenTopoMap);\n",
    "ax.set_xlabel('longitude');\n",
    "ax.set_ylabel('latitude');\n",
    "ax.set_title('AOI location');"
   ]
  },
  {
   "cell_type": "markdown",
   "id": "7da9785f-ab1e-4cdc-820f-eac66134a62f",
   "metadata": {},
   "source": [
    "Now, we need to set a date range for the snow depth time series. By default, this date range will start at the previous August 1, since the first Sentinel-1 acquisition needs to be snow-free. This can be changed if a different snow-free start date is more appropriate. "
   ]
  },
  {
   "cell_type": "code",
   "execution_count": null,
   "id": "20e30ef5-e7f8-4589-a6cd-759c13bc3513",
   "metadata": {
    "tags": []
   },
   "outputs": [],
   "source": [
    "# this will generate a tuple of dates from the previous August 1st to this date\n",
    "dates = get_input_dates('2021-07-31') # run on all S1 images from 2020-08-01 through 2021-07-31"
   ]
  },
  {
   "cell_type": "markdown",
   "id": "f73f3c85-25dd-4ee4-b700-7cdfebfead83",
   "metadata": {},
   "source": [
    "We can now run spicy-snow with the retrieve_snow_depth function. By default, spicy-snow uses parameters optimized to ASO lidar snow depths from various sites in the western US.\n",
    "\n",
    "If you don't have your Earthdata login information in a .netrc file in your home directory, you will be prompted for that information after running the cell. \n",
    "\n",
    "WARNING: this processing can use signficant memory, especially for a larger aoi/longer date range. This example aoi is ~125 square km and uses ~20G of RAM to process a full year. "
   ]
  },
  {
   "cell_type": "code",
   "execution_count": null,
   "id": "14c966d6-2233-48e5-b9c8-91af22abeec0",
   "metadata": {},
   "outputs": [],
   "source": [
    "# define output directory and file name\n",
    "out_nc = Path(f'.data/sd_{dates[0]}_{dates[1]}.nc').expanduser()\n",
    "\n",
    "# spicy_ds = retrieve_snow_depth(area = area, dates = dates, \n",
    "#                                work_dir = Path('/tmp/er_test/').expanduser(), \n",
    "#                                job_name = f'sd_{dates[0]}_{dates[1]}',\n",
    "#                                existing_job_name = f'sd_{dates[0]}_{dates[1]}',\n",
    "#                                debug=False,\n",
    "#                                outfp=out_nc)"
   ]
  }
 ],
 "metadata": {
  "kernelspec": {
   "display_name": "Python 3 (ipykernel)",
   "language": "python",
   "name": "python3"
  },
  "language_info": {
   "codemirror_mode": {
    "name": "ipython",
    "version": 3
   },
   "file_extension": ".py",
   "mimetype": "text/x-python",
   "name": "python",
   "nbconvert_exporter": "python",
   "pygments_lexer": "ipython3",
   "version": "3.10.10"
  }
 },
 "nbformat": 4,
 "nbformat_minor": 5
}
