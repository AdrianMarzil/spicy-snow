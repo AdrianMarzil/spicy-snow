{
 "cells": [
  {
   "cell_type": "markdown",
   "id": "942c84f0-6888-4c4e-856c-dc4b68fb4614",
   "metadata": {},
   "source": [
    "# Background"
   ]
  },
  {
   "cell_type": "markdown",
   "id": "20d24da3-767a-4d2c-a2b4-9549f1d35e24",
   "metadata": {},
   "source": [
    "## Why snow depth with Sentinel 1?"
   ]
  },
  {
   "cell_type": "markdown",
   "id": "a2093119-5c4e-455b-abc0-5454989eab6b",
   "metadata": {},
   "source": [
    "## How does the snow depth retrieval algorithm work?"
   ]
  },
  {
   "cell_type": "markdown",
   "id": "6a9d62b2-f05b-48bf-8a88-36078b92bcd2",
   "metadata": {},
   "source": [
    "## How does spicy-snow implement the snow depth retrieval algorithm?"
   ]
  },
  {
   "cell_type": "markdown",
   "id": "273be0cf-53bf-4ade-80b1-6ba6c9226311",
   "metadata": {},
   "source": [
    "## Should I use spicy-snow to get snow depths for my site?"
   ]
  }
 ],
 "metadata": {
  "kernelspec": {
   "display_name": "Python 3 (ipykernel)",
   "language": "python",
   "name": "python3"
  },
  "language_info": {
   "codemirror_mode": {
    "name": "ipython",
    "version": 3
   },
   "file_extension": ".py",
   "mimetype": "text/x-python",
   "name": "python",
   "nbconvert_exporter": "python",
   "pygments_lexer": "ipython3",
   "version": "3.10.10"
  }
 },
 "nbformat": 4,
 "nbformat_minor": 5
}
