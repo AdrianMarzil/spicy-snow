{
 "cells": [
  {
   "cell_type": "code",
   "execution_count": null,
   "id": "f4eebad3-7f73-4204-a501-a342f4cb58cf",
   "metadata": {},
   "outputs": [],
   "source": [
    "# # install spicy-snow in the current Jupyter kernel\n",
    "# import sys\n",
    "# !{sys.executable} -m pip install spicy-snow"
   ]
  },
  {
   "cell_type": "code",
   "execution_count": 1,
   "id": "e93ada8b-9e29-4131-9a96-69a325022016",
   "metadata": {},
   "outputs": [],
   "source": [
    "# import spicy-snow functions and other required packages\n",
    "# depending on your environment, you may need to install some of these\n",
    "from spicy_snow.retrieval import retrieve_snow_depth\n",
    "from spicy_snow.IO.user_dates import get_input_dates\n",
    "import geopandas as gpd\n",
    "from pathlib import Path\n",
    "from shapely import geometry\n",
    "# for optional plotting\n",
    "import contextily as cx \n",
    "import matplotlib.pyplot as plt\n",
    "import xarray as xr"
   ]
  },
  {
   "cell_type": "code",
   "execution_count": 2,
   "id": "693902b0-f7bf-4aec-be8e-efbb2b89132c",
   "metadata": {},
   "outputs": [],
   "source": [
    "# to use lat-lon range for aoi\n",
    "#area = geometry.box(-113.2, 43, -113, 43.4)\n",
    "\n",
    "# to use geojson for aoi\n",
    "# geojson is expected to be in wgs84. \n",
    "area_gdf = gpd.read_file('./erb_pumphouse_wgs.geojson')\n",
    "area = list(area_gdf.geometry)[0].envelope # convert feature to box for search"
   ]
  },
  {
   "cell_type": "code",
   "execution_count": null,
   "id": "b323e68d-bbd5-42c8-81ee-d8caea923011",
   "metadata": {},
   "outputs": [],
   "source": [
    "# Plot aoi\n",
    "fig, ax = plt.subplots(figsize=(12,12))\n",
    "area_gdf.plot(ax=ax,\n",
    "              color='darkgrey',\n",
    "              alpha=0.3)\n",
    "area_gdf.boundary.plot(ax=ax,\n",
    "                       color='k')\n",
    "\n",
    "cx.add_basemap(ax=ax, crs=area_gdf.crs.to_string(), source=cx.providers.OpenTopoMap);\n",
    "ax.set_xlabel('longitude');\n",
    "ax.set_ylabel('latitude');\n",
    "ax.set_title('AOI location');"
   ]
  },
  {
   "cell_type": "code",
   "execution_count": null,
   "id": "2919fbd3-66d2-4390-a8e1-70372eb2ef90",
   "metadata": {
    "scrolled": true
   },
   "outputs": [],
   "source": [
    "# this will generate a tuple of dates from the previous August 1st to this date\n",
    "dates = get_input_dates('2017-07-31') # run on all S1 images from 2020-08-01 through 2021-07-31\n",
    "\n",
    "# define output directory and file name\n",
    "out_nc = Path(f'data/sd_{dates[0]}_{dates[1]}.nc').expanduser()\n",
    "\n",
    "spicy_ds = retrieve_snow_depth(area = area, dates = dates, \n",
    "                               work_dir = Path('./tmp').expanduser(), \n",
    "                               job_name = f'sd_{dates[0]}_{dates[1]}',\n",
    "                               existing_job_name = f'sd_{dates[0]}_{dates[1]}',\n",
    "                               debug=True,\n",
    "                               outfp=out_nc)"
   ]
  },
  {
   "cell_type": "code",
   "execution_count": null,
   "id": "7c58439e-d995-477f-88a0-b6da56da90c9",
   "metadata": {},
   "outputs": [],
   "source": [
    "# this will generate a tuple of dates from the previous August 1st to this date\n",
    "dates = get_input_dates('2018-07-31') # run on all S1 images from 2020-08-01 through 2021-07-31\n",
    "\n",
    "# define output directory and file name\n",
    "out_nc = Path(f'data/sd_{dates[0]}_{dates[1]}.nc').expanduser()\n",
    "\n",
    "spicy_ds = retrieve_snow_depth(area = area, dates = dates, \n",
    "                               work_dir = Path('./tmp').expanduser(), \n",
    "                               job_name = f'sd_{dates[0]}_{dates[1]}',\n",
    "                               existing_job_name = f'sd_{dates[0]}_{dates[1]}',\n",
    "                               debug=False,\n",
    "                               outfp=out_nc)"
   ]
  },
  {
   "cell_type": "code",
   "execution_count": null,
   "id": "6ef0dd1b-d01c-4e2a-8c0a-9e2172063680",
   "metadata": {},
   "outputs": [],
   "source": [
    "!rm -r ./tmp/*"
   ]
  },
  {
   "cell_type": "code",
   "execution_count": null,
   "id": "9df6d5f5-9238-478d-aad2-0bb52da2e3c2",
   "metadata": {},
   "outputs": [],
   "source": [
    "# this will generate a tuple of dates from the previous August 1st to this date\n",
    "dates = get_input_dates('2019-07-31') # run on all S1 images from 2020-08-01 through 2021-07-31\n",
    "\n",
    "# define output directory and file name\n",
    "out_nc = Path(f'data/sd_{dates[0]}_{dates[1]}.nc').expanduser()\n",
    "\n",
    "spicy_ds = retrieve_snow_depth(area = area, dates = dates, \n",
    "                               work_dir = Path('./tmp').expanduser(), \n",
    "                               job_name = f'sd_{dates[0]}_{dates[1]}',\n",
    "                               existing_job_name = f'sd_{dates[0]}_{dates[1]}',\n",
    "                               debug=False,\n",
    "                               outfp=out_nc)"
   ]
  },
  {
   "cell_type": "code",
   "execution_count": null,
   "id": "db402261-9a42-4d0f-a257-30f74a594783",
   "metadata": {},
   "outputs": [],
   "source": [
    "!rm -r ./tmp/*"
   ]
  },
  {
   "cell_type": "code",
   "execution_count": null,
   "id": "4084b1cc-e74e-4fd4-b9b9-8413398892ce",
   "metadata": {},
   "outputs": [],
   "source": [
    "# this will generate a tuple of dates from the previous August 1st to this date\n",
    "dates = get_input_dates('2020-07-31') # run on all S1 images from 2020-08-01 through 2021-07-31\n",
    "\n",
    "# define output directory and file name\n",
    "out_nc = Path(f'data/sd_{dates[0]}_{dates[1]}.nc').expanduser()\n",
    "\n",
    "spicy_ds = retrieve_snow_depth(area = area, dates = dates, \n",
    "                               work_dir = Path('./tmp').expanduser(), \n",
    "                               job_name = f'sd_{dates[0]}_{dates[1]}',\n",
    "                               existing_job_name = f'sd_{dates[0]}_{dates[1]}',\n",
    "                               debug=False,\n",
    "                               outfp=out_nc)"
   ]
  },
  {
   "cell_type": "code",
   "execution_count": null,
   "id": "766c2d4e-6293-4e06-bbf7-2f5185a1965d",
   "metadata": {},
   "outputs": [],
   "source": [
    "!rm -r ./tmp/*"
   ]
  },
  {
   "cell_type": "code",
   "execution_count": null,
   "id": "b898a748-ce8a-4d9b-88c2-ffe43e2874b7",
   "metadata": {},
   "outputs": [],
   "source": [
    "# this will generate a tuple of dates from the previous August 1st to this date\n",
    "dates = get_input_dates('2021-07-31') # run on all S1 images from 2020-08-01 through 2021-07-31\n",
    "\n",
    "# define output directory and file name\n",
    "out_nc = Path(f'data/sd_{dates[0]}_{dates[1]}.nc').expanduser()\n",
    "\n",
    "spicy_ds = retrieve_snow_depth(area = area, dates = dates, \n",
    "                               work_dir = Path('./tmp').expanduser(), \n",
    "                               job_name = f'sd_{dates[0]}_{dates[1]}',\n",
    "                               existing_job_name = f'sd_{dates[0]}_{dates[1]}',\n",
    "                               debug=False,\n",
    "                               outfp=out_nc)"
   ]
  },
  {
   "cell_type": "code",
   "execution_count": null,
   "id": "65bbfc7b-e4d1-4d36-b1d9-c6c61da770fb",
   "metadata": {},
   "outputs": [],
   "source": [
    "!rm -r ./tmp/*"
   ]
  },
  {
   "cell_type": "code",
   "execution_count": null,
   "id": "c6618fed-40f6-43e1-83a5-52636eb8e0e4",
   "metadata": {},
   "outputs": [],
   "source": [
    "# this will generate a tuple of dates from the previous August 1st to this date\n",
    "dates = get_input_dates('2022-07-31') # run on all S1 images from 2020-08-01 through 2021-07-31\n",
    "\n",
    "# define output directory and file name\n",
    "out_nc = Path(f'data/sd_{dates[0]}_{dates[1]}.nc').expanduser()\n",
    "\n",
    "spicy_ds = retrieve_snow_depth(area = area, dates = dates, \n",
    "                               work_dir = Path('./tmp').expanduser(), \n",
    "                               job_name = f'sd_{dates[0]}_{dates[1]}',\n",
    "                               existing_job_name = f'sd_{dates[0]}_{dates[1]}',\n",
    "                               debug=False,\n",
    "                               outfp=out_nc)"
   ]
  },
  {
   "cell_type": "code",
   "execution_count": null,
   "id": "e3229816-99ad-40ff-a32c-194b9658a494",
   "metadata": {},
   "outputs": [],
   "source": [
    "!rm -r ./tmp/*"
   ]
  },
  {
   "cell_type": "code",
   "execution_count": null,
   "id": "ff811b5e-c320-48f0-bb36-7ba29adbf01e",
   "metadata": {},
   "outputs": [],
   "source": [
    "# this will generate a tuple of dates from the previous August 1st to this date\n",
    "dates = get_input_dates('2023-07-31') # run on all S1 images from 2020-08-01 through 2021-07-31\n",
    "\n",
    "# define output directory and file name\n",
    "out_nc = Path(f'data/sd_{dates[0]}_{dates[1]}.nc').expanduser()\n",
    "\n",
    "spicy_ds = retrieve_snow_depth(area = area, dates = dates, \n",
    "                               work_dir = Path('./tmp').expanduser(), \n",
    "                               job_name = f'sd_{dates[0]}_{dates[1]}',\n",
    "                               existing_job_name = f'sd_{dates[0]}_{dates[1]}',\n",
    "                               debug=False,\n",
    "                               outfp=out_nc)"
   ]
  },
  {
   "cell_type": "code",
   "execution_count": null,
   "id": "b2070977-62ff-433c-95d5-67e7c219b498",
   "metadata": {},
   "outputs": [],
   "source": [
    "!rm -r ./tmp/*"
   ]
  }
 ],
 "metadata": {
  "kernelspec": {
   "display_name": "Python 3 (ipykernel)",
   "language": "python",
   "name": "python3"
  },
  "language_info": {
   "codemirror_mode": {
    "name": "ipython",
    "version": 3
   },
   "file_extension": ".py",
   "mimetype": "text/x-python",
   "name": "python",
   "nbconvert_exporter": "python",
   "pygments_lexer": "ipython3",
   "version": "3.11.4"
  }
 },
 "nbformat": 4,
 "nbformat_minor": 5
}
