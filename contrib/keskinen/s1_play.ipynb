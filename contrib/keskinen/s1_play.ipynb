{
 "cells": [
  {
   "cell_type": "code",
   "execution_count": 1,
   "metadata": {},
   "outputs": [],
   "source": [
    "import asf_search as asf\n",
    "import pandas as pd\n",
    "import shapely.geometry\n",
    "import xarray"
   ]
  },
  {
   "cell_type": "code",
   "execution_count": 42,
   "metadata": {},
   "outputs": [
    {
     "name": "stdout",
     "output_type": "stream",
     "text": [
      "Help on module asf_search.constants.PRODUCT_TYPE in asf_search.constants:\n",
      "\n",
      "NAME\n",
      "    asf_search.constants.PRODUCT_TYPE - # Sentinel-1\n",
      "\n",
      "DATA\n",
      "    AMPLITUDE = 'AMPLITUDE'\n",
      "    AMPLITUDE_GRD = 'AMPLITUDE_GRD'\n",
      "    COMPLEX = 'COMPLEX'\n",
      "    CSTOKES = 'CSTOKES'\n",
      "    CTIF = 'CTIF'\n",
      "    DEM = 'DEM'\n",
      "    DEM_TIFF = 'DEM_TIFF'\n",
      "    GEOTIFF = 'GEOTIFF'\n",
      "    GRD_HD = 'GRD_HD'\n",
      "    GRD_HS = 'GRD_HS'\n",
      "    GRD_MD = 'GRD_MD'\n",
      "    GRD_MS = 'GRD_MS'\n",
      "    GUNW_AMP = 'GUNW_AMP'\n",
      "    GUNW_CON = 'GUNW_CON'\n",
      "    GUNW_STD = 'GUNW_STD'\n",
      "    GUNW_UNW = 'GUNW_UNW'\n",
      "    GUN_COH = 'GUNW_COH'\n",
      "    INC = 'INC'\n",
      "    INTERFEROMETRY = 'INTERFEROMETRY'\n",
      "    INTERFEROMETRY_GRD = 'INTERFEROMETRY_GRD'\n",
      "    JPG = 'JPG'\n",
      "    KMZ = 'KMZ'\n",
      "    L0 = 'L0'\n",
      "    L1 = 'L1'\n",
      "    L1A_RADAR_HDF5 = 'L1A_Radar_HDF5'\n",
      "    L1A_RADAR_QA = 'L1A_Radar_QA'\n",
      "    L1A_RADAR_RO_HDF5 = 'L1A_Radar_RO_HDF5'\n",
      "    L1A_RADAR_RO_ISO_XML = 'L1A_Radar_RO_ISO_XML'\n",
      "    L1A_RADAR_RO_QA = 'L1A_Radar_RO_QA'\n",
      "    L1B_S0_LOW_RES_HDF5 = 'L1B_S0_LoRes_HDF5'\n",
      "    L1B_S0_LOW_RES_ISO_XML = 'L1B_S0_LoRes_ISO_XML'\n",
      "    L1B_S0_LOW_RES_QA = 'L1B_S0_LoRes_QA'\n",
      "    L1C_S0_HIGH_RES_HDF5 = 'L1C_S0_HiRes_HDF5'\n",
      "    L1C_S0_HIGH_RES_ISO_XML = 'L1C_S0_HiRes_ISO_XML'\n",
      "    L1C_S0_HIGH_RES_QA = 'L1C_S0_HiRes_QA'\n",
      "    L1_0 = 'L1.0'\n",
      "    L1_1 = 'L1.1'\n",
      "    L1_5 = 'L1.5'\n",
      "    L2_2 = 'L2.2'\n",
      "    LSTOKES = 'LSTOKES'\n",
      "    LTIF = 'LTIF'\n",
      "    METADATA = 'METADATA'\n",
      "    METADATA_GRD_HD = 'METADATA_GRD_HD'\n",
      "    METADATA_GRD_HS = 'METADATA_GRD_HS'\n",
      "    METADATA_GRD_MD = 'METADATA_GRD_MD'\n",
      "    METADATA_GRD_MS = 'METADATA_GRD_MS'\n",
      "    METADATA_OCN = 'METADATA_OCN'\n",
      "    METADATA_RAW = 'METADATA_RAW'\n",
      "    METADATA_SLC = 'METADATA_SLC'\n",
      "    OCN = 'OCN'\n",
      "    PAULI = 'PAULI'\n",
      "    PROJECTED = 'PROJECTED'\n",
      "    PROJECTED_ML5X5 = 'PROJECTED_ML5X5'\n",
      "    PSTOKES = 'PSTOKES'\n",
      "    PTIF = 'PTIF'\n",
      "    RAW = 'RAW'\n",
      "    RTC_HIGH_RES = 'RTC_HI_RES'\n",
      "    RTC_LOW_RES = 'RTC_LOW_RES'\n",
      "    SLC = 'SLC'\n",
      "    SLOPE = 'SLOPE'\n",
      "    STOKES = 'STOKES'\n",
      "\n",
      "FILE\n",
      "    /Users/zachkeskinen/miniconda3/envs/spicy/lib/python3.11/site-packages/asf_search/constants/PRODUCT_TYPE.py\n",
      "\n",
      "\n"
     ]
    }
   ],
   "source": [
    "help(asf.constants.PRODUCT_TYPE)"
   ]
  },
  {
   "attachments": {},
   "cell_type": "markdown",
   "metadata": {},
   "source": [
    "# Comparing results between sentinel sat and asf_search. Both seem the same"
   ]
  },
  {
   "cell_type": "code",
   "execution_count": 74,
   "metadata": {},
   "outputs": [
    {
     "name": "stdout",
     "output_type": "stream",
     "text": [
      "21\n"
     ]
    }
   ],
   "source": [
    "area = shapely.geometry.box(43, 6, 43.1, 6.1)\n",
    "dates = ('2018-12-28T00:00:00.000Z', '2020-01-02T00:00:00.000Z')\n",
    "search_results = asf.geo_search(platform = [asf.PLATFORM.SENTINEL1], intersectsWith = area.wkt,\\\n",
    "        start = dates[0], end = dates[1], processingLevel = asf.PRODUCT_TYPE.GRD_HD)\n",
    "print(len(search_results))"
   ]
  },
  {
   "cell_type": "code",
   "execution_count": 75,
   "metadata": {},
   "outputs": [
    {
     "name": "stdout",
     "output_type": "stream",
     "text": [
      "21\n"
     ]
    }
   ],
   "source": [
    "from sentinelsat import SentinelAPI, read_geojson, geojson_to_wkt\n",
    "dates = ('2018-12-28T00:00:00.000Z', '2020-01-02T00:00:00.000Z')\n",
    "api = SentinelAPI('zachkeskinen', 'DR1seuss')\n",
    "footprint = area.wkt\n",
    "products = api.query(footprint, platformname = 'Sentinel-1', producttype = 'GRD', beginposition = dates,\n",
    "                     polarisationmode = 'VV+VH', limit=1000)\n",
    "print(len(products))"
   ]
  },
  {
   "cell_type": "code",
   "execution_count": 1,
   "metadata": {},
   "outputs": [],
   "source": [
    "from shapely.geometry import box\n",
    "area = box(-114.4, 43, -114.3, 43.1)"
   ]
  },
  {
   "cell_type": "code",
   "execution_count": 4,
   "metadata": {},
   "outputs": [
    {
     "data": {
      "text/plain": [
       "(-114.4, 43.0, -114.3, 43.1)"
      ]
     },
     "execution_count": 4,
     "metadata": {},
     "output_type": "execute_result"
    }
   ],
   "source": [
    "area.bounds[3] < 90\n",
    "area.bounds[1] > 0\n",
    "area.bounds[2] < 180\n",
    "area.bounds[0] > -180"
   ]
  },
  {
   "cell_type": "code",
   "execution_count": null,
   "metadata": {},
   "outputs": [],
   "source": []
  }
 ],
 "metadata": {
  "kernelspec": {
   "display_name": "spicy",
   "language": "python",
   "name": "python3"
  },
  "language_info": {
   "codemirror_mode": {
    "name": "ipython",
    "version": 3
   },
   "file_extension": ".py",
   "mimetype": "text/x-python",
   "name": "python",
   "nbconvert_exporter": "python",
   "pygments_lexer": "ipython3",
   "version": "3.11.0"
  },
  "orig_nbformat": 4,
  "vscode": {
   "interpreter": {
    "hash": "d55f2b22363d79254ff041d13471de54e352f3ae9dfa1886ee2b85fe903b5a57"
   }
  }
 },
 "nbformat": 4,
 "nbformat_minor": 2
}
