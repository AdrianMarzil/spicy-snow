{
 "cells": [
  {
   "cell_type": "code",
   "execution_count": 40,
   "metadata": {},
   "outputs": [],
   "source": [
    "from pathlib import Path\n",
    "import numpy as np\n",
    "import pandas as pd\n",
    "import geopandas as gpd\n",
    "import xarray as xr\n",
    "import rioxarray as rxa\n",
    "import matplotlib.pyplot as plt\n",
    "import seaborn as sns\n",
    "from shapely import geometry\n",
    "from pyproj import Transformer\n",
    "import py3dep\n",
    "\n",
    "data_dir = Path('/bsuhome/zacharykeskinen/scratch/data/uavsar')\n",
    "ncs_dir = data_dir.joinpath('ncs')\n",
    "tree_dir = data_dir.joinpath('trees')\n",
    "nlcd = tree_dir.joinpath('nlcd')"
   ]
  },
  {
   "cell_type": "code",
   "execution_count": 37,
   "metadata": {},
   "outputs": [
    {
     "name": "stdout",
     "output_type": "stream",
     "text": [
      "tree percentage\n"
     ]
    }
   ],
   "source": [
    "ds = xr.open_dataset(Path('/bsuhome/zacharykeskinen/scratch/spicy-lowman-quadrant/combo_v3.nc'))\n",
    "ds = ds.reindex(y=list(reversed(ds.y)))\n",
    "# get tree percentage \n",
    "print('tree percentage')\n",
    "\n",
    "tree_perc = xr.open_dataarray(nlcd.joinpath('nlcd_2016_treecanopy_2019_08_31.img')).squeeze('band', drop =  True)\n",
    "\n",
    "# find bounds in this datasets crs to clip it before reprojecting\n",
    "# https://pyproj4.github.io/pyproj/stable/api/transformer.html\n",
    "transformer = Transformer.from_crs(\"epsg:4326\",\"epsg:5070\", always_xy = True)\n",
    "x_min, y_min, x_max, y_max = ds.rio.bounds()\n",
    "ds_bds = [x_min - 0.5, y_min - 0.6, x_max + 0.6, y_max + 0.6]\n",
    "bds = list(transformer.transform(*ds_bds[:2]))\n",
    "bds.extend(list(transformer.transform(*ds_bds[2:])))\n",
    "# clip big raster to our area\n",
    "tree_perc = tree_perc.rio.clip_box(*bds)\n",
    "# add our crs to reproject\n",
    "ds = ds.rio.write_crs('epsg:4326')\n",
    "# reproject and mask out areas where the interpolation led to artifacts\n",
    "tree_perc = tree_perc.rio.reproject_match(ds['snow_depth'])\n",
    "tree_perc = tree_perc.where((tree_perc >= 0) & (tree_perc < 100)) # percentage bounds 0-100\n",
    "# add to dataset\n",
    "ds['tree_perc'] = tree_perc"
   ]
  },
  {
   "cell_type": "code",
   "execution_count": null,
   "metadata": {},
   "outputs": [],
   "source": [
    "dem = py3dep.get_map(\"DEM\", geometry.box(*ds.rio.bounds()), resolution=30, geo_crs=\"epsg:4326\", crs=\"epsg:4326\")\n",
    "ds['dem'] = dem.interp_like(ds['snow_depth'])"
   ]
  },
  {
   "cell_type": "code",
   "execution_count": 47,
   "metadata": {},
   "outputs": [],
   "source": [
    "ds[['tree_perc','dem']].to_netcdf('/bsuhome/zacharykeskinen/scratch/spicy-lowman-quadrant/tree_dem.nc')"
   ]
  }
 ],
 "metadata": {
  "kernelspec": {
   "display_name": "spicy",
   "language": "python",
   "name": "python3"
  },
  "language_info": {
   "codemirror_mode": {
    "name": "ipython",
    "version": 3
   },
   "file_extension": ".py",
   "mimetype": "text/x-python",
   "name": "python",
   "nbconvert_exporter": "python",
   "pygments_lexer": "ipython3",
   "version": "3.11.0"
  },
  "orig_nbformat": 4
 },
 "nbformat": 4,
 "nbformat_minor": 2
}
