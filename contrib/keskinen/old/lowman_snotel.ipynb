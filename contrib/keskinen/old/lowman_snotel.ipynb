{
 "cells": [
  {
   "cell_type": "code",
   "execution_count": null,
   "metadata": {},
   "outputs": [],
   "source": [
    "from pathlib import Path\n",
    "import numpy as np\n",
    "import pandas as pd\n",
    "import geopandas as gpd\n",
    "import xarray as xr\n",
    "import rioxarray as rxa\n",
    "import matplotlib.pyplot as plt\n",
    "import seaborn as sns\n",
    "from shapely.geometry import box\n",
    "\n",
    "from metloom.pointdata import SnotelPointData"
   ]
  },
  {
   "cell_type": "code",
   "execution_count": null,
   "metadata": {},
   "outputs": [],
   "source": [
    "ds = xr.open_dataset(Path('/bsuhome/zacharykeskinen/scratch/spicy-lowman-quadrant/combo_v3.nc'))\n",
    "snotels = pd.read_csv('/bsuhome/zacharykeskinen/spicy-snow/contrib/keskinen/NRCS_SNOTEL_Locations_noAlaska.csv')\n",
    "snotels = gpd.GeoDataFrame(snotels, geometry=gpd.points_from_xy(snotels.Longitude, snotels.Latitude), crs=\"EPSG:4326\")\n",
    "spicy_snotels = snotels[snotels.within(box(*ds.rio.bounds()))]"
   ]
  },
  {
   "cell_type": "code",
   "execution_count": null,
   "metadata": {},
   "outputs": [],
   "source": [
    "import contextily as ctx\n",
    "fig, ax= plt.subplots(figsize = (12, 8))\n",
    "spicy_snotels.plot(ax = ax, color = 'black', marker = 'x', label = 'Snotels')\n",
    "x,y = box(*ds.rio.bounds()).exterior.xy\n",
    "ax.plot(x,y, color = 'purple', label = 'Spicy Bounding Box')\n",
    "plt.legend(loc = 'upper left')\n",
    "ctx.add_basemap(ax = ax, crs = 'EPSG:4326')\n",
    "plt.ylim(top = 46.5, bottom = 42.6)"
   ]
  },
  {
   "cell_type": "code",
   "execution_count": null,
   "metadata": {},
   "outputs": [],
   "source": [
    "t1 = pd.to_datetime(ds.time[0].data.ravel()[0])\n",
    "t2 = pd.to_datetime(ds.time[-1].data.ravel()[0])\n",
    "\n",
    "res = pd.DataFrame()\n",
    "j = 0\n",
    "for i, r in spicy_snotels.iterrows():\n",
    "    # 100 m = 0.00090009 degrees\n",
    "    tol = 0.00090009 * 5\n",
    "    ds_site = ds.sel(x = slice(r.geometry.x - tol, r.geometry.x + tol), y = slice(r.geometry.y - tol, r.geometry.y + tol)).mean(dim = ['x','y'])\n",
    "    snotel_point = SnotelPointData(f\"{r['Station ID']}:{r['State']}:SNTL\", r['Station Name'])\n",
    "    sd = snotel_point.get_daily_data(t1, t2, [snotel_point.ALLOWED_VARIABLES.SNOWDEPTH]).reset_index(level = 1)\n",
    "    for t in ds_site.time.data:\n",
    "        spicy_sd = ds_site['snow_depth'].sel(time = t)\n",
    "        if spicy_sd.isnull():\n",
    "            continue\n",
    "        t = pd.to_datetime(t).tz_localize('UTC')\n",
    "        if t.month > 2:\n",
    "            continue\n",
    "        snotel_sd = sd[t - pd.Timedelta('1 day'): t]\n",
    "        res.loc[j, 'site'] = r['Station Name']\n",
    "        res.loc[j, 'date'] = t\n",
    "        res.loc[j, 'spicy_sd'] = spicy_sd\n",
    "        if snotel_sd['SNOWDEPTH_units'].values[0] == 'in':\n",
    "            res.loc[j, 'snotel_sd'] = np.nanmean(snotel_sd['SNOWDEPTH'].values) * 0.0254 # convert inches to meters\n",
    "            res.loc[j, 'snotel_sd_units'] = 'm'\n",
    "        else:\n",
    "            print(snotel_sd['SNOWDEPTH_units'].values[0])\n",
    "            res.loc[j, 'snotel_sd'] = np.nanmean(snotel_sd['SNOWDEPTH'].values)\n",
    "            res.loc[j, 'snotel_sd_units'] = snotel_sd['SNOWDEPTH_units'].values[0]\n",
    "        j += 1"
   ]
  },
  {
   "cell_type": "code",
   "execution_count": null,
   "metadata": {},
   "outputs": [],
   "source": [
    "assert res.size == res[res.snotel_sd_units == 'm'].size"
   ]
  },
  {
   "cell_type": "code",
   "execution_count": null,
   "metadata": {},
   "outputs": [],
   "source": [
    "corrected = res.copy()\n",
    "corrected['spicy_sd'] = res['spicy_sd']*0.84\n",
    "sns.scatterplot(res, x = 'snotel_sd', y = 'spicy_sd', size = 1, legend=False)\n",
    "\n",
    "from sklearn.linear_model import LinearRegression\n",
    "LR = LinearRegression().fit(corrected.snotel_sd.values.reshape(-1, 1), corrected.spicy_sd.values.reshape(-1, 1))\n",
    "xs = np.arange(0, 2.5, 0.01)\n",
    "ys = LR.predict(xs.reshape(-1, 1))\n",
    "plt.plot(xs, ys, color = 'black', label = 'Linear Fit')\n",
    "plt.legend()"
   ]
  },
  {
   "cell_type": "code",
   "execution_count": null,
   "metadata": {},
   "outputs": [],
   "source": [
    "plt.hexbin(corrected.snotel_sd, corrected.spicy_sd, gridsize=(15,15))\n",
    "plt.show()"
   ]
  },
  {
   "cell_type": "code",
   "execution_count": null,
   "metadata": {},
   "outputs": [],
   "source": [
    "from sklearn.metrics import mean_squared_error\n",
    "cs = np.arange(0, 5, 0.01)\n",
    "rmses = np.zeros((2, len(cs)))\n",
    "for i, c in enumerate(cs):\n",
    "    rmse = mean_squared_error(res.snotel_sd.values, c*res.spicy_sd.values, squared=False)\n",
    "    rmses[0, i] = rmse\n",
    "    rmses[1, i] = c\n",
    "plt.plot(rmses[1], rmses[0])\n",
    "print(rmses[1][np.argmin(rmses[0])])\n",
    "print(np.min(rmses[0]))"
   ]
  },
  {
   "cell_type": "code",
   "execution_count": null,
   "metadata": {},
   "outputs": [],
   "source": [
    "def mean_bias_error(true, pred):\n",
    "    mbe_loss = np.mean(true - pred)\n",
    "    return mbe_loss\n",
    "\n",
    "from sklearn.metrics import mean_squared_error\n",
    "cs = np.arange(0, 5, 0.01)\n",
    "biases = np.zeros((2, len(cs)))\n",
    "for i, c in enumerate(cs):\n",
    "    bias = np.abs(mean_bias_error(res.snotel_sd.values, c*res.spicy_sd.values))\n",
    "    biases[0, i] = bias\n",
    "    biases[1, i] = c\n",
    "plt.plot(biases[1], biases[0])\n",
    "print(biases[1][np.argmin(biases[0])])\n",
    "print(np.min(biases[0]))"
   ]
  },
  {
   "cell_type": "code",
   "execution_count": null,
   "metadata": {},
   "outputs": [],
   "source": [
    "mean_bias_error(corrected.snotel_sd.values, corrected.spicy_sd.values)"
   ]
  },
  {
   "cell_type": "code",
   "execution_count": null,
   "metadata": {},
   "outputs": [],
   "source": [
    "fig, axes = plt.subplots(16, figsize = (12, 20))\n",
    "j = 0\n",
    "for site_name, df in corrected.groupby('site'):\n",
    "    rmse = mean_squared_error(df.snotel_sd.values, df.spicy_sd.values, squared=False)\n",
    "    if rmse < 0.4:\n",
    "        ax = axes[j]\n",
    "        df = df.set_index('date')\n",
    "        df['spicy_sd'].plot(label = 'Spicy', ax = ax)\n",
    "        df['snotel_sd'].plot(label = 'Snotel', ax = ax)\n",
    "        ax.set_xlabel('')\n",
    "        if j != 15:\n",
    "            ax.set_xticks([])\n",
    "        ax.set_title(site_name)\n",
    "        ax.set_ylim(0, 2.7)\n",
    "        if j == 0:\n",
    "            plt.legend()\n",
    "        j += 1\n",
    "plt.tight_layout()\n"
   ]
  },
  {
   "cell_type": "code",
   "execution_count": null,
   "metadata": {},
   "outputs": [],
   "source": []
  }
 ],
 "metadata": {
  "kernelspec": {
   "display_name": "spicy",
   "language": "python",
   "name": "python3"
  },
  "language_info": {
   "codemirror_mode": {
    "name": "ipython",
    "version": 3
   },
   "file_extension": ".py",
   "mimetype": "text/x-python",
   "name": "python",
   "nbconvert_exporter": "python",
   "pygments_lexer": "ipython3",
   "version": "3.11.0"
  }
 },
 "nbformat": 4,
 "nbformat_minor": 2
}
