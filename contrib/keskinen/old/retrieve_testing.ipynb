{
 "cells": [
  {
   "cell_type": "code",
   "execution_count": null,
   "metadata": {},
   "outputs": [],
   "source": [
    "import os\n",
    "import pickle\n",
    "import shapely\n",
    "from pathlib import Path\n",
    "import numpy as np\n",
    "import pandas as pd\n",
    "import xarray as xr\n",
    "import rioxarray as rxa\n",
    "import matplotlib.pyplot as plt\n",
    "\n",
    "# Add main repo to path\n",
    "import sys\n",
    "from os.path import expanduser\n",
    "sys.path.append(expanduser('../../'))\n",
    "\n",
    "from spicy_snow.IO.user_dates import get_input_dates\n",
    "\n",
    "from spicy_snow.retrieval import retrieval_from_parameters, retrieve_snow_depth\n",
    "\n",
    "# import functions for downloading\n",
    "from spicy_snow.download.sentinel1 import s1_img_search, hyp3_pipeline, download_hyp3, combine_s1_images\n",
    "from spicy_snow.download.forest_cover import download_fcf\n",
    "from spicy_snow.download.snow_cover import download_snow_cover\n",
    "\n",
    "# import functions for pre-processing\n",
    "from spicy_snow.processing.s1_preprocessing import merge_partial_s1_images, s1_orbit_averaging,\\\n",
    "s1_clip_outliers, subset_s1_images, ims_water_mask, s1_incidence_angle_masking, merge_s1_subsets\n",
    "\n",
    "# import the functions for snow_index calculation\n",
    "from spicy_snow.processing.snow_index import calc_delta_VV, calc_delta_cross_ratio, \\\n",
    "    calc_delta_gamma, clip_delta_gamma_outlier, calc_snow_index, calc_snow_index_to_snow_depth\n",
    "\n",
    "# import the functions for wet snow flag\n",
    "from spicy_snow.processing.wet_snow import id_newly_frozen_snow, id_newly_wet_snow, \\\n",
    "    id_wet_negative_si, flag_wet_snow\n",
    "\n",
    "# setup root logger\n",
    "from spicy_snow.utils.spicy_logging import setup_logging"
   ]
  },
  {
   "cell_type": "code",
   "execution_count": null,
   "metadata": {},
   "outputs": [],
   "source": [
    "work_dir = Path('~/scratch/broken-combo/').expanduser()\n",
    "os.makedirs(work_dir, exist_ok = True)\n",
    "\n",
    "dates = get_input_dates('2021-03-16', '2021-03-01')\n",
    "area = shapely.geometry.box(-117, 44, -116, 45)\n",
    "\n",
    "out_nc = Path(f'~/scratch/broken-combo/spicy-lowman-v1.nc').expanduser()\n",
    "\n",
    "search_results = s1_img_search(area, dates)\n",
    "jobs = hyp3_pipeline(search_results, job_name = 'broken-combo_v4', existing_job_name = 'broken-combo_v4')"
   ]
  },
  {
   "cell_type": "code",
   "execution_count": null,
   "metadata": {},
   "outputs": [],
   "source": [
    "imgs = download_hyp3(jobs, area, outdir = work_dir.joinpath('tmp'), clean = False)"
   ]
  },
  {
   "cell_type": "code",
   "execution_count": null,
   "metadata": {},
   "outputs": [],
   "source": [
    "ds = combine_s1_images(imgs)"
   ]
  },
  {
   "cell_type": "code",
   "execution_count": null,
   "metadata": {},
   "outputs": [],
   "source": [
    "backscatter = np.random.randn(10, 10, 25, 3)\n",
    "\n",
    "# make some np nan cuts out of backscatter images\n",
    "for i in range(0, 25, 5):\n",
    "    backscatter[:3, :, i + 0, :] = np.nan\n",
    "    backscatter[3:, :, i + 1, :] = np.nan\n",
    "\n",
    "    backscatter[3:, :, i + 2, :] = np.nan\n",
    "    backscatter[:3, :, i + 3, :] = np.nan\n",
    "    backscatter[7:, :, i + 3, :] = np.nan\n",
    "    backscatter[:7, :, i + 4, :] = np.nan\n",
    "\n",
    "\n",
    "times = [np.datetime64(t) for t in ['2020-01-01T00:00','2020-01-01T00:10','2020-01-02T10:10', '2020-01-02T10:20', '2020-01-02T10:40']]\n",
    "times_full = []\n",
    "[times_full.extend([t + pd.Timedelta(f'{i} days') for t in times]) for i in range(0, 5 * 12, 12)]\n",
    "orbits = np.tile(np.array([24, 24, 65, 65, 65]), reps = 5)\n",
    "\n",
    "abs_orbits = [31191, 31191, 28888, 28888, 28888]\n",
    "abs_full = []\n",
    "[abs_full.extend([o + i for o in abs_orbits]) for i in range(0, 5 * 12, 12)]\n",
    "x = np.linspace(0, 9, 10)\n",
    "y = np.linspace(10, 19, 10)\n",
    "lon, lat = np.meshgrid(x, y)\n",
    "\n",
    "test_ds = xr.Dataset(\n",
    "    data_vars = dict(\n",
    "        s1 = ([\"x\", \"y\", \"time\", \"band\"], backscatter),\n",
    "    ),\n",
    "\n",
    "    coords = dict(\n",
    "        x = ([\"x\"], x),\n",
    "        y = ([\"y\"], y),\n",
    "        band = ['VV', 'VH', 'inc'],\n",
    "        time = times_full,\n",
    "        relative_orbit = ([\"time\"], orbits),\n",
    "        absolute_orbit = ([\"time\"], abs_full)))\n",
    "\n",
    "test_ds = test_ds.drop_isel(time = 0)\n",
    "test_ds = test_ds.drop_isel(time = 3)"
   ]
  },
  {
   "cell_type": "code",
   "execution_count": null,
   "metadata": {},
   "outputs": [],
   "source": [
    "# split out each relative orbit and make its own dataset\n",
    "for orbit_num, orbit_ds in test_ds.groupby('relative_orbit'):\n",
    "    for absolute_num, abs_ds in orbit_ds.groupby('absolute_orbit'):\n",
    "        # if only 1 image in this absolute orbit go to the next\n",
    "        if len(abs_ds.time) == 1:\n",
    "            continue\n",
    "\n",
    "        # combine all images into the first image time step\n",
    "        combo_imgs = abs_ds.mean(dim = 'time')\n",
    "\n",
    "        # set first image in dataset to this new combined image\n",
    "        test_ds.loc[{'time' : abs_ds.isel(time = 0).time}] = combo_imgs\n",
    "\n",
    "        # drop images that have been combined\n",
    "        test_ds = test_ds.drop_sel(time = abs_ds.isel(time = slice(1, len(abs_ds.time))).time)"
   ]
  },
  {
   "cell_type": "code",
   "execution_count": null,
   "metadata": {},
   "outputs": [],
   "source": [
    "np.sum(np.isnan(test_ds.isel(time = 0).sel(band = 'VV'))) == 70"
   ]
  },
  {
   "cell_type": "code",
   "execution_count": null,
   "metadata": {},
   "outputs": [],
   "source": [
    "ds.isel(time = 0)['s1'].sel(band = 'VV').plot()"
   ]
  },
  {
   "cell_type": "code",
   "execution_count": null,
   "metadata": {},
   "outputs": [],
   "source": [
    "ds.isel(time = slice(1, len(ds.time)))"
   ]
  },
  {
   "cell_type": "code",
   "execution_count": null,
   "metadata": {},
   "outputs": [],
   "source": [
    "res"
   ]
  },
  {
   "cell_type": "code",
   "execution_count": null,
   "metadata": {},
   "outputs": [],
   "source": [
    "ds = merge_partial_s1_images(ds)"
   ]
  },
  {
   "cell_type": "code",
   "execution_count": null,
   "metadata": {},
   "outputs": [],
   "source": [
    "ds.sel(band = \"inc\").isel(time = 0)['s1'].plot()"
   ]
  }
 ],
 "metadata": {
  "kernelspec": {
   "display_name": "spicy",
   "language": "python",
   "name": "python3"
  },
  "language_info": {
   "codemirror_mode": {
    "name": "ipython",
    "version": 3
   },
   "file_extension": ".py",
   "mimetype": "text/x-python",
   "name": "python",
   "nbconvert_exporter": "python",
   "pygments_lexer": "ipython3",
   "version": "3.11.0"
  },
  "vscode": {
   "interpreter": {
    "hash": "d55f2b22363d79254ff041d13471de54e352f3ae9dfa1886ee2b85fe903b5a57"
   }
  }
 },
 "nbformat": 4,
 "nbformat_minor": 2
}
