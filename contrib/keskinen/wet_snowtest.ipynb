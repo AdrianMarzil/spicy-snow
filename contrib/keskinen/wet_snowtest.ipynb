{
 "cells": [
  {
   "cell_type": "code",
   "execution_count": null,
   "metadata": {},
   "outputs": [],
   "source": [
    "import sys\n",
    "sys.path.append('../..')\n",
    "from spicy_snow.processing.wet_snow import flag_wet_snow"
   ]
  },
  {
   "cell_type": "code",
   "execution_count": null,
   "metadata": {},
   "outputs": [],
   "source": [
    "import numpy as np\n",
    "import pandas as pd\n",
    "import xarray as xr\n",
    "fcf = np.random.randn(10, 10)/10 + 0.5\n",
    "times = pd.date_range(\"2020-01-01\", end = '2020-12-31', freq = '6D')\n",
    "n = len(times)\n",
    "wet_flag = np.full((10, 10, n), 0.0)\n",
    "alt_wet_flag = np.full((10, 10, n), 0.0)\n",
    "freeze_flag = np.full((10, 10, n), 0.0)\n",
    "\n",
    "x = np.linspace(0, 9, 10)\n",
    "y = np.linspace(10, 19, 10)\n",
    "lon, lat = np.meshgrid(x, y)\n",
    "\n",
    "ros = np.resize([1, 24], (n))\n",
    "\n",
    "ds = xr.Dataset(data_vars = dict(\n",
    "                fcf = ([\"x\", \"y\"], fcf),\n",
    "                wet_flag = ([\"x\", \"y\", \"time\"], wet_flag),\n",
    "                alt_wet_flag = ([\"x\", \"y\", \"time\"], alt_wet_flag),\n",
    "                freeze_flag = ([\"x\", \"y\", \"time\"], freeze_flag),\n",
    "            ),\n",
    "    coords = dict(\n",
    "                lon = ([\"x\", \"y\"], lon),\n",
    "                lat = ([\"x\", \"y\"], lat),\n",
    "                time = times,\n",
    "                relative_orbit = ([\"time\"], ros)) \n",
    ")\n",
    "\n",
    "xi , yi = 3, 3\n",
    "\n",
    "t = ds.time[1]\n",
    "ds['wet_flag'].loc[dict(time = t, x = xi, y = yi)] = 0\n",
    "ds['alt_wet_flag'].loc[dict(time = t, x = xi, y = yi)] = 1\n",
    "ds['freeze_flag'].loc[dict(time = t, x = xi, y = yi)] = 0\n",
    "\n",
    "t = ds.time[3]\n",
    "ds['wet_flag'].loc[dict(time = t, x = xi, y = yi)] = 1\n",
    "ds['alt_wet_flag'].loc[dict(time = t, x = xi, y = yi)] = 0\n",
    "ds['freeze_flag'].loc[dict(time = t, x = xi, y = yi)] = 0\n",
    "\n",
    "t = ds.time[5]\n",
    "ds['wet_flag'].loc[dict(time = t, x = xi, y = yi)] = 0\n",
    "ds['alt_wet_flag'].loc[dict(time = t, x = xi, y = yi)] = 0\n",
    "ds['freeze_flag'].loc[dict(time = t, x = xi, y = yi)] = 1\n",
    "\n",
    "\n",
    "\n",
    "t = ds.time[11]\n",
    "ds['wet_flag'].loc[dict(time = t, x = xi, y = yi)] = 0\n",
    "ds['alt_wet_flag'].loc[dict(time = t, x = xi, y = yi)] = 1\n",
    "ds['freeze_flag'].loc[dict(time = t, x = xi, y = yi)] = 0\n",
    "\n",
    "t = ds.time[13]\n",
    "ds['wet_flag'].loc[dict(time = t, x = xi, y = yi)] = 1\n",
    "ds['alt_wet_flag'].loc[dict(time = t, x = xi, y = yi)] = 0\n",
    "ds['freeze_flag'].loc[dict(time = t, x = xi, y = yi)] = 0\n",
    "\n",
    "t = ds.time[15]\n",
    "ds['wet_flag'].loc[dict(time = t, x = xi, y = yi)] = 0\n",
    "ds['alt_wet_flag'].loc[dict(time = t, x = xi, y = yi)] = 0\n",
    "ds['freeze_flag'].loc[dict(time = t, x = xi, y = yi)] = 1"
   ]
  },
  {
   "cell_type": "code",
   "execution_count": null,
   "metadata": {},
   "outputs": [],
   "source": [
    "ds = flag_wet_snow(ds)"
   ]
  },
  {
   "cell_type": "code",
   "execution_count": null,
   "metadata": {},
   "outputs": [],
   "source": [
    "'bottleneck' not in sys.modules"
   ]
  },
  {
   "cell_type": "code",
   "execution_count": null,
   "metadata": {},
   "outputs": [],
   "source": [
    "ds.sel(x = 3, y = 3)"
   ]
  }
 ],
 "metadata": {
  "kernelspec": {
   "display_name": "spicy",
   "language": "python",
   "name": "python3"
  },
  "language_info": {
   "codemirror_mode": {
    "name": "ipython",
    "version": 3
   },
   "file_extension": ".py",
   "mimetype": "text/x-python",
   "name": "python",
   "nbconvert_exporter": "python",
   "pygments_lexer": "ipython3",
   "version": "3.11.0"
  }
 },
 "nbformat": 4,
 "nbformat_minor": 2
}
