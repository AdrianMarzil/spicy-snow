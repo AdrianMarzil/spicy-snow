{
 "cells": [
  {
   "cell_type": "code",
   "execution_count": 2,
   "metadata": {},
   "outputs": [],
   "source": [
    "from pathlib import Path\n",
    "import numpy as np\n",
    "import pandas as pd\n",
    "import xarray as xr"
   ]
  },
  {
   "cell_type": "code",
   "execution_count": 3,
   "metadata": {},
   "outputs": [],
   "source": [
    "d_dir = Path('~/scratch/SnowEx-Data').expanduser()\n",
    "sub_dir = Path('/bsuhome/zacharykeskinen/spicy-snow/SnowEx-Data/')\n",
    "for fp in d_dir.glob('*.nc'):\n",
    "    ds = xr.open_dataset(fp)\n",
    "    ds = ds[['lidar-sd', 'lidar-vh','lidar-dem','snow_depth', 'wet_snow', 'spatial_ref']]\n",
    "    ds.to_netcdf(sub_dir.joinpath(fp.stem).with_suffix('.sub.nc'))\n",
    "    # sub = xr.open_dataset(sub_dir.joinpath(fp.stem).with_suffix('.sub.nc'))"
   ]
  },
  {
   "cell_type": "code",
   "execution_count": null,
   "metadata": {},
   "outputs": [],
   "source": []
  }
 ],
 "metadata": {
  "kernelspec": {
   "display_name": "spicy",
   "language": "python",
   "name": "python3"
  },
  "language_info": {
   "codemirror_mode": {
    "name": "ipython",
    "version": 3
   },
   "file_extension": ".py",
   "mimetype": "text/x-python",
   "name": "python",
   "nbconvert_exporter": "python",
   "pygments_lexer": "ipython3",
   "version": "3.11.0"
  },
  "orig_nbformat": 4
 },
 "nbformat": 4,
 "nbformat_minor": 2
}
