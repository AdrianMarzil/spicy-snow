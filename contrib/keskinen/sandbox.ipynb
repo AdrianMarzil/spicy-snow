{
 "cells": [
  {
   "cell_type": "code",
   "execution_count": null,
   "metadata": {},
   "outputs": [],
   "source": [
    "import numpy as np\n",
    "import pandas as pd\n",
    "import xarray as xr\n",
    "import rioxarray as rxa\n",
    "\n",
    "import sys\n",
    "sys.path.append('/Users/zachkeskinen/Documents/spicy-snow/')\n",
    "\n",
    "import pickle\n",
    "with open('/Users/zachkeskinen/Documents/spicy-snow/data/banner_lidar.pkl', 'rb') as f:\n",
    "    ds = pickle.load(f)\n",
    "# ds = ds.isel(time = slice(0, 3))"
   ]
  },
  {
   "cell_type": "code",
   "execution_count": null,
   "metadata": {},
   "outputs": [],
   "source": [
    "import sys\n",
    "sys.path.append('/Users/zachkeskinen/Documents/spicy-snow/')\n",
    "from spicy_snow.processing.snow_index import calc_snow_index\n",
    "\n",
    "import numpy as np\n",
    "import xarray as xr\n",
    "\n",
    "backscatter = np.random.randn(10, 10, 6, 3)\n",
    "deltaGamma = np.random.randn(10, 10 , 6)\n",
    "times = [np.datetime64(t) for t in ['2020-01-01','2020-01-02', '2020-01-07','2020-01-08', '2020-01-14', '2020-01-15']]\n",
    "ims = np.full((10, 10, 6), 4)\n",
    "x = np.linspace(0, 9, 10)\n",
    "y = np.linspace(10, 19, 10)\n",
    "lon, lat = np.meshgrid(x, y)\n",
    "\n",
    "test_ds = xr.Dataset(\n",
    "    data_vars = dict(\n",
    "        s1 = ([\"x\", \"y\", \"time\", \"band\"], backscatter),\n",
    "        deltaGamma = ([\"x\", \"y\", \"time\"], deltaGamma),\n",
    "        ims = ([\"x\", \"y\", \"time\"], ims)\n",
    "    ),\n",
    "\n",
    "    coords = dict(\n",
    "        lon = ([\"x\", \"y\"], lon),\n",
    "        lat = ([\"x\", \"y\"], lat),\n",
    "        band = ['VV', 'VH', 'inc'],\n",
    "        time = times,\n",
    "        relative_orbit = ([\"time\"], [24, 1, 24, 1, 24, 1])))\n",
    "\n",
    "test_ds['deltaGamma'].loc[dict(time = '2020-01-01')] = np.nan\n",
    "test_ds['deltaGamma'].loc[dict(time = '2020-01-02')] = np.nan\n",
    "\n",
    "ds = calc_snow_index(test_ds)"
   ]
  },
  {
   "cell_type": "code",
   "execution_count": null,
   "metadata": {},
   "outputs": [],
   "source": [
    "ds['snow_index'].isel(time = 2)[0,:]"
   ]
  },
  {
   "cell_type": "code",
   "execution_count": null,
   "metadata": {},
   "outputs": [],
   "source": [
    "ds['deltaGamma'].isel(time = 3)[0,:]"
   ]
  },
  {
   "cell_type": "code",
   "execution_count": null,
   "metadata": {},
   "outputs": [],
   "source": [
    "ds['snow_index'].isel(time = 3)[0,:]"
   ]
  }
 ],
 "metadata": {
  "kernelspec": {
   "display_name": "spicy",
   "language": "python",
   "name": "python3"
  },
  "language_info": {
   "codemirror_mode": {
    "name": "ipython",
    "version": 3
   },
   "file_extension": ".py",
   "mimetype": "text/x-python",
   "name": "python",
   "nbconvert_exporter": "python",
   "pygments_lexer": "ipython3",
   "version": "3.11.0"
  },
  "vscode": {
   "interpreter": {
    "hash": "d55f2b22363d79254ff041d13471de54e352f3ae9dfa1886ee2b85fe903b5a57"
   }
  }
 },
 "nbformat": 4,
 "nbformat_minor": 2
}
