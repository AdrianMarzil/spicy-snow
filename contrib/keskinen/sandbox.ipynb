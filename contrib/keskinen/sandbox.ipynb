{
 "cells": [
  {
   "cell_type": "code",
   "execution_count": null,
   "metadata": {},
   "outputs": [],
   "source": [
    "import numpy as np\n",
    "import pandas as pd\n",
    "import matplotlib.pyplot as plt\n",
    "from pathlib import Path\n",
    "from sklearn.metrics import mean_squared_error\n",
    "\n",
    "res_dir = Path('/bsuhome/zacharykeskinen/spicy-snow/results/site_param_rmses/')"
   ]
  },
  {
   "cell_type": "code",
   "execution_count": null,
   "metadata": {},
   "outputs": [],
   "source": [
    "dfs = {}\n",
    "for res in res_dir.glob('*.csv'):\n",
    "    df = pd.read_csv(res, index_col = 0)\n",
    "    dfs[res.stem] = df"
   ]
  },
  {
   "cell_type": "code",
   "execution_count": null,
   "metadata": {},
   "outputs": [],
   "source": [
    "fig, axes = plt.subplots(5, 1, figsize = (12, 16))\n",
    "\n",
    "for i, (col1, col2) in enumerate([['varying_all', 'varying_b_c'], ['varying_all', 'varying_a_c'], ['varying_all', 'varying_c'], ['varying_all', 'all_sites'], ['varying_all','leivens_params']]):\n",
    "    diff = dfs[col2]['rmse'] - dfs[col1]['rmse']\n",
    "    param_index = dfs['varying_all'].index + '\\n a:' +dfs[col1].a.astype(str) + ' b:' +dfs[col1].b.astype(str) + ' c:' +dfs[col1].c.astype(str) + '\\n' + ' a:' +dfs[col2].a.astype(str) + ' b:' +dfs[col2].b.astype(str) + ' c:' +dfs[col2].c.astype(str)\n",
    "    diff = diff.set_axis(param_index.values)\n",
    "    diff.plot(linestyle = 'None', marker = 'x', ax = axes[i])\n",
    "\n",
    "axes[0].set_title('RMSE site-by-site optimization - RMSE site-by-site optimization varying B and C')\n",
    "axes[1].set_title('RMSE site-by-site optimization - RMSE site-by-site optimization varying A and C')\n",
    "axes[2].set_title('RMSE site-by-site optimization - RMSE site-by-site optimization varying C')\n",
    "axes[3].set_title('RMSE site-by-site optimization - RMSE optimizing for all data')\n",
    "axes[4].set_title('RMSE site-by-site optimization - RMSE Leivens et al. (2021)')\n",
    "\n",
    "for ax in axes:\n",
    "    ax.set_ylabel('RMSE Difference')\n",
    "    ax.set_ylim(-0.01, 0.12)\n",
    "    ax.tick_params(axis='x', labelrotation = 0, labelsize = 7)\n",
    "    ax.axhline(0, linestyle = 'dashed')\n",
    "\n",
    "plt.tight_layout()\n",
    "plt.savefig('/bsuhome/zacharykeskinen/spicy-snow/images/site_specific_params/optimization_rmse_compare.png')"
   ]
  },
  {
   "cell_type": "code",
   "execution_count": null,
   "metadata": {},
   "outputs": [],
   "source": [
    "import xarray as xr\n",
    "ds = xr.open_dataset('/bsuhome/zacharykeskinen/scratch/spicy-lowman-quadrant/combo_v3.nc')"
   ]
  },
  {
   "cell_type": "code",
   "execution_count": null,
   "metadata": {},
   "outputs": [],
   "source": [
    "ds['relative_orbit'].data"
   ]
  },
  {
   "cell_type": "code",
   "execution_count": null,
   "metadata": {},
   "outputs": [],
   "source": [
    "ds.sel(time = ds.relative_orbit == 71).isel(time = 0)['snow_depth'].plot()"
   ]
  },
  {
   "cell_type": "code",
   "execution_count": null,
   "metadata": {},
   "outputs": [],
   "source": [
    "import pandas as pd\n",
    "df = pd.DataFrame(ds.time.data, columns = ['times'])\n",
    "# df.to_csv('~/combo_v3_times.csv')"
   ]
  }
 ],
 "metadata": {
  "kernelspec": {
   "display_name": "spicy",
   "language": "python",
   "name": "python3"
  },
  "language_info": {
   "codemirror_mode": {
    "name": "ipython",
    "version": 3
   },
   "file_extension": ".py",
   "mimetype": "text/x-python",
   "name": "python",
   "nbconvert_exporter": "python",
   "pygments_lexer": "ipython3",
   "version": "3.11.0"
  },
  "vscode": {
   "interpreter": {
    "hash": "d55f2b22363d79254ff041d13471de54e352f3ae9dfa1886ee2b85fe903b5a57"
   }
  }
 },
 "nbformat": 4,
 "nbformat_minor": 2
}
