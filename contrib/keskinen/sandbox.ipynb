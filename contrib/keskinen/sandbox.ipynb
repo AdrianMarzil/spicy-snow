{
 "cells": [
  {
   "cell_type": "code",
   "execution_count": null,
   "metadata": {},
   "outputs": [],
   "source": [
    "import pickle\n",
    "import shapely\n",
    "from pathlib import Path\n",
    "import numpy as np\n",
    "import pandas as pd\n",
    "import xarray as xr\n",
    "import rioxarray as rxa\n",
    "import matplotlib.pyplot as plt\n",
    "\n",
    "# Add main repo to path\n",
    "import sys\n",
    "from os.path import expanduser\n",
    "sys.path.append(expanduser('../../'))\n",
    "\n",
    "from spicy_snow.retrieval import retrieval_from_parameters"
   ]
  },
  {
   "cell_type": "code",
   "execution_count": null,
   "metadata": {},
   "outputs": [],
   "source": [
    "# Create parameter space\n",
    "A = np.arange(1, 3.1, 0.5)\n",
    "B = np.arange(0, 1.01, 0.1)\n",
    "C = np.arange(0, 1.001, 0.01)\n",
    "ABC = [A, B, C]\n",
    "stack_dir = Path('../../Lidar_s1_stacks/')\n",
    "\n",
    "x_size = 0\n",
    "spicy_tss = {}\n",
    "for fp in stack_dir.glob('*.nc'):\n",
    "    ds = xr.open_dataset(fp).load()\n",
    "    x_size += ds['lidar-sd'].size\n",
    "    # find closest timestep to lidar\n",
    "    td = abs(pd.to_datetime(ds.time) - pd.to_datetime(ds.attrs['lidar-flight-time']))\n",
    "    closest_ts = ds.time[np.argmin(td)]\n",
    "    spicy_tss[fp] = closest_ts\n",
    "\n",
    "\n",
    "import itertools \n",
    "for a, b, c in list(itertools.product(*ABC)):\n",
    "    a = round(a, 2)\n",
    "    b = round(b, 2)\n",
    "    c = round(c, 2)\n",
    "    param_values = np.empty((x_size, 3))\n",
    "    idx_start = 0\n",
    "\n",
    "    for fp in stack_dir.glob('*.nc'):\n",
    "        print(fp)\n",
    "        ds = xr.open_dataset(fp).load()\n",
    "        # get retrievals\n",
    "        ds_param = retrieval_from_parameters(ds, A = a, B = b, C = c).sel(time = spicy_tss[fp])\n",
    "        idx_end = idx_start + ds['lidar-sd'].size\n",
    "        for i, name in enumerate(['lidar-sd','snow_depth','wet_snow']):\n",
    "            param_values[idx_start:idx_end, i] = ds_param[name].values.ravel()\n",
    "        # param_values[idx_start:idx_end, 3] = fp.stem\n",
    "        idx_start = idx_end\n",
    "    df = pd.DataFrame(param_values, columns = ['lidar', 'spicy', 'wet'])\n",
    "    df = df.dropna()\n",
    "    df.to_parquet(f'./test/{a}_{b}_{c}.parq')"
   ]
  },
  {
   "cell_type": "code",
   "execution_count": null,
   "metadata": {},
   "outputs": [],
   "source": [
    "ds = xr.open_dataset('../../data/lowman/spicy-lowman_-116--115_43-44.nc')"
   ]
  }
 ],
 "metadata": {
  "kernelspec": {
   "display_name": "spicy",
   "language": "python",
   "name": "python3"
  },
  "language_info": {
   "codemirror_mode": {
    "name": "ipython",
    "version": 3
   },
   "file_extension": ".py",
   "mimetype": "text/x-python",
   "name": "python",
   "nbconvert_exporter": "python",
   "pygments_lexer": "ipython3",
   "version": "3.11.0"
  },
  "vscode": {
   "interpreter": {
    "hash": "d55f2b22363d79254ff041d13471de54e352f3ae9dfa1886ee2b85fe903b5a57"
   }
  }
 },
 "nbformat": 4,
 "nbformat_minor": 2
}
