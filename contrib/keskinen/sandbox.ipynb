{
 "cells": [
  {
   "cell_type": "code",
   "execution_count": null,
   "metadata": {},
   "outputs": [],
   "source": [
    "import pickle\n",
    "import shapely\n",
    "from pathlib import Path\n",
    "import numpy as np\n",
    "import pandas as pd\n",
    "import xarray as xr\n",
    "import rioxarray as rxa\n",
    "import matplotlib.pyplot as plt\n",
    "\n",
    "# Add main repo to path\n",
    "import sys\n",
    "from os.path import expanduser\n",
    "sys.path.append(expanduser('../../'))\n",
    "\n",
    "from spicy_snow import retrieve_snow_depth\n",
    "\n",
    "from spicy_snow.IO.user_dates import get_input_dates\n",
    "from spicy_snow.processing.s1_preprocessing import merge_partial_s1_images\n",
    "from spicy_snow.download.sentinel1 import combine_s1_images"
   ]
  },
  {
   "cell_type": "code",
   "execution_count": null,
   "metadata": {},
   "outputs": [],
   "source": [
    "for fp in Path('/Users/zachkeskinen/Documents/spicy-snow/scripts/optimize/rmse_insitu').glob('*no_flag.nc'):\n",
    "    fp_lidar = next(Path('/Users/zachkeskinen/Documents/spicy-snow/scripts/optimize/rmse_out').glob(fp.name))\n",
    "    da = xr.open_dataarray(fp)\n",
    "    da2 = xr.open_dataarray(fp_lidar) * 100\n",
    "    insitu_best = da.where(da==da.min(), drop=True).squeeze()\n",
    "    lidar_best = da2.where(da2==da2.min(), drop=True).squeeze()\n",
    "\n",
    "    fig, axes = plt.subplots(3, 2, figsize = (12, 8))\n",
    "    plt.suptitle(f'{fp.stem} RMSE Comparison')\n",
    "\n",
    "    for i, param in enumerate(['A', 'B', 'C']):\n",
    "        vmin, vmax = da.reduce(np.min, dim = [param]).quantile([.2, .8])\n",
    "        vmin2, vmax2 = da2.reduce(np.min, dim = [param]).quantile([.2, .8])\n",
    "        vmin = np.min([vmin, vmin2])\n",
    "        vmax = np.max([vmax, vmax2])\n",
    "        da.reduce(np.min, dim = [param]).plot(ax = axes[i, 0]) # vmin = vmin, vmax = vmax\n",
    "        da2.reduce(np.min, dim = [param]).plot(ax = axes[i, 1]) # vmin = vmin, vmax = vmax\n",
    "        axes[i, 0].set_title(f'In-Situ {param} @ {np.round(insitu_best[param].data, 2)}', fontweight='bold')\n",
    "        axes[i, 1].set_title(f'Lidar {param} @ {np.round(lidar_best[param].data, 2)}', fontweight='bold')\n",
    "    plt.tight_layout()\n",
    "    plt.show()"
   ]
  },
  {
   "cell_type": "code",
   "execution_count": null,
   "metadata": {},
   "outputs": [],
   "source": []
  }
 ],
 "metadata": {
  "kernelspec": {
   "display_name": "spicy",
   "language": "python",
   "name": "python3"
  },
  "language_info": {
   "codemirror_mode": {
    "name": "ipython",
    "version": 3
   },
   "file_extension": ".py",
   "mimetype": "text/x-python",
   "name": "python",
   "nbconvert_exporter": "python",
   "pygments_lexer": "ipython3",
   "version": "3.11.0"
  },
  "vscode": {
   "interpreter": {
    "hash": "d55f2b22363d79254ff041d13471de54e352f3ae9dfa1886ee2b85fe903b5a57"
   }
  }
 },
 "nbformat": 4,
 "nbformat_minor": 2
}
