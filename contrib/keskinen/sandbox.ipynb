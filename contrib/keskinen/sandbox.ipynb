{
 "cells": [
  {
   "cell_type": "code",
   "execution_count": null,
   "metadata": {},
   "outputs": [],
   "source": [
    "import numpy as np\n",
    "import pandas as pd\n",
    "import xarray as xr\n",
    "import rioxarray as rxa\n",
    "import matplotlib.pyplot as plt\n",
    "\n",
    "\n",
    "import sys\n",
    "sys.path.append('/Users/zachkeskinen/Documents/spicy-snow/')\n",
    "\n",
    "import pickle\n",
    "with open('/Users/zachkeskinen/Documents/spicy-snow/data/banner_lidar.pkl', 'rb') as f:\n",
    "    ds = pickle.load(f)\n",
    "spicy_sd = ds.isel(time = 81)['snow_depth']\n",
    "\n",
    "lidar = rxa.open_rasterio('/Users/zachkeskinen/Desktop/SNEX20_QSI_SD_0.5M_USIDBS_20210315_20210315.tif')\n",
    "xmin, ymin, xmax, ymax = lidar.rio.bounds()\n",
    "import pyproj\n",
    "proj = pyproj.Transformer.from_crs(6340, 4326, always_xy=True)\n",
    "xmin, ymin = proj.transform(xmin, ymin)\n",
    "xmax, ymax = proj.transform(xmax, ymax)\n",
    "\n",
    "spicy_sd = spicy_sd.rio.clip_box(*[xmin, ymin, xmax, ymax])\n",
    "\n",
    "spicy_sd = spicy_sd.rio.write_nodata(np.nan)\n",
    "lidar = lidar.rio.write_nodata(np.nan)\n",
    "\n",
    "lidar = lidar.rio.reproject_match(spicy_sd)\n",
    "spicy_sd = spicy_sd.where(~lidar.isnull())\n",
    "lidar = lidar.squeeze(dim = 'band')"
   ]
  },
  {
   "cell_type": "code",
   "execution_count": null,
   "metadata": {},
   "outputs": [],
   "source": [
    "import numpy as np\n",
    "import pandas as pd\n",
    "import xarray as xr\n",
    "import rioxarray as rxa\n",
    "import matplotlib.pyplot as plt\n",
    "\n",
    "\n",
    "import sys\n",
    "sys.path.append('/Users/zachkeskinen/Documents/spicy-snow/')\n",
    "from spicy_snow.download.forest_cover import download_fcf\n",
    "\n",
    "import pickle\n",
    "with open('/Users/zachkeskinen/Documents/spicy-snow/data/lidar_tmp.pkl', 'rb') as f:\n",
    "    ds = pickle.load(f)\n",
    "\n",
    "ds = ds.isel(time = slice(0,3))\n",
    "s1_dA = ds.s1\n",
    "ds = s1_dA.to_dataset()"
   ]
  },
  {
   "cell_type": "code",
   "execution_count": null,
   "metadata": {},
   "outputs": [],
   "source": [
    "download_fcf(ds, out_fp= '/Users/zachkeskinen/Documents/spicy-snow/data/fcf.tif')"
   ]
  },
  {
   "cell_type": "code",
   "execution_count": null,
   "metadata": {},
   "outputs": [],
   "source": [
    "\"\"\"\n",
    "Functions to download IMS snow-coverage images.\n",
    "\n",
    "https://usicecenter.gov/Products/ImsHome\n",
    "https://nsidc.org/data/user-resources/help-center/how-access-data-using-ftp-client-command-line-wget-or-python\n",
    "\"\"\"\n",
    "\n",
    "import sys\n",
    "import os\n",
    "from os.path import basename, exists, expanduser, join\n",
    "import shutil\n",
    "from datetime import datetime\n",
    "import urllib.request\n",
    "from urllib.error import URLError\n",
    "from tqdm import tqdm\n",
    "from pyproj import Transformer\n",
    "import shapely\n",
    "import pandas as pd\n",
    "import xarray as xr\n",
    "import rioxarray as rxa\n",
    "\n",
    "import logging\n",
    "log = logging.getLogger(__name__)\n",
    "\n",
    "sys.path.append(expanduser('~/Documents/spicy-snow'))\n",
    "from spicy_snow.utils.download import url_download, decompress\n",
    "\n",
    "def get_ims_day_data(year: str, doy: str, tmp_dir: str) -> xr.DataArray:\n",
    "    \"\"\"\n",
    "    Download and decompress one days worth of IMS data.\n",
    "\n",
    "    Args:\n",
    "    year: Year of the data you want.\n",
    "    doy: Calendar day of year you want in 'DDD' format. Range is 001 - 366.\n",
    "    \"\"\"\n",
    "\n",
    "    # make temporary directory\n",
    "    cd = os.getcwd()\n",
    "    os.makedirs(tmp_dir, exist_ok = True)\n",
    "    os.chdir(tmp_dir)\n",
    "\n",
    "    # if we haven't found a file that works add one more to day and try again\n",
    "    local_fp = None\n",
    "    while not local_fp:\n",
    "        try:\n",
    "            # download IMS data for this day and year\n",
    "            local_fp, _ = urllib.request.urlretrieve(f'ftp://sidads.colorado.edu/pub/DATASETS/NOAA/G02156/netcdf/1km/{year}/ims{year}{doy}_1km_v1.3.nc.gz', f'ims{year}{doy}_1km_v1.3.nc.gz')\n",
    "        except:\n",
    "            doy = f'{int(doy) + 1:03}'\n",
    "    # decompress .gz compression\n",
    "    out_file = decompress(local_fp, local_fp.replace('.gz',''))\n",
    "    # open as xarray dataArray\n",
    "    ims = rxa.open_rasterio(out_file, decode_times = False)\n",
    "    os.chdir(cd)\n",
    "    return ims\n",
    "\n",
    "\n",
    "def download_snow_cover(dataset: xr.Dataset, tmp_dir: str = './tmp', clean: bool = True) -> xr.Dataset:\n",
    "    \"\"\"\n",
    "    Download IMS snow-cover images.\n",
    "\n",
    "    Args:\n",
    "    dataset: Full dataset to add IMS data to\n",
    "    tmp_dir: filepath to save temporary downloads to [default: './tmp']\n",
    "    clean: Remove temporary directory after download?\n",
    "\n",
    "    Returns:\n",
    "    None\n",
    "    \"\"\"\n",
    "    # get list of days that we have Sentinel-1 data for\n",
    "    days = [pd.to_datetime(d) for d in dataset.time.values]\n",
    "\n",
    "    all_ims = []\n",
    "    for day in tqdm(days, desc = 'Downloading IMS snow-cover'):\n",
    "        # download IMS data for this day and open with xarray\n",
    "        ims = get_ims_day_data(day.year, f'{day.dayofyear:03}', tmp_dir = tmp_dir) #revert to clean = True at somepoint\n",
    "        # add timestamp info\n",
    "        ims = ims.assign_coords(time = [day])\n",
    "        # reproject and clip to match dataset\n",
    "        ims = ims.rio.reproject_match(dataset['s1'])\n",
    "        # add day to list of ims days\n",
    "        all_ims.append(ims)\n",
    "    # make dataArray of all IMS images\n",
    "    full_ims = xr.concat(all_ims, dim = 'time')\n",
    "\n",
    "    # add dataArray of IMS to the sentinel-1 dataset with timestamp information\n",
    "    dataset = xr.merge([dataset, full_ims.rename('ims')])\n",
    "    \n",
    "    # remove data directory of downloaded IMS tifs\n",
    "    if clean == True:\n",
    "        shutil.rmtree(tmp_dir)\n",
    "    \n",
    "    return dataset\n",
    "\n",
    "# End of file"
   ]
  },
  {
   "cell_type": "code",
   "execution_count": null,
   "metadata": {},
   "outputs": [],
   "source": [
    "ds1 = download_snow_cover(ds)"
   ]
  },
  {
   "cell_type": "code",
   "execution_count": null,
   "metadata": {},
   "outputs": [],
   "source": [
    "ds1['ims']"
   ]
  },
  {
   "cell_type": "code",
   "execution_count": null,
   "metadata": {},
   "outputs": [],
   "source": [
    "import matplotlib.pyplot as plt\n",
    "\n",
    "def plot_xarray_2dhist(x, y, ax):\n",
    "    x = x.values.ravel()\n",
    "    y = y.values.ravel()\n",
    "\n",
    "    xtmp = x[(~np.isnan(x) & ~np.isnan(y)) & (y != 0)]\n",
    "    y = y[(~np.isnan(x) & ~np.isnan(y)) & (y != 0)]\n",
    "\n",
    "    ax.hist2d(x = xtmp, y = y, bins = 150)"
   ]
  },
  {
   "cell_type": "code",
   "execution_count": null,
   "metadata": {},
   "outputs": [],
   "source": [
    "fig, ax = plt.subplots()\n",
    "plot_xarray_2dhist(lidar, spicy_sd, ax)\n",
    "plt.title('Comparison of Banner March 15th Spicy SD and Lidar SD')\n",
    "plt.xlim(0,5)\n",
    "plt.ylim(0,5)"
   ]
  },
  {
   "cell_type": "code",
   "execution_count": null,
   "metadata": {},
   "outputs": [],
   "source": [
    "fig, axes = plt.subplots(2, figsize = (12,8))\n",
    "\n",
    "lidar.plot(ax = axes[0], vmin = 0, vmax = 4)\n",
    "spicy_sd.plot(ax = axes[1], vmin = 0, vmax = 4)\n",
    "\n",
    "axes[0].set_title(\"Lidar Snow Depth\")\n",
    "axes[1].set_title(\"Spicy Snow Depth\")\n",
    "\n",
    "for ax in axes:\n",
    "    ax.set_xlabel('')\n",
    "    ax.set_ylabel('')"
   ]
  },
  {
   "cell_type": "code",
   "execution_count": null,
   "metadata": {},
   "outputs": [],
   "source": [
    "fig, ax = plt.subplots()\n",
    "plot_xarray_2dhist(lidar, spicy_sd, ax)\n",
    "plt.title('Comparison of Banner March 15th Spicy SD and Lidar SD')\n",
    "plt.xlim(0,5)\n",
    "plt.ylim(0,5)"
   ]
  },
  {
   "cell_type": "code",
   "execution_count": null,
   "metadata": {},
   "outputs": [],
   "source": []
  }
 ],
 "metadata": {
  "kernelspec": {
   "display_name": "spicy",
   "language": "python",
   "name": "python3"
  },
  "language_info": {
   "codemirror_mode": {
    "name": "ipython",
    "version": 3
   },
   "file_extension": ".py",
   "mimetype": "text/x-python",
   "name": "python",
   "nbconvert_exporter": "python",
   "pygments_lexer": "ipython3",
   "version": "3.11.0"
  },
  "vscode": {
   "interpreter": {
    "hash": "d55f2b22363d79254ff041d13471de54e352f3ae9dfa1886ee2b85fe903b5a57"
   }
  }
 },
 "nbformat": 4,
 "nbformat_minor": 2
}
