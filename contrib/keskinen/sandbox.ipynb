{
 "cells": [
  {
   "cell_type": "code",
   "execution_count": null,
   "metadata": {},
   "outputs": [],
   "source": [
    "import numpy as np\n",
    "import pandas as pd\n",
    "import xarray as xr\n",
    "import rioxarray as rxa\n",
    "import matplotlib.pyplot as plt\n",
    "from datetime import datetime\n",
    "\n",
    "import sys\n",
    "sys.path.append('/Users/zachkeskinen/Documents/spicy-snow/')"
   ]
  },
  {
   "cell_type": "code",
   "execution_count": null,
   "metadata": {},
   "outputs": [],
   "source": [
    "import xarray as xr\n",
    "import matplotlib.pyplot as plt\n",
    "import pandas as pd\n",
    "import numpy as np\n",
    "from pathlib import Path\n",
    "\n",
    "fp = '../../SnowEx-Data'\n",
    "lidar_dir = Path(fp)\n",
    "fps = list(lidar_dir.glob('*.nc'))\n",
    "fps = [f for f in fps if '.sub.nc' not in str(f)]\n",
    "fps = [f for f in fps if '.old.nc' not in str(f)]\n",
    "\n",
    "xs = []\n",
    "ys = []\n",
    "\n",
    "for fp in fps:\n",
    "    ds = xr.open_dataset(fp)\n",
    "    try:\n",
    "        ft = pd.to_datetime(ds.attrs['lidar-flight-time'])\n",
    "    except KeyError:\n",
    "\n",
    "        ft = pd.to_datetime(fp.stem.split('_')[1].strip('.old'))\n",
    "\n",
    "    dt = pd.Timedelta('3 days')\n",
    "    loc = fp.stem.split('_')[0]\n",
    "    if loc == 'Little':\n",
    "        loc = 'Little Cottonwood'\n",
    "\n",
    "    lidar_sd = ds['lidar-sd']\n",
    "    \n",
    "    xs.append(ds['lidar-sd'].values.ravel())\n",
    "    ys.append(ds['snow_depth'].sel(time = slice(ft - dt, ft + dt)).where(~lidar_sd.isnull()).mean(dim = 'time').values.ravel())\n",
    "\n",
    "# Frasier now\n",
    "ds = xr.open_dataset('../../SnowEx-Data/Frasier_2021-03-19.old.nc')\n",
    "xs.append(ds['lidar-sd'].isel(time= 56).values.ravel())\n",
    "ys.append(ds['snow_depth'].isel(time = 59).where(~ds['lidar-sd'].isel(time= 56).isnull()).values.ravel())\n",
    "\n",
    "ds = xr.open_dataset('/Users/zachkeskinen/Documents/spicy-snow/SnowEx-Data/Frasier_2020-02-11.old.nc')\n",
    "xs.append(ds['lidar-sd'].values.ravel())\n",
    "ys.append(ds['snow_depth'].isel(time = 48).where(~ds['lidar-sd'].isnull()).values.ravel())\n",
    "\n",
    "# stack arrays\n",
    "xs = np.hstack(xs)\n",
    "ys = np.hstack(ys)"
   ]
  },
  {
   "cell_type": "code",
   "execution_count": null,
   "metadata": {},
   "outputs": [],
   "source": [
    "xs_tmp = xs[~np.isnan(xs) & ~np.isnan(ys)]\n",
    "ys = ys[~np.isnan(xs) & ~np.isnan(ys)]\n",
    "xs = xs_tmp"
   ]
  },
  {
   "cell_type": "code",
   "execution_count": null,
   "metadata": {},
   "outputs": [],
   "source": [
    "plt.figure(figsize = (6, 6))\n",
    "plt.hist2d(xs, ys, bins = 150)\n",
    "plt.xlim(0, 4)\n",
    "plt.ylim(0,4)\n",
    "plt.xlabel('Lidar Snow Depth')\n",
    "plt.ylabel('Spicy Snow Depth')\n",
    "plt.show()"
   ]
  },
  {
   "cell_type": "code",
   "execution_count": null,
   "metadata": {},
   "outputs": [],
   "source": [
    "from sklearn.metrics import mean_squared_error\n",
    "rms = mean_squared_error(xs, ys, squared=False)"
   ]
  },
  {
   "cell_type": "code",
   "execution_count": null,
   "metadata": {},
   "outputs": [],
   "source": [
    "from scipy.stats import pearsonr\n",
    "pearsonr(xs, ys)"
   ]
  },
  {
   "cell_type": "code",
   "execution_count": null,
   "metadata": {},
   "outputs": [],
   "source": [
    "rms"
   ]
  }
 ],
 "metadata": {
  "kernelspec": {
   "display_name": "spicy",
   "language": "python",
   "name": "python3"
  },
  "language_info": {
   "codemirror_mode": {
    "name": "ipython",
    "version": 3
   },
   "file_extension": ".py",
   "mimetype": "text/x-python",
   "name": "python",
   "nbconvert_exporter": "python",
   "pygments_lexer": "ipython3",
   "version": "3.11.0"
  },
  "vscode": {
   "interpreter": {
    "hash": "d55f2b22363d79254ff041d13471de54e352f3ae9dfa1886ee2b85fe903b5a57"
   }
  }
 },
 "nbformat": 4,
 "nbformat_minor": 2
}
