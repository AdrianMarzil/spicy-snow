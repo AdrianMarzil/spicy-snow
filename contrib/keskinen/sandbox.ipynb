{
 "cells": [
  {
   "cell_type": "code",
   "execution_count": null,
   "metadata": {},
   "outputs": [],
   "source": [
    "import os\n",
    "import pickle\n",
    "import shapely\n",
    "from pathlib import Path\n",
    "import numpy as np\n",
    "import pandas as pd\n",
    "import xarray as xr\n",
    "import rioxarray as rxa\n",
    "import matplotlib.pyplot as plt\n",
    "from spicy_snow.IO.user_dates import get_input_dates\n",
    "\n",
    "# Add main repo to path\n",
    "import sys\n",
    "from os.path import expanduser\n",
    "sys.path.append(expanduser('../../'))\n",
    "\n",
    "from spicy_snow.retrieval import retrieval_from_parameters, retrieve_snow_depth\n",
    "from spicy_snow.processing.s1_preprocessing import merge_partial_s1_images"
   ]
  },
  {
   "cell_type": "code",
   "execution_count": null,
   "metadata": {},
   "outputs": [],
   "source": [
    "# import functions for downloading\n",
    "from spicy_snow.download.sentinel1 import s1_img_search, hyp3_pipeline, download_hyp3, combine_s1_images\n",
    "from spicy_snow.download.forest_cover import download_fcf\n",
    "from spicy_snow.download.snow_cover import download_snow_cover\n",
    "\n",
    "# import functions for pre-processing\n",
    "from spicy_snow.processing.s1_preprocessing import merge_partial_s1_images, s1_orbit_averaging,\\\n",
    "s1_clip_outliers, subset_s1_images, ims_water_mask, s1_incidence_angle_masking, merge_s1_subsets\n",
    "\n",
    "# import the functions for snow_index calculation\n",
    "from spicy_snow.processing.snow_index import calc_delta_VV, calc_delta_cross_ratio, \\\n",
    "    calc_delta_gamma, clip_delta_gamma_outlier, calc_snow_index, calc_snow_index_to_snow_depth\n",
    "\n",
    "# import the functions for wet snow flag\n",
    "from spicy_snow.processing.wet_snow import id_newly_frozen_snow, id_newly_wet_snow, \\\n",
    "    id_wet_negative_si, flag_wet_snow\n",
    "\n",
    "# setup root logger\n",
    "from spicy_snow.utils.spicy_logging import setup_logging"
   ]
  },
  {
   "cell_type": "code",
   "execution_count": null,
   "metadata": {},
   "outputs": [],
   "source": [
    "work_dir = Path('~/scratch/broken-combo/').expanduser()\n",
    "os.makedirs(work_dir, exist_ok = True)\n",
    "\n",
    "dates = get_input_dates('2021-02-20', '2021-02-18')\n",
    "area = shapely.geometry.box(-117, 44, -116, 45)\n",
    "\n",
    "out_nc = Path(f'~/scratch/broken-combo/spicy-lowman-v1.nc').expanduser()\n",
    "\n",
    "search_results = s1_img_search(area, dates)\n",
    "jobs = hyp3_pipeline(search_results, job_name = 'broken-combo_V2', existing_job_name = 'broken-combo_V2')"
   ]
  },
  {
   "cell_type": "code",
   "execution_count": null,
   "metadata": {},
   "outputs": [],
   "source": [
    "jobs"
   ]
  },
  {
   "cell_type": "code",
   "execution_count": null,
   "metadata": {},
   "outputs": [],
   "source": [
    "imgs = download_hyp3(jobs, area, outdir = work_dir.joinpath('tmp'), clean = False)"
   ]
  },
  {
   "cell_type": "code",
   "execution_count": null,
   "metadata": {},
   "outputs": [],
   "source": []
  },
  {
   "cell_type": "code",
   "execution_count": null,
   "metadata": {},
   "outputs": [],
   "source": [
    "quad_dir = Path('~/scratch/spicy-lowman-quadrant').expanduser()\n",
    "quad_dir.exists()\n",
    "\n",
    "# lons = []\n",
    "# lats = []\n",
    "# for fp in quad_dir.glob('*.nc'):\n",
    "#     if '.un.nc' in fp.name:\n",
    "#         lons.append(fp.stem.split('_')[-2])\n",
    "#         lats.append(fp.stem.split('_')[-1])\n",
    "\n",
    "lons = ['-115--114', '-116--115', '-117--116']\n",
    "lats = ['44-45', '45-46']\n",
    "lats = sorted(np.unique(lats))\n",
    "\n",
    "XX, YY = np.meshgrid(lons, lats)\n",
    "DAs = np.empty_like(XX).tolist()\n",
    "\n",
    "for fp in quad_dir.glob('*.nc'):\n",
    "    if '.un.nc' not in fp.name:\n",
    "        ds = xr.open_dataset(fp)\n",
    "        ds = ds['snow_depth']\n",
    "        ds = ds.sel(time = slice('2020-11-01', '2021-03-01'))\n",
    "        ds = ds.reindex(lat=list(reversed(ds.y)))\n",
    "        ds = ds.reindex(lat=list(reversed(ds.x)))\n",
    "        lon = fp.stem.split('_')[-2]\n",
    "        lat = fp.stem.split('_')[-1]\n",
    "        if lat in lats and lon in lons:\n",
    "            idx, idy = np.array(list(np.where((XX == lon) & (YY == lat)))).ravel()\n",
    "            DAs[idx][idy] = ds"
   ]
  },
  {
   "cell_type": "code",
   "execution_count": null,
   "metadata": {},
   "outputs": [],
   "source": [
    "res = xr.combine_nested(DAs, concat_dim= ['y','x'])"
   ]
  },
  {
   "cell_type": "code",
   "execution_count": null,
   "metadata": {},
   "outputs": [],
   "source": [
    "res = res.sortby('y')\n",
    "res = res.sortby('x')"
   ]
  },
  {
   "cell_type": "code",
   "execution_count": null,
   "metadata": {},
   "outputs": [],
   "source": [
    "res = merge_partial_s1_images(res.to_dataset(name = 'snow_depth'))"
   ]
  },
  {
   "cell_type": "code",
   "execution_count": null,
   "metadata": {},
   "outputs": [],
   "source": [
    "res.sel(time = '2021-02-19T01:35:59').plot()"
   ]
  },
  {
   "cell_type": "code",
   "execution_count": null,
   "metadata": {},
   "outputs": [],
   "source": [
    "DAs[0][2].sel(time = '2021-02-19T01:35:59').plot()"
   ]
  },
  {
   "cell_type": "code",
   "execution_count": null,
   "metadata": {},
   "outputs": [],
   "source": [
    "imgs = []\n",
    "for fp in Path('/bsuhome/zacharykeskinen/scratch/spicy-lowman-quadrant/data/tmp').glob('*_20210219T01*VV.tif'):\n",
    "    print(fp)\n",
    "    img = rxa.open_rasterio(fp).coarsen(x = 100, boundary = 'trim').mean().coarsen(y = 100, boundary = 'trim').mean()\n",
    "    img = img.rio.reproject('EPSG:4326')\n",
    "    imgs.append(img)"
   ]
  },
  {
   "cell_type": "code",
   "execution_count": null,
   "metadata": {},
   "outputs": [],
   "source": [
    "imgs[1]"
   ]
  },
  {
   "cell_type": "code",
   "execution_count": null,
   "metadata": {},
   "outputs": [],
   "source": [
    "imgs = []\n",
    "for fp in Path('/bsuhome/zacharykeskinen/scratch/spicy-lowman-quadrant/data/tmp').glob('*_20210219T013559*VV.tif'):\n",
    "    img = rxa.open_rasterio(fp).coarsen(x = 100, boundary = 'trim').mean().coarsen(y = 100, boundary = 'trim').mean()\n",
    "    img = img.rio.reproject('EPSG:4326')\n",
    "    imgs.append(img)"
   ]
  },
  {
   "cell_type": "code",
   "execution_count": null,
   "metadata": {},
   "outputs": [],
   "source": [
    "imgs[0].plot()"
   ]
  },
  {
   "cell_type": "code",
   "execution_count": null,
   "metadata": {},
   "outputs": [],
   "source": [
    "imgs[1].plot()"
   ]
  },
  {
   "cell_type": "code",
   "execution_count": null,
   "metadata": {},
   "outputs": [],
   "source": [
    "DAs[0][1].isel(time = 52).plot()"
   ]
  },
  {
   "cell_type": "code",
   "execution_count": null,
   "metadata": {},
   "outputs": [],
   "source": [
    "# res.to_netcdf(quad_dir.joinpath('combo_v1.nc'))"
   ]
  }
 ],
 "metadata": {
  "kernelspec": {
   "display_name": "spicy",
   "language": "python",
   "name": "python3"
  },
  "language_info": {
   "codemirror_mode": {
    "name": "ipython",
    "version": 3
   },
   "file_extension": ".py",
   "mimetype": "text/x-python",
   "name": "python",
   "nbconvert_exporter": "python",
   "pygments_lexer": "ipython3",
   "version": "3.11.0"
  },
  "vscode": {
   "interpreter": {
    "hash": "d55f2b22363d79254ff041d13471de54e352f3ae9dfa1886ee2b85fe903b5a57"
   }
  }
 },
 "nbformat": 4,
 "nbformat_minor": 2
}
