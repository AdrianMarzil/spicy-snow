{
 "cells": [
  {
   "cell_type": "code",
   "execution_count": 1,
   "metadata": {},
   "outputs": [
    {
     "name": "stderr",
     "output_type": "stream",
     "text": [
      "/bsuhome/zacharykeskinen/miniconda3/envs/spicy/lib/python3.11/site-packages/tqdm/auto.py:21: TqdmWarning: IProgress not found. Please update jupyter and ipywidgets. See https://ipywidgets.readthedocs.io/en/stable/user_install.html\n",
      "  from .autonotebook import tqdm as notebook_tqdm\n"
     ]
    }
   ],
   "source": [
    "# from itertools import product\n",
    "from tqdm.contrib.itertools import product\n",
    "import numpy as np\n",
    "from numpy import load\n",
    "import pandas as pd\n",
    "import xarray as xr\n",
    "from pathlib import Path\n",
    "from tqdm import tqdm\n",
    "from sklearn.metrics import mean_squared_error\n",
    "import time\n",
    "\n",
    "# multiprocessing\n",
    "# https://superfastpython.com/multiprocessing-for-loop/\n",
    "from multiprocessing import Process"
   ]
  },
  {
   "cell_type": "code",
   "execution_count": 2,
   "metadata": {},
   "outputs": [],
   "source": [
    "def get_bootstrap(x, y):\n",
    "    # bootstrap\n",
    "    x_bs = np.random.choice(x, size = len(x))\n",
    "    y_bs = np.random.choice(y, size = len(y))\n",
    "\n",
    "    return x_bs, y_bs\n",
    "\n",
    "def calc_rmse(y_actual, y_pred):\n",
    "    rms = mean_squared_error(y_actual, y_pred, squared = False)\n",
    "    return rms"
   ]
  },
  {
   "cell_type": "code",
   "execution_count": 3,
   "metadata": {},
   "outputs": [
    {
     "name": "stderr",
     "output_type": "stream",
     "text": [
      " 22%|██▏       | 1232/5555 [00:02<00:09, 479.14it/s]\n"
     ]
    },
    {
     "ename": "FileNotFoundError",
     "evalue": "[Errno 2] No such file or directory: '/bsuhome/zacharykeskinen/scratch/params_np/1.5_0.1_0.2.npy'",
     "output_type": "error",
     "traceback": [
      "\u001b[0;31m---------------------------------------------------------------------------\u001b[0m",
      "\u001b[0;31mFileNotFoundError\u001b[0m                         Traceback (most recent call last)",
      "Cell \u001b[0;32mIn[3], line 19\u001b[0m\n\u001b[1;32m     17\u001b[0m i \u001b[39m=\u001b[39m \u001b[39m0\u001b[39m\n\u001b[1;32m     18\u001b[0m \u001b[39mfor\u001b[39;00m a, b, c \u001b[39min\u001b[39;00m product(\u001b[39m*\u001b[39mABC):\n\u001b[0;32m---> 19\u001b[0m         data \u001b[39m=\u001b[39m load(new_param_dir\u001b[39m.\u001b[39;49mjoinpath(\u001b[39mf\u001b[39;49m\u001b[39m'\u001b[39;49m\u001b[39m{\u001b[39;49;00ma\u001b[39m}\u001b[39;49;00m\u001b[39m_\u001b[39;49m\u001b[39m{\u001b[39;49;00mb\u001b[39m}\u001b[39;49;00m\u001b[39m_\u001b[39;49m\u001b[39m{\u001b[39;49;00mc\u001b[39m}\u001b[39;49;00m\u001b[39m.npy\u001b[39;49m\u001b[39m'\u001b[39;49m))\n\u001b[1;32m     21\u001b[0m         rmse \u001b[39m=\u001b[39m calc_rmse(\u001b[39m*\u001b[39mget_bootstrap(data[\u001b[39m0\u001b[39m], data[\u001b[39m1\u001b[39m])) \u001b[39m# row 0 = lidar-sd, 1 = spicy\u001b[39;00m\n\u001b[1;32m     22\u001b[0m         \u001b[39mif\u001b[39;00m rmse \u001b[39m<\u001b[39m low_rmse:\n",
      "File \u001b[0;32m~/miniconda3/envs/spicy/lib/python3.11/site-packages/numpy/lib/npyio.py:405\u001b[0m, in \u001b[0;36mload\u001b[0;34m(file, mmap_mode, allow_pickle, fix_imports, encoding, max_header_size)\u001b[0m\n\u001b[1;32m    403\u001b[0m     own_fid \u001b[39m=\u001b[39m \u001b[39mFalse\u001b[39;00m\n\u001b[1;32m    404\u001b[0m \u001b[39melse\u001b[39;00m:\n\u001b[0;32m--> 405\u001b[0m     fid \u001b[39m=\u001b[39m stack\u001b[39m.\u001b[39menter_context(\u001b[39mopen\u001b[39m(os_fspath(file), \u001b[39m\"\u001b[39m\u001b[39mrb\u001b[39m\u001b[39m\"\u001b[39m))\n\u001b[1;32m    406\u001b[0m     own_fid \u001b[39m=\u001b[39m \u001b[39mTrue\u001b[39;00m\n\u001b[1;32m    408\u001b[0m \u001b[39m# Code to distinguish from NumPy binary files and pickles.\u001b[39;00m\n",
      "\u001b[0;31mFileNotFoundError\u001b[0m: [Errno 2] No such file or directory: '/bsuhome/zacharykeskinen/scratch/params_np/1.5_0.1_0.2.npy'"
     ]
    }
   ],
   "source": [
    "# Create parameter space\n",
    "A = np.round(np.arange(1, 3.1, 0.5), 2)\n",
    "B = np.round(np.arange(0, 1.01, 0.1), 2)\n",
    "C = np.round(np.arange(0, 1.001, 0.01), 2)\n",
    "ABC = [A, B, C]\n",
    "\n",
    "df = pd.DataFrame(np.empty((10, 4), dtype = float), columns = ['a', 'b', 'c', 'rmse'])\n",
    "\n",
    "low_rmse = 1e10\n",
    "best_coords = {'a': None, 'b': None, 'c': None}\n",
    "\n",
    "# from itertools import product\n",
    "from tqdm.contrib.itertools import product\n",
    "new_param_dir = Path('~/scratch/params_np').expanduser()\n",
    "\n",
    "# for i in range(10):\n",
    "i = 0\n",
    "for a, b, c in product(*ABC):\n",
    "    data = load(new_param_dir.joinpath(f'{a}_{b}_{c}.npy'))\n",
    "            \n",
    "    rmse = calc_rmse(*get_bootstrap(data[0], data[1])) # row 0 = lidar-sd, 1 = spicy\n",
    "    if rmse < low_rmse:\n",
    "        low_rmse = rmse\n",
    "        best_coords['a'] = a\n",
    "        best_coords['b'] = b\n",
    "        best_coords['c'] = c\n",
    "    i = 1\n",
    "\n",
    "# best = rmse_no_flag.where(rmse_no_flag==rmse_no_flag.min(), drop=True).squeeze()\n",
    "# a, b, c = best.coords.values()\n",
    "df.loc[i, 'a'] = best_coords['a']\n",
    "df.loc[i, 'b'] = best_coords['b']\n",
    "df.loc[i, 'c'] = best_coords['c']\n",
    "df.loc[i, 'rmse'] = float(low_rmse)"
   ]
  }
 ],
 "metadata": {
  "kernelspec": {
   "display_name": "spicy",
   "language": "python",
   "name": "python3"
  },
  "language_info": {
   "codemirror_mode": {
    "name": "ipython",
    "version": 3
   },
   "file_extension": ".py",
   "mimetype": "text/x-python",
   "name": "python",
   "nbconvert_exporter": "python",
   "pygments_lexer": "ipython3",
   "version": "3.11.0"
  },
  "vscode": {
   "interpreter": {
    "hash": "d55f2b22363d79254ff041d13471de54e352f3ae9dfa1886ee2b85fe903b5a57"
   }
  }
 },
 "nbformat": 4,
 "nbformat_minor": 2
}
