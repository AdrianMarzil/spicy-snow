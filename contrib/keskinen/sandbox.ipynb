{
 "cells": [
  {
   "cell_type": "code",
   "execution_count": 1,
   "metadata": {},
   "outputs": [],
   "source": [
    "import pickle\n",
    "import shapely\n",
    "from pathlib import Path\n",
    "import numpy as np\n",
    "import pandas as pd\n",
    "import xarray as xr\n",
    "import rioxarray as rxa\n",
    "import matplotlib.pyplot as plt\n",
    "\n",
    "# Add main repo to path\n",
    "import sys\n",
    "from os.path import expanduser\n",
    "sys.path.append(expanduser('../../'))\n",
    "\n",
    "from spicy_snow.retrieval import retrieval_from_parameters\n",
    "from spicy_snow.processing.s1_preprocessing import merge_partial_s1_images"
   ]
  },
  {
   "cell_type": "code",
   "execution_count": 2,
   "metadata": {},
   "outputs": [],
   "source": [
    "quad_dir = Path('~/scratch/spicy-lowman-quadrant').expanduser()\n",
    "quad_dir.exists()\n",
    "\n",
    "# lons = []\n",
    "# lats = []\n",
    "# for fp in quad_dir.glob('*.nc'):\n",
    "#     if '.un.nc' in fp.name:\n",
    "#         lons.append(fp.stem.split('_')[-2])\n",
    "#         lats.append(fp.stem.split('_')[-1])\n",
    "\n",
    "lons = ['-115--114', '-116--115', '-117--116']\n",
    "lats = ['44-45', '45-46']\n",
    "lats = sorted(np.unique(lats))\n",
    "\n",
    "XX, YY = np.meshgrid(lons, lats)\n",
    "DAs = np.empty_like(XX).tolist()\n",
    "\n",
    "for fp in quad_dir.glob('*.nc'):\n",
    "    if '.un.nc' not in fp.name:\n",
    "        ds = xr.open_dataset(fp)\n",
    "        ds = ds['snow_depth']\n",
    "        ds = ds.sel(time = slice('2020-11-01', '2021-03-01'))\n",
    "        ds = ds.reindex(lat=list(reversed(ds.y)))\n",
    "        ds = ds.reindex(lat=list(reversed(ds.x)))\n",
    "        lon = fp.stem.split('_')[-2]\n",
    "        lat = fp.stem.split('_')[-1]\n",
    "        if lat in lats and lon in lons:\n",
    "            idx, idy = np.array(list(np.where((XX == lon) & (YY == lat)))).ravel()\n",
    "            DAs[idx][idy] = ds"
   ]
  },
  {
   "cell_type": "code",
   "execution_count": 3,
   "metadata": {},
   "outputs": [],
   "source": [
    "res = xr.combine_nested(DAs, concat_dim= ['y','x'])"
   ]
  },
  {
   "cell_type": "code",
   "execution_count": 4,
   "metadata": {},
   "outputs": [],
   "source": [
    "res = res.sortby('y')\n",
    "res = res.sortby('x')"
   ]
  },
  {
   "cell_type": "code",
   "execution_count": 9,
   "metadata": {},
   "outputs": [
    {
     "data": {
      "text/plain": [
       "True"
      ]
     },
     "execution_count": 9,
     "metadata": {},
     "output_type": "execute_result"
    }
   ],
   "source": [
    "'snow_depth' in res.to_dataset(name = 'snow_depth').data_vars"
   ]
  },
  {
   "cell_type": "code",
   "execution_count": 10,
   "metadata": {},
   "outputs": [],
   "source": [
    "res = merge_partial_s1_images(res.to_dataset(name = 'snow_depth'))"
   ]
  },
  {
   "cell_type": "code",
   "execution_count": 21,
   "metadata": {},
   "outputs": [],
   "source": [
    "res.to_netcdf(quad_dir.joinpath('combo_v1.nc'))"
   ]
  }
 ],
 "metadata": {
  "kernelspec": {
   "display_name": "spicy",
   "language": "python",
   "name": "python3"
  },
  "language_info": {
   "codemirror_mode": {
    "name": "ipython",
    "version": 3
   },
   "file_extension": ".py",
   "mimetype": "text/x-python",
   "name": "python",
   "nbconvert_exporter": "python",
   "pygments_lexer": "ipython3",
   "version": "3.11.0"
  },
  "vscode": {
   "interpreter": {
    "hash": "d55f2b22363d79254ff041d13471de54e352f3ae9dfa1886ee2b85fe903b5a57"
   }
  }
 },
 "nbformat": 4,
 "nbformat_minor": 2
}
