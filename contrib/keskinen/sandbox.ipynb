{
 "cells": [
  {
   "cell_type": "code",
   "execution_count": null,
   "metadata": {},
   "outputs": [],
   "source": [
    "import numpy as np\n",
    "import pandas as pd\n",
    "import xarray as xr\n",
    "\n",
    "x = np.linspace(0, 9, 10)\n",
    "y = np.linspace(10, 19, 10)\n",
    "lon, lat = np.meshgrid(x, y)\n",
    "times = pd.date_range(\"2020-01-01\", end = '2020-12-31', freq = '6D')\n",
    "n = len(times)\n",
    "data = np.random.randn(10,10, n)\n",
    "\n",
    "ros = np.resize([1, 24], (n))\n",
    "platforms = np.resize(['S1A', 'S1B', 'S1B', 'S1A'], (n))\n",
    "direction = np.resize(['ascending', 'descending'], (n))\n",
    "\n",
    "ds = xr.Dataset(data_vars= dict(\n",
    "    data = ([\"x\", \"y\", \"time\"], data)\n",
    "        ),\n",
    "    coords = dict(\n",
    "                        lon = ([\"x\", \"y\"], lon),\n",
    "                        lat = ([\"x\", \"y\"], lat),\n",
    "                        time = times,\n",
    "                        relative_orbit = ([\"time\"], ros),\n",
    "                        platform = ([\"time\"], platforms),\n",
    "                        flight_dir = ([\"time\"], direction)) \n",
    "        \n",
    "    )\n",
    "\n",
    "import sys\n",
    "sys.path.append('/Users/zachkeskinen/Documents/spicy-snow/')\n",
    "from spicy_snow.processing.s1_preprocessing import subset_s1_images, merge_s1_subsets\n",
    "\n",
    "# import pickle\n",
    "# with open('/Users/zachkeskinen/Documents/spicy-snow/data/main_test.pkl', 'rb') as f:\n",
    "#     ds = pickle.load(f)"
   ]
  },
  {
   "cell_type": "code",
   "execution_count": null,
   "metadata": {},
   "outputs": [],
   "source": [
    "dict_da = subset_s1_images(ds)"
   ]
  },
  {
   "cell_type": "code",
   "execution_count": null,
   "metadata": {},
   "outputs": [],
   "source": [
    "ds = merge_s1_subsets(dict_da)"
   ]
  },
  {
   "cell_type": "code",
   "execution_count": null,
   "metadata": {},
   "outputs": [],
   "source": [
    "ds"
   ]
  }
 ],
 "metadata": {
  "kernelspec": {
   "display_name": "spicy",
   "language": "python",
   "name": "python3"
  },
  "language_info": {
   "codemirror_mode": {
    "name": "ipython",
    "version": 3
   },
   "file_extension": ".py",
   "mimetype": "text/x-python",
   "name": "python",
   "nbconvert_exporter": "python",
   "pygments_lexer": "ipython3",
   "version": "3.11.0"
  },
  "vscode": {
   "interpreter": {
    "hash": "d55f2b22363d79254ff041d13471de54e352f3ae9dfa1886ee2b85fe903b5a57"
   }
  }
 },
 "nbformat": 4,
 "nbformat_minor": 2
}
