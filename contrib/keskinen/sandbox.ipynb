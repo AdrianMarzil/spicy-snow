{
 "cells": [
  {
   "cell_type": "code",
   "execution_count": null,
   "metadata": {},
   "outputs": [],
   "source": [
    "import os\n",
    "import pickle\n",
    "import shapely\n",
    "from pathlib import Path\n",
    "import numpy as np\n",
    "import pandas as pd\n",
    "import xarray as xr\n",
    "import rioxarray as rxa\n",
    "import matplotlib.pyplot as plt\n",
    "\n",
    "# Add main repo to path\n",
    "import sys\n",
    "from os.path import expanduser\n",
    "sys.path.append(expanduser('../../'))\n",
    "\n",
    "from spicy_snow.retrieval import retrieval_from_parameters, retrieve_snow_depth\n",
    "from spicy_snow.processing.s1_preprocessing import merge_partial_s1_images"
   ]
  },
  {
   "cell_type": "code",
   "execution_count": null,
   "metadata": {},
   "outputs": [],
   "source": [
    "ds = xr.open_dataarray('~/Desktop/combo_v3_dt.nc')"
   ]
  },
  {
   "cell_type": "code",
   "execution_count": null,
   "metadata": {},
   "outputs": [],
   "source": [
    "ds"
   ]
  },
  {
   "cell_type": "code",
   "execution_count": null,
   "metadata": {},
   "outputs": [],
   "source": [
    "ds['time'] = ds.time.dt.strftime('%Y-%m-%dT%H:%M%S')"
   ]
  },
  {
   "cell_type": "code",
   "execution_count": null,
   "metadata": {},
   "outputs": [],
   "source": [
    "ds.to_netcdf(Path('~/Desktop/combo_v3_dt.nc').expanduser())"
   ]
  },
  {
   "cell_type": "code",
   "execution_count": null,
   "metadata": {},
   "outputs": [],
   "source": [
    "# Create parameter space\n",
    "A = np.arange(1, 3.1, 0.5)\n",
    "B = np.arange(0, 1.01, 0.1)\n",
    "C = np.arange(0, 1.001, 0.01)\n",
    "\n",
    "for fp in Path('../../Lidar_s1_stacks').glob('*.nc'):\n",
    "    ds = xr.open_dataset(fp)\n",
    "    for a in A:\n",
    "        a = np.round(a, 2)\n",
    "        ds = calc_delta_cross_ratio(dataset, A = a)\n",
    "        for b in B:\n",
    "            for c in C:\n",
    "\n",
    "    "
   ]
  }
 ],
 "metadata": {
  "kernelspec": {
   "display_name": "spicy",
   "language": "python",
   "name": "python3"
  },
  "language_info": {
   "codemirror_mode": {
    "name": "ipython",
    "version": 3
   },
   "file_extension": ".py",
   "mimetype": "text/x-python",
   "name": "python",
   "nbconvert_exporter": "python",
   "pygments_lexer": "ipython3",
   "version": "3.11.0"
  },
  "vscode": {
   "interpreter": {
    "hash": "d55f2b22363d79254ff041d13471de54e352f3ae9dfa1886ee2b85fe903b5a57"
   }
  }
 },
 "nbformat": 4,
 "nbformat_minor": 2
}
