{
 "cells": [
  {
   "cell_type": "code",
   "execution_count": null,
   "metadata": {},
   "outputs": [],
   "source": [
    "import pickle\n",
    "import shapely\n",
    "from pathlib import Path\n",
    "import pandas as pd\n",
    "import xarray as xr\n",
    "import rioxarray as rxa\n",
    "\n",
    "# Add main repo to path\n",
    "import sys\n",
    "from os.path import expanduser\n",
    "sys.path.append(expanduser('../../'))\n",
    "\n",
    "from spicy_snow import retrieve_snow_depth\n",
    "\n",
    "from spicy_snow.IO.user_dates import get_input_dates\n",
    "from spicy_snow.processing.s1_preprocessing import merge_partial_s1_images\n",
    "from spicy_snow.download.sentinel1 import combine_s1_images"
   ]
  },
  {
   "cell_type": "code",
   "execution_count": 2,
   "metadata": {},
   "outputs": [
    {
     "name": "stdout",
     "output_type": "stream",
     "text": [
      "/bsuhome/zacharykeskinen/scratch/spicy-lowman-quadrant/spicy-lowman_-117--116_43-44.nc\n",
      "/bsuhome/zacharykeskinen/scratch/spicy-lowman-quadrant/spicy-lowman_-117--116_44-45.nc\n",
      "/bsuhome/zacharykeskinen/scratch/spicy-lowman-quadrant/spicy-lowman_-117--116_45-46.nc\n",
      "/bsuhome/zacharykeskinen/scratch/spicy-lowman-quadrant/spicy-lowman_-116--115_43-44.nc\n",
      "/bsuhome/zacharykeskinen/scratch/spicy-lowman-quadrant/spicy-lowman_-116--115_44-45.nc\n",
      "/bsuhome/zacharykeskinen/scratch/spicy-lowman-quadrant/spicy-lowman_-116--115_45-46.nc\n",
      "/bsuhome/zacharykeskinen/scratch/spicy-lowman-quadrant/spicy-lowman_-115--114_43-44.nc\n",
      "/bsuhome/zacharykeskinen/scratch/spicy-lowman-quadrant/spicy-lowman_-115--114_44-45.nc\n",
      "/bsuhome/zacharykeskinen/scratch/spicy-lowman-quadrant/spicy-lowman_-115--114_45-46.nc\n",
      "/bsuhome/zacharykeskinen/scratch/spicy-lowman-quadrant/spicy-lowman_-114--113_43-44.nc\n",
      "/bsuhome/zacharykeskinen/scratch/spicy-lowman-quadrant/spicy-lowman_-114--113_44-45.nc\n",
      "/bsuhome/zacharykeskinen/scratch/spicy-lowman-quadrant/spicy-lowman_-114--113_45-46.nc\n"
     ]
    }
   ],
   "source": [
    "from shapely import geometry\n",
    "from pathlib import Path\n",
    "from itertools import product\n",
    "for lon_min, lat_min in product(range(-117, -113), range(43, 46)):\n",
    "    print(Path(f'~/scratch/spicy-lowman-quadrant/spicy-lowman_{lon_min}-{lon_min + 1}_{lat_min}-{lat_min + 1}.nc').expanduser())\n",
    "    # area = geometry.box(-117, 43, -113, 46)"
   ]
  },
  {
   "cell_type": "code",
   "execution_count": 3,
   "metadata": {},
   "outputs": [
    {
     "data": {
      "image/svg+xml": [
       "<svg xmlns=\"http://www.w3.org/2000/svg\" xmlns:xlink=\"http://www.w3.org/1999/xlink\" width=\"100.0\" height=\"100.0\" viewBox=\"-117.16 42.84 4.319999999999993 3.319999999999993\" preserveAspectRatio=\"xMinYMin meet\"><g transform=\"matrix(1,0,0,-1,0,89.0)\"><path fill-rule=\"evenodd\" fill=\"#66cc99\" stroke=\"#555555\" stroke-width=\"0.08639999999999987\" opacity=\"0.6\" d=\"M -113.0,43.0 L -113.0,46.0 L -117.0,46.0 L -117.0,43.0 L -113.0,43.0 z\" /></g></svg>"
      ],
      "text/plain": [
       "<shapely.geometry.polygon.Polygon at 0x2aaab643f370>"
      ]
     },
     "execution_count": 3,
     "metadata": {},
     "output_type": "execute_result"
    }
   ],
   "source": [
    "area"
   ]
  },
  {
   "cell_type": "code",
   "execution_count": null,
   "metadata": {},
   "outputs": [],
   "source": [
    "ds = xr.open_dataset(Path('~/Desktop/spicy-lowman.nc').expanduser())"
   ]
  },
  {
   "cell_type": "code",
   "execution_count": null,
   "metadata": {},
   "outputs": [],
   "source": [
    "area = shapely.geometry.box(-117, 43, -113, 46)\n",
    "\n",
    "# results dictionary to send to next step\n",
    "dataArrays = {}\n",
    "\n",
    "for i, fp in enumerate(sorted(Path('~/Desktop/imgs').expanduser().glob('*VV.tif'))):\n",
    "    if i < 6:\n",
    "        urls = {}\n",
    "        granule = fp.stem.replace('_VV', '')\n",
    "        if i == 0:\n",
    "            first_granule = granule\n",
    "        urls[fp.stem] = fp\n",
    "        urls[fp.stem.replace('VV', 'VH')] = str(fp.parents[0]) + '/' + fp.name.replace('VV', 'VH')\n",
    "        urls[fp.stem.replace('VV', 'inc')] = str(fp.parents[0]) + '/' + fp.name.replace('VV', 'inc')\n",
    "        imgs = []\n",
    "        for name, url in urls.items():\n",
    "            # download url to a tif file\n",
    "            # url_download(url, join(outdir, f'{name}.tif'), verbose = False)\n",
    "\n",
    "            # open image in xarray\n",
    "            img = rxa.open_rasterio(url, masked = True)\n",
    "\n",
    "            # reproject to WGS84\n",
    "            img = img.rio.reproject('EPSG:4326')\n",
    "\n",
    "            # clip to user specified area\n",
    "            img = img.rio.clip_box(*area.bounds)\n",
    "\n",
    "            # pad to area\n",
    "            img = img.rio.pad_box(*area.bounds)\n",
    "\n",
    "            # create band name\n",
    "            band_name = name.replace(f'{granule}_', '')\n",
    "\n",
    "            # add band to image\n",
    "            img = img.assign_coords(band = [band_name])\n",
    "\n",
    "            # coarsen image\n",
    "            img = img.coarsen(x = 3, boundary = 'trim').mean().coarsen(y = 3, boundary = 'trim').mean()\n",
    "\n",
    "            # add named band image to 3 image stack\n",
    "            imgs.append(img)\n",
    "\n",
    "        # concat VV, VH, and inc into one xarray DataArray\n",
    "        da = xr.concat(imgs, dim = 'band')\n",
    "\n",
    "        # we need to reproject each image to match the first image to make CRSs work\n",
    "        if dataArrays:\n",
    "            da = da.rio.reproject_match(dataArrays[first_granule])\n",
    "\n",
    "        # add img to downloaded dataArrays list with granule as key\n",
    "        dataArrays[granule] = da"
   ]
  },
  {
   "cell_type": "code",
   "execution_count": null,
   "metadata": {},
   "outputs": [],
   "source": [
    "ds2 = combine_s1_images(dataArrays)"
   ]
  }
 ],
 "metadata": {
  "kernelspec": {
   "display_name": "spicy",
   "language": "python",
   "name": "python3"
  },
  "language_info": {
   "codemirror_mode": {
    "name": "ipython",
    "version": 3
   },
   "file_extension": ".py",
   "mimetype": "text/x-python",
   "name": "python",
   "nbconvert_exporter": "python",
   "pygments_lexer": "ipython3",
   "version": "3.9.16"
  },
  "vscode": {
   "interpreter": {
    "hash": "d55f2b22363d79254ff041d13471de54e352f3ae9dfa1886ee2b85fe903b5a57"
   }
  }
 },
 "nbformat": 4,
 "nbformat_minor": 2
}
