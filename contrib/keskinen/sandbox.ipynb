{
 "cells": [
  {
   "cell_type": "code",
   "execution_count": null,
   "metadata": {},
   "outputs": [],
   "source": [
    "import numpy as np\n",
    "import pandas as pd\n",
    "import xarray as xr\n",
    "import rioxarray as rxa\n",
    "import matplotlib.pyplot as plt\n",
    "\n",
    "\n",
    "import sys\n",
    "sys.path.append('/Users/zachkeskinen/Documents/spicy-snow/')\n",
    "\n",
    "import pickle\n",
    "with open('/Users/zachkeskinen/Documents/spicy-snow/data/banner_lidar.pkl', 'rb') as f:\n",
    "    ds = pickle.load(f)\n",
    "spicy_sd = ds.isel(time = 81)['snow_depth']\n",
    "\n",
    "lidar = rxa.open_rasterio('/Users/zachkeskinen/Desktop/SNEX20_QSI_SD_0.5M_USIDBS_20210315_20210315.tif')\n",
    "xmin, ymin, xmax, ymax = lidar.rio.bounds()\n",
    "import pyproj\n",
    "proj = pyproj.Transformer.from_crs(6340, 4326, always_xy=True)\n",
    "xmin, ymin = proj.transform(xmin, ymin)\n",
    "xmax, ymax = proj.transform(xmax, ymax)\n",
    "\n",
    "spicy_sd = spicy_sd.rio.clip_box(*[xmin, ymin, xmax, ymax])\n",
    "\n",
    "spicy_sd = spicy_sd.rio.write_nodata(np.nan)\n",
    "lidar = lidar.rio.write_nodata(np.nan)\n",
    "\n",
    "lidar = lidar.rio.reproject_match(spicy_sd)\n",
    "spicy_sd = spicy_sd.where(~lidar.isnull())\n",
    "lidar = lidar.squeeze(dim = 'band')"
   ]
  },
  {
   "cell_type": "code",
   "execution_count": null,
   "metadata": {},
   "outputs": [],
   "source": [
    "import matplotlib.pyplot as plt\n",
    "\n",
    "def plot_xarray_2dhist(x, y, ax):\n",
    "    x = x.values.ravel()\n",
    "    y = y.values.ravel()\n",
    "\n",
    "    xtmp = x[(~np.isnan(x) & ~np.isnan(y)) & (y != 0)]\n",
    "    y = y[(~np.isnan(x) & ~np.isnan(y)) & (y != 0)]\n",
    "\n",
    "    ax.hist2d(x = xtmp, y = y, bins = 150)"
   ]
  },
  {
   "cell_type": "code",
   "execution_count": null,
   "metadata": {},
   "outputs": [],
   "source": [
    "fig, ax = plt.subplots()\n",
    "plot_xarray_2dhist(lidar, spicy_sd, ax)\n",
    "plt.title('Comparison of Banner March 15th Spicy SD and Lidar SD')\n",
    "plt.xlim(0,5)\n",
    "plt.ylim(0,5)"
   ]
  },
  {
   "cell_type": "code",
   "execution_count": null,
   "metadata": {},
   "outputs": [],
   "source": [
    "fig, axes = plt.subplots(2, figsize = (12,8))\n",
    "\n",
    "lidar.plot(ax = axes[0], vmin = 0, vmax = 4)\n",
    "spicy_sd.plot(ax = axes[1], vmin = 0, vmax = 4)\n",
    "\n",
    "axes[0].set_title(\"Lidar Snow Depth\")\n",
    "axes[1].set_title(\"Spicy Snow Depth\")\n",
    "\n",
    "for ax in axes:\n",
    "    ax.set_xlabel('')\n",
    "    ax.set_ylabel('')"
   ]
  },
  {
   "cell_type": "code",
   "execution_count": null,
   "metadata": {},
   "outputs": [],
   "source": [
    "fig, ax = plt.subplots()\n",
    "plot_xarray_2dhist(lidar, spicy_sd, ax)\n",
    "plt.title('Comparison of Banner March 15th Spicy SD and Lidar SD')\n",
    "plt.xlim(0,5)\n",
    "plt.ylim(0,5)"
   ]
  },
  {
   "cell_type": "code",
   "execution_count": null,
   "metadata": {},
   "outputs": [],
   "source": []
  }
 ],
 "metadata": {
  "kernelspec": {
   "display_name": "spicy",
   "language": "python",
   "name": "python3"
  },
  "language_info": {
   "codemirror_mode": {
    "name": "ipython",
    "version": 3
   },
   "file_extension": ".py",
   "mimetype": "text/x-python",
   "name": "python",
   "nbconvert_exporter": "python",
   "pygments_lexer": "ipython3",
   "version": "3.11.0"
  },
  "vscode": {
   "interpreter": {
    "hash": "d55f2b22363d79254ff041d13471de54e352f3ae9dfa1886ee2b85fe903b5a57"
   }
  }
 },
 "nbformat": 4,
 "nbformat_minor": 2
}
