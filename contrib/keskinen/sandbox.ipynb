{
 "cells": [
  {
   "cell_type": "code",
   "execution_count": null,
   "metadata": {},
   "outputs": [],
   "source": [
    "import numpy as np\n",
    "import xarray as xr\n",
    "\n",
    "fcf = np.random.randn(10, 10)\n",
    "deltaVV = np.random.randn(10, 10, 6)\n",
    "deltaCR = np.random.randn(10, 10, 6)\n",
    "\n",
    "times = [np.datetime64(t) for t in ['2020-01-01','2020-01-02', '2020-01-07','2020-01-08', '2020-01-14', '2020-01-15']]\n",
    "x = np.linspace(0, 9, 10)\n",
    "y = np.linspace(10, 19, 10)\n",
    "lon, lat = np.meshgrid(x, y)\n",
    "\n",
    "import sys\n",
    "sys.path.append('/Users/zachkeskinen/Documents/spicy-snow/')\n",
    "from spicy_snow.processing.wet_snow import id_new_wet_snow\n",
    "from spicy_snow.processing.snow_index import calc_delta_gamma, clip_delta_gamma_outlier, calc_snow_index\n",
    "\n",
    "ds = xr.Dataset(data_vars = dict(\n",
    "                fcf = ([\"x\", \"y\"], fcf),\n",
    "                deltaVV = ([\"x\", \"y\", \"time\"], deltaVV),\n",
    "                deltaCR = ([\"x\", \"y\", \"time\"], deltaCR),\n",
    "            ),\n",
    "       coords = dict(\n",
    "                lon = ([\"x\", \"y\"], lon),\n",
    "                lat = ([\"x\", \"y\"], lat),\n",
    "                band = ['VV', 'VH', 'inc'],\n",
    "                time = times,\n",
    "                relative_orbit = ([\"time\"], [24,1,24,1,24,1])) \n",
    ")\n",
    "\n",
    "ds = calc_delta_gamma(ds)\n",
    "ds = clip_delta_gamma_outlier(ds)\n",
    "ds = calc_snow_index(ds)"
   ]
  },
  {
   "cell_type": "code",
   "execution_count": null,
   "metadata": {},
   "outputs": [],
   "source": [
    "ds"
   ]
  }
 ],
 "metadata": {
  "kernelspec": {
   "display_name": "spicy",
   "language": "python",
   "name": "python3"
  },
  "language_info": {
   "codemirror_mode": {
    "name": "ipython",
    "version": 3
   },
   "file_extension": ".py",
   "mimetype": "text/x-python",
   "name": "python",
   "nbconvert_exporter": "python",
   "pygments_lexer": "ipython3",
   "version": "3.11.0"
  },
  "vscode": {
   "interpreter": {
    "hash": "d55f2b22363d79254ff041d13471de54e352f3ae9dfa1886ee2b85fe903b5a57"
   }
  }
 },
 "nbformat": 4,
 "nbformat_minor": 2
}
