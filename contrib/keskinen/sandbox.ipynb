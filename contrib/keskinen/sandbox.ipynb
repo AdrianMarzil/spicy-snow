{
 "cells": [
  {
   "cell_type": "code",
   "execution_count": null,
   "metadata": {},
   "outputs": [],
   "source": [
    "import numpy as np\n",
    "import pandas as pd\n",
    "import xarray as xr\n",
    "import rioxarray as rxa\n",
    "import matplotlib.pyplot as plt\n",
    "from datetime import datetime\n",
    "\n",
    "\n",
    "import sys\n",
    "sys.path.append('/Users/zachkeskinen/Documents/spicy-snow/')\n",
    "from spicy_snow.IO.user_dates import get_input_dates\n",
    "from spicy_snow.IO.user_area import get_input_area\n",
    "from spicy_snow import retrieve_snow_depth\n",
    "\n",
    "ds = xr.open_dataset('/Users/zachkeskinen/Documents/spicy-snow/SnowEx-Data/Cameron_2021-03-19.nc')"
   ]
  },
  {
   "cell_type": "code",
   "execution_count": null,
   "metadata": {},
   "outputs": [],
   "source": [
    "ds = xr.open_dataset('/Users/zachkeskinen/Documents/spicy-snow/SnowEx-Data/Cameron_2021-03-19.nc')\n",
    "fig, axes = plt.subplots(1, 2, figsize = (12,8))\n",
    "ds['lidar-sd'].plot(ax = axes[0], vmin = 0, vmax = 4)\n",
    "axes[0].set_title('CP Lidar Snow Depth')\n",
    "ds['snow_depth'].isel(time = 54).where(~ds['lidar-sd'].isnull()).plot(ax = axes[1], vmin = 0, vmax = 4)\n",
    "axes[1].set_title('CP Spicy Snow Depth')"
   ]
  },
  {
   "cell_type": "code",
   "execution_count": null,
   "metadata": {},
   "outputs": [],
   "source": [
    "ds = xr.open_dataset('/Users/zachkeskinen/Documents/spicy-snow/SnowEx-Data/Frasier_2021-03-19.nc')\n",
    "fig, axes = plt.subplots(1, 2, figsize = (12,8))\n",
    "ds['lidar-sd'].isel(time= 56).plot(ax = axes[0], vmin = 0, vmax = 4)\n",
    "axes[0].set_title('Frasier Lidar Snow Depth')\n",
    "ds['snow_depth'].isel(time = 59).where(~ds['lidar-sd'].isel(time= 56).isnull()).plot(ax = axes[1], vmin = 0, vmax = 4)\n",
    "axes[1].set_title('Frasier Spicy Snow Depth')"
   ]
  }
 ],
 "metadata": {
  "kernelspec": {
   "display_name": "spicy",
   "language": "python",
   "name": "python3"
  },
  "language_info": {
   "codemirror_mode": {
    "name": "ipython",
    "version": 3
   },
   "file_extension": ".py",
   "mimetype": "text/x-python",
   "name": "python",
   "nbconvert_exporter": "python",
   "pygments_lexer": "ipython3",
   "version": "3.11.0"
  },
  "vscode": {
   "interpreter": {
    "hash": "d55f2b22363d79254ff041d13471de54e352f3ae9dfa1886ee2b85fe903b5a57"
   }
  }
 },
 "nbformat": 4,
 "nbformat_minor": 2
}
