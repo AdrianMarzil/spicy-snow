{
 "cells": [
  {
   "cell_type": "code",
   "execution_count": null,
   "metadata": {},
   "outputs": [],
   "source": [
    "import pickle\n",
    "import shapely\n",
    "from pathlib import Path\n",
    "import numpy as np\n",
    "import pandas as pd\n",
    "import xarray as xr\n",
    "import rioxarray as rxa\n",
    "import matplotlib.pyplot as plt\n",
    "\n",
    "# Add main repo to path\n",
    "import sys\n",
    "from os.path import expanduser\n",
    "sys.path.append(expanduser('/Users/zachkeskinen/Documents/spicy-snow/'))\n",
    "\n",
    "from spicy_snow.processing.s1_preprocessing import merge_partial_s1_images\n",
    "\n",
    "from spicy_snow.processing.snow_index import calc_delta_cross_ratio, calc_delta_gamma, \\\n",
    "    clip_delta_gamma_outlier, calc_snow_index, calc_snow_index_to_snow_depth\n",
    "from spicy_snow.processing.wet_snow import id_newly_wet_snow, id_wet_negative_si, \\\n",
    "    id_newly_frozen_snow, flag_wet_snow"
   ]
  },
  {
   "cell_type": "code",
   "execution_count": 2,
   "metadata": {},
   "outputs": [
    {
     "name": "stdout",
     "output_type": "stream",
     "text": [
      "/bsuhome/zacharykeskinen/scratch/spicy-lowman-quadrant/spicy-lowman_-117--116_43-44.nc\n",
      "/bsuhome/zacharykeskinen/scratch/spicy-lowman-quadrant/spicy-lowman_-117--116_44-45.nc\n",
      "/bsuhome/zacharykeskinen/scratch/spicy-lowman-quadrant/spicy-lowman_-117--116_45-46.nc\n",
      "/bsuhome/zacharykeskinen/scratch/spicy-lowman-quadrant/spicy-lowman_-116--115_43-44.nc\n",
      "/bsuhome/zacharykeskinen/scratch/spicy-lowman-quadrant/spicy-lowman_-116--115_44-45.nc\n",
      "/bsuhome/zacharykeskinen/scratch/spicy-lowman-quadrant/spicy-lowman_-116--115_45-46.nc\n",
      "/bsuhome/zacharykeskinen/scratch/spicy-lowman-quadrant/spicy-lowman_-115--114_43-44.nc\n",
      "/bsuhome/zacharykeskinen/scratch/spicy-lowman-quadrant/spicy-lowman_-115--114_44-45.nc\n",
      "/bsuhome/zacharykeskinen/scratch/spicy-lowman-quadrant/spicy-lowman_-115--114_45-46.nc\n",
      "/bsuhome/zacharykeskinen/scratch/spicy-lowman-quadrant/spicy-lowman_-114--113_43-44.nc\n",
      "/bsuhome/zacharykeskinen/scratch/spicy-lowman-quadrant/spicy-lowman_-114--113_44-45.nc\n",
      "/bsuhome/zacharykeskinen/scratch/spicy-lowman-quadrant/spicy-lowman_-114--113_45-46.nc\n"
     ]
    }
   ],
   "source": [
    "from shapely import geometry\n",
    "from pathlib import Path\n",
    "from itertools import product\n",
    "for lon_min, lat_min in product(range(-117, -113), range(43, 46)):\n",
    "    print(Path(f'~/scratch/spicy-lowman-quadrant/spicy-lowman_{lon_min}-{lon_min + 1}_{lat_min}-{lat_min + 1}.nc').expanduser())\n",
    "    # area = geometry.box(-117, 43, -113, 46)"
   ]
  },
  {
   "cell_type": "code",
   "execution_count": 3,
   "metadata": {},
   "outputs": [
    {
     "data": {
      "image/svg+xml": [
       "<svg xmlns=\"http://www.w3.org/2000/svg\" xmlns:xlink=\"http://www.w3.org/1999/xlink\" width=\"100.0\" height=\"100.0\" viewBox=\"-117.16 42.84 4.319999999999993 3.319999999999993\" preserveAspectRatio=\"xMinYMin meet\"><g transform=\"matrix(1,0,0,-1,0,89.0)\"><path fill-rule=\"evenodd\" fill=\"#66cc99\" stroke=\"#555555\" stroke-width=\"0.08639999999999987\" opacity=\"0.6\" d=\"M -113.0,43.0 L -113.0,46.0 L -117.0,46.0 L -117.0,43.0 L -113.0,43.0 z\" /></g></svg>"
      ],
      "text/plain": [
       "<shapely.geometry.polygon.Polygon at 0x2aaab643f370>"
      ]
     },
     "execution_count": 3,
     "metadata": {},
     "output_type": "execute_result"
    }
   ],
   "source": [
    "area"
   ]
  },
  {
   "cell_type": "code",
   "execution_count": null,
   "metadata": {},
   "outputs": [],
   "source": [
    "ds = xr.open_dataset(Path('~/Desktop/spicy-lowman_-117--116_43-44.un.nc').expanduser())"
   ]
  },
  {
   "cell_type": "code",
   "execution_count": null,
   "metadata": {},
   "outputs": [],
   "source": [
    "merged = merge_partial_s1_images(ds)"
   ]
  },
  {
   "cell_type": "code",
   "execution_count": null,
   "metadata": {},
   "outputs": [],
   "source": []
  }
 ],
 "metadata": {
  "kernelspec": {
   "display_name": "spicy",
   "language": "python",
   "name": "python3"
  },
  "language_info": {
   "codemirror_mode": {
    "name": "ipython",
    "version": 3
   },
   "file_extension": ".py",
   "mimetype": "text/x-python",
   "name": "python",
   "nbconvert_exporter": "python",
   "pygments_lexer": "ipython3",
   "version": "3.9.16"
  },
  "vscode": {
   "interpreter": {
    "hash": "d55f2b22363d79254ff041d13471de54e352f3ae9dfa1886ee2b85fe903b5a57"
   }
  }
 },
 "nbformat": 4,
 "nbformat_minor": 2
}
