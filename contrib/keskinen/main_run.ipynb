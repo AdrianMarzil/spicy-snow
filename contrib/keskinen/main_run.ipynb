{
 "cells": [
  {
   "cell_type": "code",
   "execution_count": null,
   "metadata": {},
   "outputs": [],
   "source": [
    "# standard imports\n",
    "import numpy as np\n",
    "import xarray as xr\n",
    "import rioxarray\n",
    "import matplotlib.pyplot as plt\n",
    "\n",
    "# load up the saved dataset\n",
    "import pickle\n",
    "\n",
    "# add module to path so python can import it. This is the directory with \n",
    "# the __init__.py file in it to let python know this is a module.\n",
    "import sys\n",
    "sys.path.append('/Users/zachkeskinen/Documents/spicy-snow')\n",
    "\n",
    "# import the function to test\n",
    "from spicy_snow.download.sentinel1 import s1_img_search, hyp3_pipeline, download_hyp3, combine_s1_images\n",
    "import shapely\n",
    "import os\n",
    "# sets dates and areas\n",
    "dates = ('2019-02-01', '2019-02-25')\n",
    "area = shapely.geometry.box(-115, 43, -114, 44)\n",
    "\n",
    "# Set skip = True to skip indented steps\n",
    "skip = False\n",
    "\n",
    "\n",
    "os.makedirs('../data' , exist_ok = True)\n",
    "# get asf_search search results\n",
    "search_results = s1_img_search(area, dates)\n",
    "print(f'Found {len(search_results)} results')"
   ]
  },
  {
   "cell_type": "code",
   "execution_count": null,
   "metadata": {},
   "outputs": [],
   "source": [
    "# download s1 images into dataset ['s1'] keyword\n",
    "jobs = hyp3_pipeline(search_results, job_name = 'improve-downloads', existing_job_name = 'improve-downloads')\n",
    "das = download_hyp3(jobs, area, outdir='/Users/zachkeskinen/Documents/spicy-snow/data/tmp4', clean = False)\n",
    "ds = combine_s1_images(das)"
   ]
  },
  {
   "cell_type": "code",
   "execution_count": null,
   "metadata": {},
   "outputs": [],
   "source": [
    "from spicy_snow.download.snow_cover import download_snow_cover\n",
    "from spicy_snow.download.forest_cover import download_fcf"
   ]
  },
  {
   "cell_type": "code",
   "execution_count": null,
   "metadata": {},
   "outputs": [],
   "source": [
    "ds = download_snow_cover(ds)"
   ]
  },
  {
   "cell_type": "code",
   "execution_count": null,
   "metadata": {},
   "outputs": [],
   "source": [
    "ds = download_fcf(ds, '/Users/zachkeskinen/Documents/spicy-snow/data/fcf.tif')"
   ]
  },
  {
   "cell_type": "code",
   "execution_count": null,
   "metadata": {},
   "outputs": [],
   "source": [
    "with open('/Users/zachkeskinen/Documents/spicy-snow/tests/test_data/2_img_ds', 'wb') as f:\n",
    "    pickle.dump(ds, f)"
   ]
  }
 ],
 "metadata": {
  "kernelspec": {
   "display_name": "spicy",
   "language": "python",
   "name": "python3"
  },
  "language_info": {
   "codemirror_mode": {
    "name": "ipython",
    "version": 3
   },
   "file_extension": ".py",
   "mimetype": "text/x-python",
   "name": "python",
   "nbconvert_exporter": "python",
   "pygments_lexer": "ipython3",
   "version": "3.11.0"
  },
  "vscode": {
   "interpreter": {
    "hash": "d55f2b22363d79254ff041d13471de54e352f3ae9dfa1886ee2b85fe903b5a57"
   }
  }
 },
 "nbformat": 4,
 "nbformat_minor": 2
}
