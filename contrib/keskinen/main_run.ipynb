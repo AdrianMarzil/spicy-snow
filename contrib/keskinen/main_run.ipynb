{
 "cells": [
  {
   "cell_type": "code",
   "execution_count": null,
   "metadata": {},
   "outputs": [],
   "source": [
    "# standard imports\n",
    "import numpy as np\n",
    "import xarray as xr\n",
    "import rioxarray\n",
    "import matplotlib.pyplot as plt\n",
    "\n",
    "# load up the saved dataset\n",
    "import pickle\n",
    "fp = '/Users/zachkeskinen/Documents/spicy-snow/tests/test_data/2_img_ds'\n",
    "# fp = '/Users/zachkeskinen/Documents/spicy-snow/data/10_img_dB.pkl'\n",
    "with open(fp, 'rb') as f:\n",
    "    ds = pickle.load(f)\n",
    "\n",
    "# add module to path so python can import it. This is the directory with \n",
    "# the __init__.py file in it to let python know this is a module.\n",
    "import sys\n",
    "sys.path.append('/Users/zachkeskinen/Documents/spicy-snow/spicy_snow')\n",
    "\n",
    "# import the function to test\n",
    "from processing.snow_index import calc_delta_VV, calc_delta_cross_ratio\n",
    "\n",
    "# ds = ds.isel(time = slice(1, 3))"
   ]
  },
  {
   "cell_type": "code",
   "execution_count": null,
   "metadata": {},
   "outputs": [],
   "source": [
    "def calc_delta_cross_ratio(dataset: xr.Dataset, A: float = 2, inplace: bool = False) -> xr.Dataset:\n",
    "    \"\"\"\n",
    "    Calculate change in cross-polarization ratio for all time steps.\n",
    "    \n",
    "    delta-gamma-cr (i, t) = gamma-cr (i, t) - gamma-cr (i, t_previous)\n",
    "\n",
    "    with:\n",
    "    gamma-cr = A * VH - VV\n",
    "\n",
    "    and gamma-VH and gamma-VV in dB. Lieven's et al. 2021 tests A over [1, 2, 3]\n",
    "    and fit to A = 2.\n",
    "\n",
    "    Returns nans in time slice of deltaCR with no previous image \n",
    "    (first of each relative orbit)\n",
    "\n",
    "    Args:\n",
    "    dataset: Xarray Dataset of sentinel images\n",
    "    A: fitting parameter [default = 2]\n",
    "    inplace: operate on dataset in place or return copy\n",
    "\n",
    "    Returns:\n",
    "    dataset: Xarray Dataset of sentinel images with deltaCR added as data var\n",
    "    \"\"\"\n",
    "\n",
    "    # check inplace flag\n",
    "    if not inplace:\n",
    "        dataset = dataset.copy(deep=True)\n",
    "\n",
    "    # check for amp\n",
    "    if 's1_units' in dataset.attrs.keys():\n",
    "        assert dataset.attrs['s1_units'] == 'dB', 'Sentinel-1 units must be in dB'\n",
    "\n",
    "    # calculate cross ratio of VH to VV with fitting parameter A\n",
    "    gamma_cr = (A * dataset['s1'].sel(band='VH')) - dataset['s1'].sel(band='VV')\n",
    "\n",
    "    return gamma_cr\n",
    "\n",
    "    # get all unique relative orbits\n",
    "    orbits = np.unique(dataset['relative_orbit'].values)\n",
    "    \n",
    "    # Identify previous image from the same relative orbit (6, 12, 18, or 24 days ago)\n",
    "    for orbit in orbits:\n",
    "\n",
    "        # Calculate change in gamma-cr between previous and current time step\n",
    "        diffCR = gamma_cr.sel(time = dataset.relative_orbit == orbit).diff(dim = 'time')\n",
    "        \n",
    "        # add delta-gamma-cr as band to dataset\n",
    "        # if adding new \n",
    "        if 'deltaCR' not in dataset.data_vars:\n",
    "            # add delta-gamma-CR as new variable to dataset\n",
    "            dataset['deltaCR'] = diffCR\n",
    "        \n",
    "        else:\n",
    "            # update deltaCR times with this. \n",
    "            dataset['deltaCR'].loc[dict(time = diffCR.time)] = diffCR\n",
    "    \n",
    "    if not inplace:\n",
    "        return dataset"
   ]
  },
  {
   "cell_type": "code",
   "execution_count": null,
   "metadata": {},
   "outputs": [],
   "source": [
    "ds['s1'].isel(time = 0).sel(band = 'VH')*2 -ds['s1'].isel(time = 0).sel(band = 'VV') "
   ]
  },
  {
   "cell_type": "code",
   "execution_count": null,
   "metadata": {},
   "outputs": [],
   "source": [
    "ds1 = calc_delta_cross_ratio(ds)\n",
    "# ds1 = calc_delta_VV(ds1)"
   ]
  },
  {
   "cell_type": "code",
   "execution_count": null,
   "metadata": {},
   "outputs": [],
   "source": [
    "ds1.isel(time = 0)"
   ]
  },
  {
   "cell_type": "code",
   "execution_count": null,
   "metadata": {},
   "outputs": [],
   "source": [
    "CR1"
   ]
  },
  {
   "cell_type": "code",
   "execution_count": null,
   "metadata": {},
   "outputs": [],
   "source": [
    "test_A = 2\n",
    "\n",
    "CR1, CR2, CR3 = ds['s1'].sel(band = 'VV') * test_A - ds['s1'].sel(band = 'VH')\n",
    "real2_1_diff = CR2 - CR1\n",
    "real3_2_diff = CR3 - CR2"
   ]
  },
  {
   "cell_type": "code",
   "execution_count": null,
   "metadata": {},
   "outputs": [],
   "source": [
    "ds1['deltaCR'].isel(time = 1)"
   ]
  },
  {
   "cell_type": "code",
   "execution_count": null,
   "metadata": {},
   "outputs": [],
   "source": [
    "assert np.allclose(ds1['deltaCR'].isel(time = 1), real2_1_diff)"
   ]
  }
 ],
 "metadata": {
  "kernelspec": {
   "display_name": "spicy",
   "language": "python",
   "name": "python3"
  },
  "language_info": {
   "codemirror_mode": {
    "name": "ipython",
    "version": 3
   },
   "file_extension": ".py",
   "mimetype": "text/x-python",
   "name": "python",
   "nbconvert_exporter": "python",
   "pygments_lexer": "ipython3",
   "version": "3.11.0"
  },
  "vscode": {
   "interpreter": {
    "hash": "d55f2b22363d79254ff041d13471de54e352f3ae9dfa1886ee2b85fe903b5a57"
   }
  }
 },
 "nbformat": 4,
 "nbformat_minor": 2
}
