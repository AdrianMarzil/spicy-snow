{
 "cells": [
  {
   "cell_type": "code",
   "execution_count": null,
   "metadata": {},
   "outputs": [],
   "source": [
    "# standard imports\n",
    "import numpy as np\n",
    "import xarray as xr\n",
    "import rioxarray\n",
    "import matplotlib.pyplot as plt\n",
    "\n",
    "# load up the saved dataset\n",
    "import pickle\n",
    "# fp = '/Users/zachkeskinen/Documents/spicy-snow/tests/test_data/2_img_ds'\n",
    "fp = '/Users/zachkeskinen/Documents/spicy-snow/data/main_test_proc.pkl'\n",
    "with open(fp, 'rb') as f:\n",
    "    ds = pickle.load(f)\n",
    "\n",
    "# add module to path so python can import it. This is the directory with \n",
    "# the __init__.py file in it to let python know this is a module.\n",
    "import sys\n",
    "sys.path.append('/Users/zachkeskinen/Documents/spicy-snow')\n",
    "\n",
    "# import the function to test\n",
    "from spicy_snow.processing.snow_index import calc_delta_gamma\n",
    "from spicy_snow.processing.wet_snow import id_new_wet_snow, id_newly_frozen_snow"
   ]
  },
  {
   "cell_type": "code",
   "execution_count": null,
   "metadata": {},
   "outputs": [],
   "source": [
    "t2 = ds.time[5]\n",
    "\n",
    "ds['deltaCR'].loc[dict(time = t2)][0,0] = -3\n",
    "\n",
    "ds['deltaVV'].loc[dict(time = t2)][400,200] = -3\n",
    "\n",
    "ds = id_new_wet_snow(ds)\n",
    "\n",
    "assert ds['wet_flag'].sel(time = t2)[0,0] == 1\n",
    "\n",
    "assert ds['wet_flag'].sel(time = t2)[0,1] == 0\n",
    "\n",
    "assert ds['wet_flag'].sel(time = t2)[400,200] == 1\n",
    "\n",
    "assert ds['wet_flag'].sel(time = t2)[400,201] == 0"
   ]
  },
  {
   "cell_type": "code",
   "execution_count": null,
   "metadata": {},
   "outputs": [],
   "source": [
    "ds['wet_flag'].sel(time = t2).plot()"
   ]
  },
  {
   "cell_type": "code",
   "execution_count": null,
   "metadata": {},
   "outputs": [],
   "source": [
    "freeze_thresh = 2\n",
    "\n",
    "t3 = ds.time[6]\n",
    "\n",
    "ds['deltaGamma'].loc[dict(time = t3)][0,0] = 3\n",
    "\n",
    "ds = id_newly_frozen_snow(ds)\n",
    "\n",
    "assert ds['wet_flag'].sel(time = t3)[0,0] == -1\n",
    "\n",
    "# check nothing else has changed\n",
    "\n",
    "assert ds['wet_flag'].sel(time = t2)[0,0] == 1\n",
    "\n",
    "assert ds['wet_flag'].sel(time = t2)[0,1] == 0\n",
    "\n",
    "assert ds['wet_flag'].sel(time = t2)[400,200] == 1\n",
    "\n",
    "assert ds['wet_flag'].sel(time = t2)[400,201] == 0"
   ]
  },
  {
   "cell_type": "code",
   "execution_count": null,
   "metadata": {},
   "outputs": [],
   "source": [
    "ds['deltaGamma'].sel(time = t2)[0,0]"
   ]
  }
 ],
 "metadata": {
  "kernelspec": {
   "display_name": "spicy",
   "language": "python",
   "name": "python3"
  },
  "language_info": {
   "codemirror_mode": {
    "name": "ipython",
    "version": 3
   },
   "file_extension": ".py",
   "mimetype": "text/x-python",
   "name": "python",
   "nbconvert_exporter": "python",
   "pygments_lexer": "ipython3",
   "version": "3.11.0"
  },
  "vscode": {
   "interpreter": {
    "hash": "d55f2b22363d79254ff041d13471de54e352f3ae9dfa1886ee2b85fe903b5a57"
   }
  }
 },
 "nbformat": 4,
 "nbformat_minor": 2
}
