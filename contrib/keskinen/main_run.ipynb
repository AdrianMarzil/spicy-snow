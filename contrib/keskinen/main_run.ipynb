{
 "cells": [
  {
   "cell_type": "code",
   "execution_count": null,
   "metadata": {},
   "outputs": [],
   "source": [
    "# standard imports\n",
    "import numpy as np\n",
    "import xarray as xr\n",
    "import rioxarray\n",
    "import matplotlib.pyplot as plt\n",
    "\n",
    "# load up the saved dataset\n",
    "import pickle\n",
    "# fp = '/Users/zachkeskinen/Documents/spicy-snow/tests/test_data/2_img_ds'\n",
    "fp = '/Users/zachkeskinen/Documents/spicy-snow/data/10_img_dB.pkl'\n",
    "with open(fp, 'rb') as f:\n",
    "    ds = pickle.load(f)\n",
    "\n",
    "# add module to path so python can import it. This is the directory with \n",
    "# the __init__.py file in it to let python know this is a module.\n",
    "import sys\n",
    "sys.path.append('/Users/zachkeskinen/Documents/spicy-snow/spicy_snow')\n",
    "\n",
    "# import the function to test\n",
    "from processing.snow_index import calc_delta_VV\n",
    "\n",
    "# ds = ds.isel(time = slice(1, 3))"
   ]
  },
  {
   "cell_type": "code",
   "execution_count": null,
   "metadata": {},
   "outputs": [],
   "source": []
  }
 ],
 "metadata": {
  "kernelspec": {
   "display_name": "spicy",
   "language": "python",
   "name": "python3"
  },
  "language_info": {
   "codemirror_mode": {
    "name": "ipython",
    "version": 3
   },
   "file_extension": ".py",
   "mimetype": "text/x-python",
   "name": "python",
   "nbconvert_exporter": "python",
   "pygments_lexer": "ipython3",
   "version": "3.11.0"
  },
  "vscode": {
   "interpreter": {
    "hash": "d55f2b22363d79254ff041d13471de54e352f3ae9dfa1886ee2b85fe903b5a57"
   }
  }
 },
 "nbformat": 4,
 "nbformat_minor": 2
}
