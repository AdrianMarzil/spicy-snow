{
 "cells": [
  {
   "cell_type": "code",
   "execution_count": null,
   "metadata": {},
   "outputs": [],
   "source": [
    "# standard imports\n",
    "import numpy as np\n",
    "import xarray as xr\n",
    "import rioxarray\n",
    "import matplotlib.pyplot as plt\n",
    "\n",
    "# load up the saved dataset\n",
    "import pickle\n",
    "# with open('/Users/zachkeskinen/Documents/spicy-snow/data/10_img_dB.pkl', 'rb') as f:\n",
    "#     ds = pickle.load(f)\n",
    "\n",
    "with open('/Users/zachkeskinen/Documents/spicy-snow/tests/test_data/2_img_ds', 'rb') as f:\n",
    "    ds = pickle.load(f)\n",
    "\n",
    "# add module to path so python can import it. This is the directory with \n",
    "# the __init__.py file in it to let python know this is a module.\n",
    "import sys\n",
    "sys.path.append('/Users/zachkeskinen/Documents/spicy-snow/spicy_snow')\n",
    "\n",
    "# import the function to test\n",
    "from processing.snow_index import calc_delta_VV\n",
    "\n",
    "# ds = ds.isel(time = slice(1, 3))"
   ]
  },
  {
   "cell_type": "code",
   "execution_count": null,
   "metadata": {},
   "outputs": [],
   "source": [
    "da1, da2, da3 = ds['s1'].sel(band = 'VV')"
   ]
  },
  {
   "cell_type": "code",
   "execution_count": null,
   "metadata": {},
   "outputs": [],
   "source": [
    "real2_1_diff = da2 - da1"
   ]
  },
  {
   "cell_type": "code",
   "execution_count": null,
   "metadata": {},
   "outputs": [],
   "source": [
    "ds1 = calc_delta_VV(ds)"
   ]
  },
  {
   "cell_type": "code",
   "execution_count": null,
   "metadata": {},
   "outputs": [],
   "source": [
    "real2_1_diff"
   ]
  },
  {
   "cell_type": "code",
   "execution_count": null,
   "metadata": {},
   "outputs": [],
   "source": [
    "ds1['s1'].sel(band = 'deltaVV').isel(time = 1)"
   ]
  },
  {
   "cell_type": "code",
   "execution_count": null,
   "metadata": {},
   "outputs": [],
   "source": [
    "ds1['s1'].sel(band = 'deltaVV').isel(time = 6).plot(vmin = -1, vmax = 1)"
   ]
  },
  {
   "cell_type": "code",
   "execution_count": null,
   "metadata": {},
   "outputs": [],
   "source": [
    "def add_band(dataset, dataArray, band_name):\n",
    "    dataArray = dataArray.reset_coords(names = ['flight_dir', 'platform', 'relative_orbit'], drop = True)\n",
    "    dataArray['band'] = band_name\n",
    "\n",
    "    if band_name not in dataset.band:\n",
    "        com_da = xr.concat([dataset['s1'], dataArray], dim = 'band')\n",
    "\n",
    "        vars = list(dataset.data_vars)\n",
    "        vars.remove('s1')\n",
    "\n",
    "        dataset = xr.merge([dataset[vars], com_da])\n",
    "    else:\n",
    "        dataset['s1'].loc[dict(band = band_name, time = dataArray.time)] = dataArray\n",
    "\n",
    "    return dataset"
   ]
  },
  {
   "cell_type": "code",
   "execution_count": null,
   "metadata": {},
   "outputs": [],
   "source": [
    "# get all unique relative orbits\n",
    "orbits = np.unique(ds['relative_orbit'].values)\n",
    "\n",
    "vars = list(ds.data_vars)\n",
    "vars.remove('s1')\n",
    "\n",
    "for orbit in orbits:\n",
    "    diff = ds['s1'].sel(time = ds.relative_orbit == orbit, band = 'VV').diff(dim = 'time')\n",
    "    ds = add_band(ds, diff, 'deltaVV')"
   ]
  },
  {
   "cell_type": "code",
   "execution_count": null,
   "metadata": {},
   "outputs": [],
   "source": [
    "ds['s1'].sel(band = 'deltaVV').isel(time = 8)"
   ]
  },
  {
   "cell_type": "code",
   "execution_count": null,
   "metadata": {},
   "outputs": [],
   "source": [
    "ds['s1'].loc[dict(band = 'deltaVV', time = diff.time)] = diff"
   ]
  },
  {
   "cell_type": "code",
   "execution_count": null,
   "metadata": {},
   "outputs": [],
   "source": [
    "ds"
   ]
  },
  {
   "cell_type": "code",
   "execution_count": null,
   "metadata": {},
   "outputs": [],
   "source": [
    "add_band(ds, diff, 'deltaVV')"
   ]
  },
  {
   "cell_type": "code",
   "execution_count": null,
   "metadata": {},
   "outputs": [],
   "source": [
    "com_da"
   ]
  },
  {
   "cell_type": "code",
   "execution_count": null,
   "metadata": {},
   "outputs": [],
   "source": [
    "ds"
   ]
  },
  {
   "cell_type": "code",
   "execution_count": null,
   "metadata": {},
   "outputs": [],
   "source": [
    "diff['band'] = 'deltaVV'"
   ]
  },
  {
   "cell_type": "code",
   "execution_count": null,
   "metadata": {},
   "outputs": [],
   "source": [
    "xr.concat([ds['s1'], diff], dim = 'band')"
   ]
  },
  {
   "cell_type": "code",
   "execution_count": null,
   "metadata": {},
   "outputs": [],
   "source": [
    "def add_band(dataset, dataArray, name):\n",
    "    dataArray = dataArray.reset_coords(names = ['flight_dir', 'platform', 'relative_orbit'], drop = True)\n",
    "    dataArray['band'] = name\n",
    "    com_da = xr.concat([dataset['s1'], dataArray], dim = 'band')\n",
    "\n",
    "    vars = list(dataset.data_vars)\n",
    "    vars.remove('s1')\n",
    "    dataset = xr.merge([dataset[vars], com_da])\n",
    "\n",
    "    return dataset"
   ]
  },
  {
   "cell_type": "code",
   "execution_count": null,
   "metadata": {},
   "outputs": [],
   "source": [
    "ds2 = add_band(ds, diff, 'deltaVV')"
   ]
  },
  {
   "cell_type": "code",
   "execution_count": null,
   "metadata": {},
   "outputs": [],
   "source": [
    "ds2.sel(band = 'deltaVV')['s1'].isel(time = 3).plot(vmin = -1, vmax=1)"
   ]
  },
  {
   "cell_type": "code",
   "execution_count": null,
   "metadata": {},
   "outputs": [],
   "source": [
    "diff = diff.reset_coords(names = ['flight_dir', 'platform', 'relative_orbit'], drop = True)\n",
    "com_da = xr.concat([ds['s1'], diff], dim = 'band')"
   ]
  },
  {
   "cell_type": "code",
   "execution_count": null,
   "metadata": {},
   "outputs": [],
   "source": [
    "vars = list(ds.data_vars)\n",
    "vars.remove('s1')\n",
    "\n",
    "a = list(ds.data_vars)\n",
    "a.remove('s1')\n",
    "ds = xr.merge([ds[a], com_da])\n"
   ]
  },
  {
   "cell_type": "code",
   "execution_count": null,
   "metadata": {},
   "outputs": [],
   "source": [
    "ds"
   ]
  },
  {
   "cell_type": "code",
   "execution_count": null,
   "metadata": {},
   "outputs": [],
   "source": [
    "vv1 = ds['s1'].sel(time = ds.relative_orbit == 20, band = 'VV').isel(time = 0)\n",
    "vv2 = ds['s1'].sel(time = ds.relative_orbit == 20, band = 'VV').isel(time = 1)"
   ]
  },
  {
   "cell_type": "code",
   "execution_count": null,
   "metadata": {},
   "outputs": [],
   "source": [
    "vv1.plot()"
   ]
  },
  {
   "cell_type": "code",
   "execution_count": null,
   "metadata": {},
   "outputs": [],
   "source": [
    "vv2.plot()"
   ]
  },
  {
   "cell_type": "code",
   "execution_count": null,
   "metadata": {},
   "outputs": [],
   "source": [
    "(vv2 - vv1).plot(vmax = 1, vmin = -1)"
   ]
  },
  {
   "cell_type": "code",
   "execution_count": null,
   "metadata": {},
   "outputs": [],
   "source": [
    "diff.isel(time = 0).plot(vmax = 1, vmin = -1)"
   ]
  },
  {
   "cell_type": "code",
   "execution_count": null,
   "metadata": {},
   "outputs": [],
   "source": []
  }
 ],
 "metadata": {
  "kernelspec": {
   "display_name": "spicy",
   "language": "python",
   "name": "python3"
  },
  "language_info": {
   "codemirror_mode": {
    "name": "ipython",
    "version": 3
   },
   "file_extension": ".py",
   "mimetype": "text/x-python",
   "name": "python",
   "nbconvert_exporter": "python",
   "pygments_lexer": "ipython3",
   "version": "3.11.0"
  },
  "vscode": {
   "interpreter": {
    "hash": "d55f2b22363d79254ff041d13471de54e352f3ae9dfa1886ee2b85fe903b5a57"
   }
  }
 },
 "nbformat": 4,
 "nbformat_minor": 2
}
