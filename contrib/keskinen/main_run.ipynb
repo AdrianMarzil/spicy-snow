{
 "cells": [
  {
   "cell_type": "code",
   "execution_count": null,
   "metadata": {},
   "outputs": [],
   "source": [
    "# add module to path so python can import it. This is the directory with \n",
    "# the __init__.py file in it to let python know this is a module.\n",
    "import sys\n",
    "sys.path.append('/Users/zachkeskinen/Documents/spicy-snow/spicy_snow')\n",
    "\n",
    "from download.sentinel1 import combine_s1_images"
   ]
  },
  {
   "cell_type": "code",
   "execution_count": null,
   "metadata": {},
   "outputs": [],
   "source": [
    "import numpy as np\n",
    "import xarray as xr\n",
    "\n",
    "das = {}\n",
    "granules = ['S1B_IW_GRDH_1SDV_20200201T013528_20200201T013553_020069_025FB3_6D5E',\n",
    "'S1B_IW_GRDH_1SDV_20200130T134920_20200130T134948_020047_025EF4_9218',\n",
    "'S1B_IW_GRDH_1SDV_20200127T012726_20200127T012751_019996_025D37_D0F0',\n",
    "'S1A_IW_GRDH_1SDV_20200126T013605_20200126T013634_030965_038E37_760E',\n",
    "'S1A_IW_GRDH_1SDV_20200124T135002_20200124T135027_030943_038D6F_FED5']\n",
    "for i in range(5):\n",
    "    backscatter = np.random.randn(10, 10, 3)\n",
    "    x = np.linspace(0, 9, 10)\n",
    "    y = np.linspace(10, 19, 10)\n",
    "    lon, lat = np.meshgrid(x, y)\n",
    "\n",
    "    da = xr.DataArray(data = backscatter,\n",
    "        dims = [\"x\",\"y\",\"band\"],\n",
    "        coords = dict(\n",
    "            lon=([\"x\", \"y\"], lon),\n",
    "            lat=([\"x\", \"y\"], lat)))\n",
    "    das[granules[i]] = da"
   ]
  },
  {
   "cell_type": "code",
   "execution_count": null,
   "metadata": {},
   "outputs": [],
   "source": [
    "ds = combine_s1_images(das)"
   ]
  },
  {
   "cell_type": "code",
   "execution_count": null,
   "metadata": {},
   "outputs": [],
   "source": [
    "ds.flight_dir"
   ]
  },
  {
   "cell_type": "code",
   "execution_count": null,
   "metadata": {},
   "outputs": [],
   "source": [
    "# standard imports\n",
    "import numpy as np\n",
    "import xarray as xr\n",
    "import rioxarray\n",
    "import matplotlib.pyplot as plt\n",
    "\n",
    "# load up the saved dataset\n",
    "import pickle\n",
    "fp = '/Users/zachkeskinen/Documents/spicy-snow/tests/test_data/2_img_ds'\n",
    "# fp = '/Users/zachkeskinen/Documents/spicy-snow/data/10_img_dB.pkl'\n",
    "with open(fp, 'rb') as f:\n",
    "    ds = pickle.load(f)\n",
    "\n",
    "# add module to path so python can import it. This is the directory with \n",
    "# the __init__.py file in it to let python know this is a module.\n",
    "import sys\n",
    "sys.path.append('/Users/zachkeskinen/Documents/spicy-snow/spicy_snow')\n",
    "\n",
    "# import the function to test\n",
    "from processing.snow_index import calc_delta_VV, calc_delta_cross_ratio\n",
    "\n",
    "# ds = ds.isel(time = slice(1, 3))\n",
    "\n",
    "ds = calc_delta_cross_ratio(ds)\n",
    "ds = calc_delta_VV(ds)\n",
    "\n",
    "# import the function to test\n",
    "from processing.snow_index import calc_delta_gamma, clip_delta_gamma_outlier\n",
    "ds = calc_delta_gamma(ds)"
   ]
  },
  {
   "cell_type": "code",
   "execution_count": null,
   "metadata": {},
   "outputs": [],
   "source": [
    "# import the function to test\n",
    "from spicy_snow.download.sentinel1 import s1_img_search, hyp3_pipeline, download_hyp3, combine_s1_images\n",
    "import shapely\n",
    "import os\n",
    "# sets dates and areas\n",
    "dates = ('2019-02-01', '2019-02-25')\n",
    "area = shapely.geometry.box(-115, 43, -114, 44)\n",
    "\n",
    "# Set skip = True to skip indented steps\n",
    "skip = False\n",
    "\n",
    "\n",
    "os.makedirs('../data' , exist_ok = True)\n",
    "# get asf_search search results\n",
    "search_results = s1_img_search(area, dates)\n",
    "print(f'Found {len(search_results)} results')"
   ]
  },
  {
   "cell_type": "code",
   "execution_count": null,
   "metadata": {},
   "outputs": [],
   "source": [
    "# download s1 images into dataset ['s1'] keyword\n",
    "jobs = hyp3_pipeline(search_results, job_name = 'improve-downloads', existing_job_name = 'improve-downloads')"
   ]
  },
  {
   "cell_type": "code",
   "execution_count": null,
   "metadata": {},
   "outputs": [],
   "source": [
    "das = download_hyp3(jobs, area, outdir='/Users/zachkeskinen/Documents/spicy-snow/data/tmp4', clean = False)"
   ]
  },
  {
   "cell_type": "code",
   "execution_count": null,
   "metadata": {},
   "outputs": [],
   "source": [
    "ds = combine_s1_images(das)"
   ]
  },
  {
   "cell_type": "code",
   "execution_count": null,
   "metadata": {},
   "outputs": [],
   "source": [
    "ds['s1'].isel(time = 1).sel(band = 'VH').plot()"
   ]
  }
 ],
 "metadata": {
  "kernelspec": {
   "display_name": "spicy",
   "language": "python",
   "name": "python3"
  },
  "language_info": {
   "codemirror_mode": {
    "name": "ipython",
    "version": 3
   },
   "file_extension": ".py",
   "mimetype": "text/x-python",
   "name": "python",
   "nbconvert_exporter": "python",
   "pygments_lexer": "ipython3",
   "version": "3.11.0"
  },
  "vscode": {
   "interpreter": {
    "hash": "d55f2b22363d79254ff041d13471de54e352f3ae9dfa1886ee2b85fe903b5a57"
   }
  }
 },
 "nbformat": 4,
 "nbformat_minor": 2
}
