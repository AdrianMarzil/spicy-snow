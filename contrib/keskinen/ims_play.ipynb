{
 "cells": [
  {
   "attachments": {},
   "cell_type": "markdown",
   "metadata": {},
   "source": [
    "https://usicecenter.gov/Products/ImsHome\n",
    "\n",
    "https://nsidc.org/data/user-resources/help-center/how-access-data-using-ftp-client-command-line-wget-or-python\n",
    "\n",
    "https://www.itsonlyamodel.us/"
   ]
  },
  {
   "cell_type": "code",
   "execution_count": null,
   "metadata": {},
   "outputs": [],
   "source": [
    "from ftplib import FTP\n",
    "import os\n",
    "from os.path import join\n",
    "from datetime import datetime\n",
    "import rioxarray as rio\n",
    "import numpy as np\n",
    "import pandas as pd"
   ]
  },
  {
   "cell_type": "code",
   "execution_count": null,
   "metadata": {},
   "outputs": [],
   "source": [
    "def parse_lines(file_path):\n",
    "    with open(file_path) as f:  \n",
    "        # read the content of the file opened\n",
    "        lines = f.readlines()\n",
    "    lines = [l.strip().strip().split(':', 1) for l in lines]\n",
    "    lines = {l[0].strip():l[1].strip() for l in lines if len(l) == 2}\n",
    "    return lines\n",
    "\n",
    "def read_data_1km_compressed(filename):\n",
    "  nx = 8000\n",
    "  widths = np.full((nx), 1, dtype=int).tolist()\n",
    "  data = pd.read_fwf(filename, widths=widths, lineterminator='\\n', header=None).values\n",
    "  return(data)\n",
    "\n",
    "def read_data_1km(year=2017, doy=300):\n",
    "  nx = 24576\n",
    "  url = (\"ftp://sidads.colorado.edu/pub/DATASETS/NOAA/G02156/1km/%s/ims%s%s_1km_v1.3.asc.gz\" %\n",
    "         (year, year, doy))\n",
    "  widths = np.full((nx), 1, dtype=int).tolist()\n",
    "  data = pd.read_fwf(url, skiprows=30, widths=widths,\n",
    "                              lineterminator='\\n', header=None, compression='gzip').values\n",
    "  return(data[min_ind_lats:max_ind_lats, min_ind_lons:max_ind_lons])"
   ]
  },
  {
   "cell_type": "code",
   "execution_count": null,
   "metadata": {},
   "outputs": [],
   "source": [
    "fn = '/DATASETS/NOAA/G02156/1km/2020/ims2020001_00UTC_1km_v1.3.asc.gz'"
   ]
  },
  {
   "cell_type": "code",
   "execution_count": null,
   "metadata": {},
   "outputs": [],
   "source": [
    "read_data_1km()"
   ]
  },
  {
   "cell_type": "code",
   "execution_count": null,
   "metadata": {},
   "outputs": [],
   "source": [
    "### The following 3 variables can be changed ###\n",
    "# 1. Set the directory you would like to download the files to\n",
    "destdir='/Users/zachkeskinen/Documents/c-snow/contrib/keskinen/data'\n",
    "\n",
    "# 2. Set the path to the FTP directory that contains the data you wish to download.\n",
    "# This example is for the daily northern hemisphere data from the Sea Ice Index\n",
    "# https://nsidc.org/data/g02135\n",
    "directory = '/DATASETS/NOAA/G02156/1km/'\n",
    "\n",
    "# 3. Set the password which will be your email address\n",
    "password = 'zachkeskinen@gmail.com'\n",
    "\n",
    "# 4. Set dates to get IMS from\n",
    "dates = ('2019-12-20', '2020-01-10')\n",
    "dates = [{'date': datetime.strptime(d, '%Y-%m-%d'), 'year': int(d.split('-')[0]), 'doy':datetime.strptime(d, '%Y-%m-%d').timetuple().tm_yday} for d in dates]"
   ]
  },
  {
   "cell_type": "code",
   "execution_count": null,
   "metadata": {},
   "outputs": [],
   "source": [
    "files"
   ]
  },
  {
   "cell_type": "code",
   "execution_count": null,
   "metadata": {},
   "outputs": [],
   "source": [
    "############################################\n",
    "### Don't need to change this code below ###\n",
    "############################################\n",
    "# FTP server\n",
    "ftpdir = 'sidads.colorado.edu'\n",
    "\n",
    "#Connect and log in to the FTP\n",
    "print('Logging in')\n",
    "ftp = FTP(ftpdir)\n",
    "ftp.login('anonymous',password)\n",
    "\n",
    "#Change to the destination directory on own computer where you want to save the files\n",
    "os.chdir(destdir)\n",
    "\n",
    "assert dates[0]['date'] < dates[1]['date']\n",
    "\n",
    "all_files = []\n",
    "# Change to the directory where the files are on the FTP\n",
    "for year in range(dates[0]['year'], dates[1]['year']+1):\n",
    "    print('Changing to '+ join(directory, str(year)))\n",
    "    ftp.cwd(join(directory, str(year)))\n",
    "\n",
    "    # Get a list of the files in the FTP directory\n",
    "    files = ftp.nlst()\n",
    "    files = files[2:]\n",
    "    if year == dates[0]['year']:\n",
    "        files = [f for f in files if int(f.split('_')[0][-3:]) > dates[0]['doy']]\n",
    "    elif year == dates[1]['year']:\n",
    "        files = [f for f in files if int(f.split('_')[0][-3:]) < dates[1]['doy']]\n",
    "\n",
    "    # #Download all the files within the FTP directory\n",
    "    for f in files:\n",
    "        print('Downloading...' + f)\n",
    "        ftp.retrbinary('RETR ' + f, open(f, 'wb').write)\n",
    "\n",
    "#Close the FTP connection\n",
    "ftp.quit()"
   ]
  },
  {
   "cell_type": "code",
   "execution_count": null,
   "metadata": {},
   "outputs": [],
   "source": [
    "import numpy as np\n",
    "desc = parse_lines('/Users/zachkeskinen/Documents/c-snow/contrib/keskinen/data/ims2019355_00UTC_1km_v1.3.asc')\n",
    "rows, cols = desc['Dimensions'].split()\n",
    "rows, cols = int(rows), int(cols)\n",
    "ascii_grid = np.loadtxt(\"/Users/zachkeskinen/Documents/c-snow/contrib/keskinen/data/ims2019355_00UTC_1km_v1.3.asc\", skiprows=30)"
   ]
  },
  {
   "cell_type": "code",
   "execution_count": null,
   "metadata": {},
   "outputs": [],
   "source": [
    "np."
   ]
  },
  {
   "cell_type": "code",
   "execution_count": null,
   "metadata": {},
   "outputs": [],
   "source": [
    "np.genfromtxt(\"/Users/zachkeskinen/Documents/c-snow/contrib/keskinen/data/ims2019355_00UTC_1km_v1.3.asc\", skip_header=30, delimiter = 1, dtype = int).shape"
   ]
  },
  {
   "cell_type": "code",
   "execution_count": null,
   "metadata": {},
   "outputs": [],
   "source": []
  }
 ],
 "metadata": {
  "kernelspec": {
   "display_name": "uavsar",
   "language": "python",
   "name": "python3"
  },
  "language_info": {
   "codemirror_mode": {
    "name": "ipython",
    "version": 3
   },
   "file_extension": ".py",
   "mimetype": "text/x-python",
   "name": "python",
   "nbconvert_exporter": "python",
   "pygments_lexer": "ipython3",
   "version": "3.9.12"
  },
  "vscode": {
   "interpreter": {
    "hash": "ba8967e065a58c806f1bdb735567067b52f77062b6ff6cacc1c3011561bd9c8e"
   }
  }
 },
 "nbformat": 4,
 "nbformat_minor": 2
}
