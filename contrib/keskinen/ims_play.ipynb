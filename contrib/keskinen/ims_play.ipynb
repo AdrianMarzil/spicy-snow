{
 "cells": [
  {
   "attachments": {},
   "cell_type": "markdown",
   "metadata": {},
   "source": [
    "https://usicecenter.gov/Products/ImsHome\n",
    "\n",
    "https://nsidc.org/data/user-resources/help-center/how-access-data-using-ftp-client-command-line-wget-or-python\n",
    "\n",
    "https://www.itsonlyamodel.us/"
   ]
  },
  {
   "cell_type": "code",
   "execution_count": 18,
   "metadata": {},
   "outputs": [],
   "source": [
    "from ftplib import FTP\n",
    "import os\n",
    "from os.path import join\n",
    "from datetime import datetime\n",
    "import rioxarray as rio\n",
    "import numpy as np\n",
    "import pandas as pd"
   ]
  },
  {
   "cell_type": "code",
   "execution_count": 16,
   "metadata": {},
   "outputs": [],
   "source": [
    "def parse_lines(file_path):\n",
    "    with open(file_path) as f:  \n",
    "        # read the content of the file opened\n",
    "        lines = f.readlines()\n",
    "    lines = [l.strip().strip().split(':', 1) for l in lines]\n",
    "    lines = {l[0].strip():l[1].strip() for l in lines if len(l) == 2}\n",
    "    return lines\n",
    "\n",
    "def read_data_1km_compressed(filename):\n",
    "  nx = 8000\n",
    "  widths = np.full((nx), 1, dtype=int).tolist()\n",
    "  data = pd.read_fwf(filename, widths=widths, lineterminator='\\n', header=None).values\n",
    "  return(data)\n",
    "\n",
    "def read_data_1km(year=2017, doy=300):\n",
    "  nx = 24576\n",
    "  url = (\"ftp://sidads.colorado.edu/pub/DATASETS/NOAA/G02156/1km/%s/ims%s%s_1km_v1.3.asc.gz\" %\n",
    "         (year, year, doy))\n",
    "  widths = np.full((nx), 1, dtype=int).tolist()\n",
    "  data = pd.read_fwf(url, skiprows=30, widths=widths,\n",
    "                              lineterminator='\\n', header=None, compression='gzip').values\n",
    "  return(data[min_ind_lats:max_ind_lats, min_ind_lons:max_ind_lons])"
   ]
  },
  {
   "cell_type": "code",
   "execution_count": null,
   "metadata": {},
   "outputs": [],
   "source": [
    "fn = '/DATASETS/NOAA/G02156/1km/2020/ims2020001_00UTC_1km_v1.3.asc.gz'"
   ]
  },
  {
   "cell_type": "code",
   "execution_count": 17,
   "metadata": {},
   "outputs": [
    {
     "ename": "URLError",
     "evalue": "<urlopen error ftp error: no host given>",
     "output_type": "error",
     "traceback": [
      "\u001b[0;31m---------------------------------------------------------------------------\u001b[0m",
      "\u001b[0;31mURLError\u001b[0m                                  Traceback (most recent call last)",
      "Cell \u001b[0;32mIn[17], line 1\u001b[0m\n\u001b[0;32m----> 1\u001b[0m read_data_1km()\n",
      "Cell \u001b[0;32mIn[16], line 20\u001b[0m, in \u001b[0;36mread_data_1km\u001b[0;34m(year, doy)\u001b[0m\n\u001b[1;32m     17\u001b[0m url \u001b[39m=\u001b[39m (\u001b[39m\"\u001b[39m\u001b[39mftp:/DATASETS/NOAA/G02156/1km/\u001b[39m\u001b[39m%s\u001b[39;00m\u001b[39m/ims\u001b[39m\u001b[39m%s\u001b[39;00m\u001b[39m%s\u001b[39;00m\u001b[39m_1km_v1.3.asc.gz\u001b[39m\u001b[39m\"\u001b[39m \u001b[39m%\u001b[39m\n\u001b[1;32m     18\u001b[0m        (year, year, doy))\n\u001b[1;32m     19\u001b[0m widths \u001b[39m=\u001b[39m np\u001b[39m.\u001b[39mfull((nx), \u001b[39m1\u001b[39m, dtype\u001b[39m=\u001b[39m\u001b[39mint\u001b[39m)\u001b[39m.\u001b[39mtolist()\n\u001b[0;32m---> 20\u001b[0m data \u001b[39m=\u001b[39m pd\u001b[39m.\u001b[39;49mread_fwf(url, skiprows\u001b[39m=\u001b[39;49m\u001b[39m30\u001b[39;49m, widths\u001b[39m=\u001b[39;49mwidths,\n\u001b[1;32m     21\u001b[0m                             lineterminator\u001b[39m=\u001b[39;49m\u001b[39m'\u001b[39;49m\u001b[39m\\n\u001b[39;49;00m\u001b[39m'\u001b[39;49m, header\u001b[39m=\u001b[39;49m\u001b[39mNone\u001b[39;49;00m, compression\u001b[39m=\u001b[39;49m\u001b[39m'\u001b[39;49m\u001b[39mgzip\u001b[39;49m\u001b[39m'\u001b[39;49m)\u001b[39m.\u001b[39mvalues\n\u001b[1;32m     22\u001b[0m \u001b[39mreturn\u001b[39;00m(data[min_ind_lats:max_ind_lats, min_ind_lons:max_ind_lons])\n",
      "File \u001b[0;32m~/miniconda3/envs/c-snow/lib/python3.11/site-packages/pandas/util/_decorators.py:331\u001b[0m, in \u001b[0;36mdeprecate_nonkeyword_arguments.<locals>.decorate.<locals>.wrapper\u001b[0;34m(*args, **kwargs)\u001b[0m\n\u001b[1;32m    325\u001b[0m \u001b[39mif\u001b[39;00m \u001b[39mlen\u001b[39m(args) \u001b[39m>\u001b[39m num_allow_args:\n\u001b[1;32m    326\u001b[0m     warnings\u001b[39m.\u001b[39mwarn(\n\u001b[1;32m    327\u001b[0m         msg\u001b[39m.\u001b[39mformat(arguments\u001b[39m=\u001b[39m_format_argument_list(allow_args)),\n\u001b[1;32m    328\u001b[0m         \u001b[39mFutureWarning\u001b[39;00m,\n\u001b[1;32m    329\u001b[0m         stacklevel\u001b[39m=\u001b[39mfind_stack_level(),\n\u001b[1;32m    330\u001b[0m     )\n\u001b[0;32m--> 331\u001b[0m \u001b[39mreturn\u001b[39;00m func(\u001b[39m*\u001b[39;49margs, \u001b[39m*\u001b[39;49m\u001b[39m*\u001b[39;49mkwargs)\n",
      "File \u001b[0;32m~/miniconda3/envs/c-snow/lib/python3.11/site-packages/pandas/io/parsers/readers.py:1385\u001b[0m, in \u001b[0;36mread_fwf\u001b[0;34m(filepath_or_buffer, colspecs, widths, infer_nrows, **kwds)\u001b[0m\n\u001b[1;32m   1383\u001b[0m kwds[\u001b[39m\"\u001b[39m\u001b[39minfer_nrows\u001b[39m\u001b[39m\"\u001b[39m] \u001b[39m=\u001b[39m infer_nrows\n\u001b[1;32m   1384\u001b[0m kwds[\u001b[39m\"\u001b[39m\u001b[39mengine\u001b[39m\u001b[39m\"\u001b[39m] \u001b[39m=\u001b[39m \u001b[39m\"\u001b[39m\u001b[39mpython-fwf\u001b[39m\u001b[39m\"\u001b[39m\n\u001b[0;32m-> 1385\u001b[0m \u001b[39mreturn\u001b[39;00m _read(filepath_or_buffer, kwds)\n",
      "File \u001b[0;32m~/miniconda3/envs/c-snow/lib/python3.11/site-packages/pandas/io/parsers/readers.py:605\u001b[0m, in \u001b[0;36m_read\u001b[0;34m(filepath_or_buffer, kwds)\u001b[0m\n\u001b[1;32m    602\u001b[0m _validate_names(kwds\u001b[39m.\u001b[39mget(\u001b[39m\"\u001b[39m\u001b[39mnames\u001b[39m\u001b[39m\"\u001b[39m, \u001b[39mNone\u001b[39;00m))\n\u001b[1;32m    604\u001b[0m \u001b[39m# Create the parser.\u001b[39;00m\n\u001b[0;32m--> 605\u001b[0m parser \u001b[39m=\u001b[39m TextFileReader(filepath_or_buffer, \u001b[39m*\u001b[39;49m\u001b[39m*\u001b[39;49mkwds)\n\u001b[1;32m    607\u001b[0m \u001b[39mif\u001b[39;00m chunksize \u001b[39mor\u001b[39;00m iterator:\n\u001b[1;32m    608\u001b[0m     \u001b[39mreturn\u001b[39;00m parser\n",
      "File \u001b[0;32m~/miniconda3/envs/c-snow/lib/python3.11/site-packages/pandas/io/parsers/readers.py:1442\u001b[0m, in \u001b[0;36mTextFileReader.__init__\u001b[0;34m(self, f, engine, **kwds)\u001b[0m\n\u001b[1;32m   1439\u001b[0m     \u001b[39mself\u001b[39m\u001b[39m.\u001b[39moptions[\u001b[39m\"\u001b[39m\u001b[39mhas_index_names\u001b[39m\u001b[39m\"\u001b[39m] \u001b[39m=\u001b[39m kwds[\u001b[39m\"\u001b[39m\u001b[39mhas_index_names\u001b[39m\u001b[39m\"\u001b[39m]\n\u001b[1;32m   1441\u001b[0m \u001b[39mself\u001b[39m\u001b[39m.\u001b[39mhandles: IOHandles \u001b[39m|\u001b[39m \u001b[39mNone\u001b[39;00m \u001b[39m=\u001b[39m \u001b[39mNone\u001b[39;00m\n\u001b[0;32m-> 1442\u001b[0m \u001b[39mself\u001b[39m\u001b[39m.\u001b[39m_engine \u001b[39m=\u001b[39m \u001b[39mself\u001b[39;49m\u001b[39m.\u001b[39;49m_make_engine(f, \u001b[39mself\u001b[39;49m\u001b[39m.\u001b[39;49mengine)\n",
      "File \u001b[0;32m~/miniconda3/envs/c-snow/lib/python3.11/site-packages/pandas/io/parsers/readers.py:1735\u001b[0m, in \u001b[0;36mTextFileReader._make_engine\u001b[0;34m(self, f, engine)\u001b[0m\n\u001b[1;32m   1733\u001b[0m     \u001b[39mif\u001b[39;00m \u001b[39m\"\u001b[39m\u001b[39mb\u001b[39m\u001b[39m\"\u001b[39m \u001b[39mnot\u001b[39;00m \u001b[39min\u001b[39;00m mode:\n\u001b[1;32m   1734\u001b[0m         mode \u001b[39m+\u001b[39m\u001b[39m=\u001b[39m \u001b[39m\"\u001b[39m\u001b[39mb\u001b[39m\u001b[39m\"\u001b[39m\n\u001b[0;32m-> 1735\u001b[0m \u001b[39mself\u001b[39m\u001b[39m.\u001b[39mhandles \u001b[39m=\u001b[39m get_handle(\n\u001b[1;32m   1736\u001b[0m     f,\n\u001b[1;32m   1737\u001b[0m     mode,\n\u001b[1;32m   1738\u001b[0m     encoding\u001b[39m=\u001b[39;49m\u001b[39mself\u001b[39;49m\u001b[39m.\u001b[39;49moptions\u001b[39m.\u001b[39;49mget(\u001b[39m\"\u001b[39;49m\u001b[39mencoding\u001b[39;49m\u001b[39m\"\u001b[39;49m, \u001b[39mNone\u001b[39;49;00m),\n\u001b[1;32m   1739\u001b[0m     compression\u001b[39m=\u001b[39;49m\u001b[39mself\u001b[39;49m\u001b[39m.\u001b[39;49moptions\u001b[39m.\u001b[39;49mget(\u001b[39m\"\u001b[39;49m\u001b[39mcompression\u001b[39;49m\u001b[39m\"\u001b[39;49m, \u001b[39mNone\u001b[39;49;00m),\n\u001b[1;32m   1740\u001b[0m     memory_map\u001b[39m=\u001b[39;49m\u001b[39mself\u001b[39;49m\u001b[39m.\u001b[39;49moptions\u001b[39m.\u001b[39;49mget(\u001b[39m\"\u001b[39;49m\u001b[39mmemory_map\u001b[39;49m\u001b[39m\"\u001b[39;49m, \u001b[39mFalse\u001b[39;49;00m),\n\u001b[1;32m   1741\u001b[0m     is_text\u001b[39m=\u001b[39;49mis_text,\n\u001b[1;32m   1742\u001b[0m     errors\u001b[39m=\u001b[39;49m\u001b[39mself\u001b[39;49m\u001b[39m.\u001b[39;49moptions\u001b[39m.\u001b[39;49mget(\u001b[39m\"\u001b[39;49m\u001b[39mencoding_errors\u001b[39;49m\u001b[39m\"\u001b[39;49m, \u001b[39m\"\u001b[39;49m\u001b[39mstrict\u001b[39;49m\u001b[39m\"\u001b[39;49m),\n\u001b[1;32m   1743\u001b[0m     storage_options\u001b[39m=\u001b[39;49m\u001b[39mself\u001b[39;49m\u001b[39m.\u001b[39;49moptions\u001b[39m.\u001b[39;49mget(\u001b[39m\"\u001b[39;49m\u001b[39mstorage_options\u001b[39;49m\u001b[39m\"\u001b[39;49m, \u001b[39mNone\u001b[39;49;00m),\n\u001b[1;32m   1744\u001b[0m )\n\u001b[1;32m   1745\u001b[0m \u001b[39massert\u001b[39;00m \u001b[39mself\u001b[39m\u001b[39m.\u001b[39mhandles \u001b[39mis\u001b[39;00m \u001b[39mnot\u001b[39;00m \u001b[39mNone\u001b[39;00m\n\u001b[1;32m   1746\u001b[0m f \u001b[39m=\u001b[39m \u001b[39mself\u001b[39m\u001b[39m.\u001b[39mhandles\u001b[39m.\u001b[39mhandle\n",
      "File \u001b[0;32m~/miniconda3/envs/c-snow/lib/python3.11/site-packages/pandas/io/common.py:713\u001b[0m, in \u001b[0;36mget_handle\u001b[0;34m(path_or_buf, mode, encoding, compression, memory_map, is_text, errors, storage_options)\u001b[0m\n\u001b[1;32m    710\u001b[0m     codecs\u001b[39m.\u001b[39mlookup_error(errors)\n\u001b[1;32m    712\u001b[0m \u001b[39m# open URLs\u001b[39;00m\n\u001b[0;32m--> 713\u001b[0m ioargs \u001b[39m=\u001b[39m _get_filepath_or_buffer(\n\u001b[1;32m    714\u001b[0m     path_or_buf,\n\u001b[1;32m    715\u001b[0m     encoding\u001b[39m=\u001b[39;49mencoding,\n\u001b[1;32m    716\u001b[0m     compression\u001b[39m=\u001b[39;49mcompression,\n\u001b[1;32m    717\u001b[0m     mode\u001b[39m=\u001b[39;49mmode,\n\u001b[1;32m    718\u001b[0m     storage_options\u001b[39m=\u001b[39;49mstorage_options,\n\u001b[1;32m    719\u001b[0m )\n\u001b[1;32m    721\u001b[0m handle \u001b[39m=\u001b[39m ioargs\u001b[39m.\u001b[39mfilepath_or_buffer\n\u001b[1;32m    722\u001b[0m handles: \u001b[39mlist\u001b[39m[BaseBuffer]\n",
      "File \u001b[0;32m~/miniconda3/envs/c-snow/lib/python3.11/site-packages/pandas/io/common.py:363\u001b[0m, in \u001b[0;36m_get_filepath_or_buffer\u001b[0;34m(filepath_or_buffer, encoding, compression, mode, storage_options)\u001b[0m\n\u001b[1;32m    361\u001b[0m \u001b[39m# assuming storage_options is to be interpreted as headers\u001b[39;00m\n\u001b[1;32m    362\u001b[0m req_info \u001b[39m=\u001b[39m urllib\u001b[39m.\u001b[39mrequest\u001b[39m.\u001b[39mRequest(filepath_or_buffer, headers\u001b[39m=\u001b[39mstorage_options)\n\u001b[0;32m--> 363\u001b[0m \u001b[39mwith\u001b[39;00m urlopen(req_info) \u001b[39mas\u001b[39;00m req:\n\u001b[1;32m    364\u001b[0m     content_encoding \u001b[39m=\u001b[39m req\u001b[39m.\u001b[39mheaders\u001b[39m.\u001b[39mget(\u001b[39m\"\u001b[39m\u001b[39mContent-Encoding\u001b[39m\u001b[39m\"\u001b[39m, \u001b[39mNone\u001b[39;00m)\n\u001b[1;32m    365\u001b[0m     \u001b[39mif\u001b[39;00m content_encoding \u001b[39m==\u001b[39m \u001b[39m\"\u001b[39m\u001b[39mgzip\u001b[39m\u001b[39m\"\u001b[39m:\n\u001b[1;32m    366\u001b[0m         \u001b[39m# Override compression based on Content-Encoding header\u001b[39;00m\n",
      "File \u001b[0;32m~/miniconda3/envs/c-snow/lib/python3.11/site-packages/pandas/io/common.py:265\u001b[0m, in \u001b[0;36murlopen\u001b[0;34m(*args, **kwargs)\u001b[0m\n\u001b[1;32m    259\u001b[0m \u001b[39m\u001b[39m\u001b[39m\"\"\"\u001b[39;00m\n\u001b[1;32m    260\u001b[0m \u001b[39mLazy-import wrapper for stdlib urlopen, as that imports a big chunk of\u001b[39;00m\n\u001b[1;32m    261\u001b[0m \u001b[39mthe stdlib.\u001b[39;00m\n\u001b[1;32m    262\u001b[0m \u001b[39m\"\"\"\u001b[39;00m\n\u001b[1;32m    263\u001b[0m \u001b[39mimport\u001b[39;00m \u001b[39murllib\u001b[39;00m\u001b[39m.\u001b[39;00m\u001b[39mrequest\u001b[39;00m\n\u001b[0;32m--> 265\u001b[0m \u001b[39mreturn\u001b[39;00m urllib\u001b[39m.\u001b[39;49mrequest\u001b[39m.\u001b[39;49murlopen(\u001b[39m*\u001b[39;49margs, \u001b[39m*\u001b[39;49m\u001b[39m*\u001b[39;49mkwargs)\n",
      "File \u001b[0;32m~/miniconda3/envs/c-snow/lib/python3.11/urllib/request.py:216\u001b[0m, in \u001b[0;36murlopen\u001b[0;34m(url, data, timeout, cafile, capath, cadefault, context)\u001b[0m\n\u001b[1;32m    214\u001b[0m \u001b[39melse\u001b[39;00m:\n\u001b[1;32m    215\u001b[0m     opener \u001b[39m=\u001b[39m _opener\n\u001b[0;32m--> 216\u001b[0m \u001b[39mreturn\u001b[39;00m opener\u001b[39m.\u001b[39;49mopen(url, data, timeout)\n",
      "File \u001b[0;32m~/miniconda3/envs/c-snow/lib/python3.11/urllib/request.py:519\u001b[0m, in \u001b[0;36mOpenerDirector.open\u001b[0;34m(self, fullurl, data, timeout)\u001b[0m\n\u001b[1;32m    516\u001b[0m     req \u001b[39m=\u001b[39m meth(req)\n\u001b[1;32m    518\u001b[0m sys\u001b[39m.\u001b[39maudit(\u001b[39m'\u001b[39m\u001b[39murllib.Request\u001b[39m\u001b[39m'\u001b[39m, req\u001b[39m.\u001b[39mfull_url, req\u001b[39m.\u001b[39mdata, req\u001b[39m.\u001b[39mheaders, req\u001b[39m.\u001b[39mget_method())\n\u001b[0;32m--> 519\u001b[0m response \u001b[39m=\u001b[39m \u001b[39mself\u001b[39;49m\u001b[39m.\u001b[39;49m_open(req, data)\n\u001b[1;32m    521\u001b[0m \u001b[39m# post-process response\u001b[39;00m\n\u001b[1;32m    522\u001b[0m meth_name \u001b[39m=\u001b[39m protocol\u001b[39m+\u001b[39m\u001b[39m\"\u001b[39m\u001b[39m_response\u001b[39m\u001b[39m\"\u001b[39m\n",
      "File \u001b[0;32m~/miniconda3/envs/c-snow/lib/python3.11/urllib/request.py:536\u001b[0m, in \u001b[0;36mOpenerDirector._open\u001b[0;34m(self, req, data)\u001b[0m\n\u001b[1;32m    533\u001b[0m     \u001b[39mreturn\u001b[39;00m result\n\u001b[1;32m    535\u001b[0m protocol \u001b[39m=\u001b[39m req\u001b[39m.\u001b[39mtype\n\u001b[0;32m--> 536\u001b[0m result \u001b[39m=\u001b[39m \u001b[39mself\u001b[39;49m\u001b[39m.\u001b[39;49m_call_chain(\u001b[39mself\u001b[39;49m\u001b[39m.\u001b[39;49mhandle_open, protocol, protocol \u001b[39m+\u001b[39;49m\n\u001b[1;32m    537\u001b[0m                           \u001b[39m'\u001b[39;49m\u001b[39m_open\u001b[39;49m\u001b[39m'\u001b[39;49m, req)\n\u001b[1;32m    538\u001b[0m \u001b[39mif\u001b[39;00m result:\n\u001b[1;32m    539\u001b[0m     \u001b[39mreturn\u001b[39;00m result\n",
      "File \u001b[0;32m~/miniconda3/envs/c-snow/lib/python3.11/urllib/request.py:496\u001b[0m, in \u001b[0;36mOpenerDirector._call_chain\u001b[0;34m(self, chain, kind, meth_name, *args)\u001b[0m\n\u001b[1;32m    494\u001b[0m \u001b[39mfor\u001b[39;00m handler \u001b[39min\u001b[39;00m handlers:\n\u001b[1;32m    495\u001b[0m     func \u001b[39m=\u001b[39m \u001b[39mgetattr\u001b[39m(handler, meth_name)\n\u001b[0;32m--> 496\u001b[0m     result \u001b[39m=\u001b[39m func(\u001b[39m*\u001b[39;49margs)\n\u001b[1;32m    497\u001b[0m     \u001b[39mif\u001b[39;00m result \u001b[39mis\u001b[39;00m \u001b[39mnot\u001b[39;00m \u001b[39mNone\u001b[39;00m:\n\u001b[1;32m    498\u001b[0m         \u001b[39mreturn\u001b[39;00m result\n",
      "File \u001b[0;32m~/miniconda3/envs/c-snow/lib/python3.11/urllib/request.py:1537\u001b[0m, in \u001b[0;36mFTPHandler.ftp_open\u001b[0;34m(self, req)\u001b[0m\n\u001b[1;32m   1535\u001b[0m host \u001b[39m=\u001b[39m req\u001b[39m.\u001b[39mhost\n\u001b[1;32m   1536\u001b[0m \u001b[39mif\u001b[39;00m \u001b[39mnot\u001b[39;00m host:\n\u001b[0;32m-> 1537\u001b[0m     \u001b[39mraise\u001b[39;00m URLError(\u001b[39m'\u001b[39m\u001b[39mftp error: no host given\u001b[39m\u001b[39m'\u001b[39m)\n\u001b[1;32m   1538\u001b[0m host, port \u001b[39m=\u001b[39m _splitport(host)\n\u001b[1;32m   1539\u001b[0m \u001b[39mif\u001b[39;00m port \u001b[39mis\u001b[39;00m \u001b[39mNone\u001b[39;00m:\n",
      "\u001b[0;31mURLError\u001b[0m: <urlopen error ftp error: no host given>"
     ]
    }
   ],
   "source": [
    "read_data_1km()"
   ]
  },
  {
   "cell_type": "code",
   "execution_count": 3,
   "metadata": {},
   "outputs": [],
   "source": [
    "### The following 3 variables can be changed ###\n",
    "# 1. Set the directory you would like to download the files to\n",
    "destdir='/Users/zachkeskinen/Documents/c-snow/contrib/keskinen/data'\n",
    "\n",
    "# 2. Set the path to the FTP directory that contains the data you wish to download.\n",
    "# This example is for the daily northern hemisphere data from the Sea Ice Index\n",
    "# https://nsidc.org/data/g02135\n",
    "directory = '/DATASETS/NOAA/G02156/1km/'\n",
    "\n",
    "# 3. Set the password which will be your email address\n",
    "password = 'zachkeskinen@gmail.com'\n",
    "\n",
    "# 4. Set dates to get IMS from\n",
    "dates = ('2019-12-20', '2020-01-10')\n",
    "dates = [{'date': datetime.strptime(d, '%Y-%m-%d'), 'year': int(d.split('-')[0]), 'doy':datetime.strptime(d, '%Y-%m-%d').timetuple().tm_yday} for d in dates]"
   ]
  },
  {
   "cell_type": "code",
   "execution_count": 5,
   "metadata": {},
   "outputs": [
    {
     "data": {
      "text/plain": [
       "['ims2020001_00UTC_1km_v1.3.asc.gz',\n",
       " 'ims2020009_00UTC_1km_v1.3.asc.gz',\n",
       " 'ims2020002_00UTC_1km_v1.3.asc.gz',\n",
       " 'ims2020004_00UTC_1km_v1.3.asc.gz',\n",
       " 'ims2020008_00UTC_1km_v1.3.asc.gz',\n",
       " 'ims2020006_00UTC_1km_v1.3.asc.gz',\n",
       " 'ims2020007_00UTC_1km_v1.3.asc.gz',\n",
       " 'ims2020005_00UTC_1km_v1.3.asc.gz',\n",
       " 'ims2020003_00UTC_1km_v1.3.asc.gz']"
      ]
     },
     "execution_count": 5,
     "metadata": {},
     "output_type": "execute_result"
    }
   ],
   "source": [
    "files"
   ]
  },
  {
   "cell_type": "code",
   "execution_count": 4,
   "metadata": {},
   "outputs": [
    {
     "name": "stdout",
     "output_type": "stream",
     "text": [
      "Logging in\n",
      "Changing to /DATASETS/NOAA/G02156/1km/2019\n",
      "Downloading...ims2019362_00UTC_1km_v1.3.asc.gz\n",
      "Downloading...ims2019359_00UTC_1km_v1.3.asc.gz\n",
      "Downloading...ims2019357_00UTC_1km_v1.3.asc.gz\n",
      "Downloading...ims2019361_00UTC_1km_v1.3.asc.gz\n",
      "Downloading...ims2019360_00UTC_1km_v1.3.asc.gz\n",
      "Downloading...ims2019365_00UTC_1km_v1.3.asc.gz\n",
      "Downloading...ims2019363_00UTC_1km_v1.3.asc.gz\n",
      "Downloading...ims2019364_00UTC_1km_v1.3.asc.gz\n",
      "Downloading...ims2019356_00UTC_1km_v1.3.asc.gz\n",
      "Downloading...ims2019358_00UTC_1km_v1.3.asc.gz\n",
      "Downloading...ims2019355_00UTC_1km_v1.3.asc.gz\n",
      "Changing to /DATASETS/NOAA/G02156/1km/2020\n",
      "Downloading...ims2020001_00UTC_1km_v1.3.asc.gz\n",
      "Downloading...ims2020009_00UTC_1km_v1.3.asc.gz\n",
      "Downloading...ims2020002_00UTC_1km_v1.3.asc.gz\n",
      "Downloading...ims2020004_00UTC_1km_v1.3.asc.gz\n",
      "Downloading...ims2020008_00UTC_1km_v1.3.asc.gz\n",
      "Downloading...ims2020006_00UTC_1km_v1.3.asc.gz\n",
      "Downloading...ims2020007_00UTC_1km_v1.3.asc.gz\n",
      "Downloading...ims2020005_00UTC_1km_v1.3.asc.gz\n",
      "Downloading...ims2020003_00UTC_1km_v1.3.asc.gz\n"
     ]
    },
    {
     "data": {
      "text/plain": [
       "'221-Goodbye. You uploaded 0 and downloaded 0 kbytes.\\n221 Logout.'"
      ]
     },
     "execution_count": 4,
     "metadata": {},
     "output_type": "execute_result"
    }
   ],
   "source": [
    "############################################\n",
    "### Don't need to change this code below ###\n",
    "############################################\n",
    "# FTP server\n",
    "ftpdir = 'sidads.colorado.edu'\n",
    "\n",
    "#Connect and log in to the FTP\n",
    "print('Logging in')\n",
    "ftp = FTP(ftpdir)\n",
    "ftp.login('anonymous',password)\n",
    "\n",
    "#Change to the destination directory on own computer where you want to save the files\n",
    "os.chdir(destdir)\n",
    "\n",
    "assert dates[0]['date'] < dates[1]['date']\n",
    "\n",
    "all_files = []\n",
    "# Change to the directory where the files are on the FTP\n",
    "for year in range(dates[0]['year'], dates[1]['year']+1):\n",
    "    print('Changing to '+ join(directory, str(year)))\n",
    "    ftp.cwd(join(directory, str(year)))\n",
    "\n",
    "    # Get a list of the files in the FTP directory\n",
    "    files = ftp.nlst()\n",
    "    files = files[2:]\n",
    "    if year == dates[0]['year']:\n",
    "        files = [f for f in files if int(f.split('_')[0][-3:]) > dates[0]['doy']]\n",
    "    elif year == dates[1]['year']:\n",
    "        files = [f for f in files if int(f.split('_')[0][-3:]) < dates[1]['doy']]\n",
    "\n",
    "    # #Download all the files within the FTP directory\n",
    "    for f in files:\n",
    "        print('Downloading...' + f)\n",
    "        ftp.retrbinary('RETR ' + f, open(f, 'wb').write)\n",
    "\n",
    "#Close the FTP connection\n",
    "ftp.quit()"
   ]
  },
  {
   "cell_type": "code",
   "execution_count": 77,
   "metadata": {},
   "outputs": [],
   "source": [
    "import numpy as np\n",
    "desc = parse_lines('/Users/zachkeskinen/Documents/c-snow/contrib/keskinen/data/ims2019355_00UTC_1km_v1.3.asc')\n",
    "rows, cols = desc['Dimensions'].split()\n",
    "rows, cols = int(rows), int(cols)\n",
    "ascii_grid = np.loadtxt(\"/Users/zachkeskinen/Documents/c-snow/contrib/keskinen/data/ims2019355_00UTC_1km_v1.3.asc\", skiprows=30)"
   ]
  },
  {
   "cell_type": "code",
   "execution_count": 103,
   "metadata": {},
   "outputs": [
    {
     "ename": "TypeError",
     "evalue": "a bytes-like object is required, not 'str'",
     "output_type": "error",
     "traceback": [
      "\u001b[0;31m---------------------------------------------------------------------------\u001b[0m",
      "\u001b[0;31mTypeError\u001b[0m                                 Traceback (most recent call last)",
      "Cell \u001b[0;32mIn[103], line 1\u001b[0m\n\u001b[0;32m----> 1\u001b[0m np\u001b[39m.\u001b[39;49mfrombuffer(\u001b[39m'\u001b[39;49m\u001b[39mtest.asc\u001b[39;49m\u001b[39m'\u001b[39;49m)\n",
      "\u001b[0;31mTypeError\u001b[0m: a bytes-like object is required, not 'str'"
     ]
    }
   ],
   "source": [
    "np."
   ]
  },
  {
   "cell_type": "code",
   "execution_count": 71,
   "metadata": {},
   "outputs": [
    {
     "ename": "KeyboardInterrupt",
     "evalue": "",
     "output_type": "error",
     "traceback": [
      "\u001b[0;31m---------------------------------------------------------------------------\u001b[0m",
      "\u001b[0;31mKeyboardInterrupt\u001b[0m                         Traceback (most recent call last)",
      "Cell \u001b[0;32mIn[71], line 1\u001b[0m\n\u001b[0;32m----> 1\u001b[0m np\u001b[39m.\u001b[39;49mgenfromtxt(\u001b[39m\"\u001b[39;49m\u001b[39m/Users/zachkeskinen/Documents/c-snow/contrib/keskinen/data/ims2019355_00UTC_1km_v1.3.asc\u001b[39;49m\u001b[39m\"\u001b[39;49m, skip_header\u001b[39m=\u001b[39;49m\u001b[39m30\u001b[39;49m, delimiter \u001b[39m=\u001b[39;49m \u001b[39m1\u001b[39;49m)\u001b[39m.\u001b[39mshape\n",
      "File \u001b[0;32m~/miniconda3/envs/c-snow/lib/python3.11/site-packages/numpy/lib/npyio.py:2237\u001b[0m, in \u001b[0;36mgenfromtxt\u001b[0;34m(fname, dtype, comments, delimiter, skip_header, skip_footer, converters, missing_values, filling_values, usecols, names, excludelist, deletechars, replace_space, autostrip, case_sensitive, defaultfmt, unpack, usemask, loose, invalid_raise, max_rows, encoding, ndmin, like)\u001b[0m\n\u001b[1;32m   2235\u001b[0m \u001b[39m# Parse each line\u001b[39;00m\n\u001b[1;32m   2236\u001b[0m \u001b[39mfor\u001b[39;00m (i, line) \u001b[39min\u001b[39;00m \u001b[39menumerate\u001b[39m(itertools\u001b[39m.\u001b[39mchain([first_line, ], fhd)):\n\u001b[0;32m-> 2237\u001b[0m     values \u001b[39m=\u001b[39m split_line(line)\n\u001b[1;32m   2238\u001b[0m     nbvalues \u001b[39m=\u001b[39m \u001b[39mlen\u001b[39m(values)\n\u001b[1;32m   2239\u001b[0m     \u001b[39m# Skip an empty line\u001b[39;00m\n",
      "File \u001b[0;32m~/miniconda3/envs/c-snow/lib/python3.11/site-packages/numpy/lib/_iotools.py:226\u001b[0m, in \u001b[0;36mLineSplitter.__call__\u001b[0;34m(self, line)\u001b[0m\n\u001b[1;32m    225\u001b[0m \u001b[39mdef\u001b[39;00m \u001b[39m__call__\u001b[39m(\u001b[39mself\u001b[39m, line):\n\u001b[0;32m--> 226\u001b[0m     \u001b[39mreturn\u001b[39;00m \u001b[39mself\u001b[39;49m\u001b[39m.\u001b[39;49m_handyman(_decode_line(line, \u001b[39mself\u001b[39;49m\u001b[39m.\u001b[39;49mencoding))\n",
      "File \u001b[0;32m~/miniconda3/envs/c-snow/lib/python3.11/site-packages/numpy/lib/_iotools.py:214\u001b[0m, in \u001b[0;36mLineSplitter._fixedwidth_splitter\u001b[0;34m(self, line)\u001b[0m\n\u001b[1;32m    212\u001b[0m     \u001b[39mreturn\u001b[39;00m []\n\u001b[1;32m    213\u001b[0m fixed \u001b[39m=\u001b[39m \u001b[39mself\u001b[39m\u001b[39m.\u001b[39mdelimiter\n\u001b[0;32m--> 214\u001b[0m slices \u001b[39m=\u001b[39m [\u001b[39mslice\u001b[39;49m(i, i \u001b[39m+\u001b[39;49m fixed) \u001b[39mfor\u001b[39;49;00m i \u001b[39min\u001b[39;49;00m \u001b[39mrange\u001b[39;49m(\u001b[39m0\u001b[39;49m, \u001b[39mlen\u001b[39;49m(line), fixed)]\n\u001b[1;32m    215\u001b[0m \u001b[39mreturn\u001b[39;00m [line[s] \u001b[39mfor\u001b[39;00m s \u001b[39min\u001b[39;00m slices]\n",
      "File \u001b[0;32m~/miniconda3/envs/c-snow/lib/python3.11/site-packages/numpy/lib/_iotools.py:214\u001b[0m, in \u001b[0;36m<listcomp>\u001b[0;34m(.0)\u001b[0m\n\u001b[1;32m    212\u001b[0m     \u001b[39mreturn\u001b[39;00m []\n\u001b[1;32m    213\u001b[0m fixed \u001b[39m=\u001b[39m \u001b[39mself\u001b[39m\u001b[39m.\u001b[39mdelimiter\n\u001b[0;32m--> 214\u001b[0m slices \u001b[39m=\u001b[39m [\u001b[39mslice\u001b[39;49m(i, i \u001b[39m+\u001b[39;49m fixed) \u001b[39mfor\u001b[39;00m i \u001b[39min\u001b[39;00m \u001b[39mrange\u001b[39m(\u001b[39m0\u001b[39m, \u001b[39mlen\u001b[39m(line), fixed)]\n\u001b[1;32m    215\u001b[0m \u001b[39mreturn\u001b[39;00m [line[s] \u001b[39mfor\u001b[39;00m s \u001b[39min\u001b[39;00m slices]\n",
      "\u001b[0;31mKeyboardInterrupt\u001b[0m: "
     ]
    }
   ],
   "source": [
    "np.genfromtxt(\"/Users/zachkeskinen/Documents/c-snow/contrib/keskinen/data/ims2019355_00UTC_1km_v1.3.asc\", skip_header=30, delimiter = 1, dtype = int).shape"
   ]
  },
  {
   "cell_type": "code",
   "execution_count": null,
   "metadata": {},
   "outputs": [],
   "source": []
  }
 ],
 "metadata": {
  "kernelspec": {
   "display_name": "uavsar",
   "language": "python",
   "name": "python3"
  },
  "language_info": {
   "codemirror_mode": {
    "name": "ipython",
    "version": 3
   },
   "file_extension": ".py",
   "mimetype": "text/x-python",
   "name": "python",
   "nbconvert_exporter": "python",
   "pygments_lexer": "ipython3",
   "version": "3.9.12"
  },
  "orig_nbformat": 4,
  "vscode": {
   "interpreter": {
    "hash": "ba8967e065a58c806f1bdb735567067b52f77062b6ff6cacc1c3011561bd9c8e"
   }
  }
 },
 "nbformat": 4,
 "nbformat_minor": 2
}
