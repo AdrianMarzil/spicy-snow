{
 "cells": [
  {
   "cell_type": "code",
   "execution_count": 2,
   "metadata": {},
   "outputs": [],
   "source": [
    "import xarray as xr\n",
    "import matplotlib.pyplot as plt\n",
    "import pandas as pd\n",
    "import numpy as np\n",
    "from pathlib import Path\n",
    "from glob import glob\n",
    "from datetime import datetime\n",
    "import sys\n",
    "import os\n",
    "sys.path.append('/Users/w76m851/github_workspace/spicy-snow/')\n",
    "from datetime import datetime\n",
    "\n",
    "from spicy_snow.processing.snow_index import calc_delta_cross_ratio, calc_delta_gamma, \\\n",
    "    clip_delta_gamma_outlier, calc_snow_index, calc_snow_index_to_snow_depth\n",
    "from spicy_snow.processing.wet_snow import id_newly_wet_snow, id_wet_negative_si, \\\n",
    "    id_newly_frozen_snow, flag_wet_snow\n"
   ]
  },
  {
   "cell_type": "code",
   "execution_count": 13,
   "metadata": {},
   "outputs": [
    {
     "name": "stdout",
     "output_type": "stream",
     "text": [
      "2023-05-02 12:04:36.127700 -- starting Frasier_2021-03-19\n",
      "2023-05-02 12:38:09.949334 -- starting Little_Cottonwood_2021-03-18\n",
      "2023-05-02 12:38:09.960612 -- starting Mores_2020-02-09\n",
      "2023-05-02 13:12:26.217013 -- starting Mores_2021-03-15\n"
     ]
    }
   ],
   "source": [
    "def calc_rmse(lidar, insar):\n",
    "    return(np.sqrt(((lidar-insar)**2).sum()/len(lidar)))\n",
    "\n",
    "dirs = sorted(glob('/Users/w76m851/OneDrive - Montana State University/spicy_s1_stacks/param_regional/*'))\n",
    "site_names = [s.split('regional/')[1] for s in dirs]\n",
    "results_df = pd.DataFrame(index=site_names, columns=['min_rmse','params'])\n",
    "\n",
    "for name in site_names[5:]:\n",
    "    print(datetime.now(), f'-- starting {name}')\n",
    "    files = sorted(glob(f'/Users/w76m851/OneDrive - Montana State University/spicy_s1_stacks/param_regional/{name}/*.npy'))\n",
    "    if files:\n",
    "        lidar = np.load(files[-1])\n",
    "        min_rmse = 9999\n",
    "        min_params = ''\n",
    "        for f in files[:-1]:\n",
    "            insar = np.load(f)\n",
    "            rmse = calc_rmse(lidar, insar)\n",
    "            if rmse < min_rmse:\n",
    "                min_rmse = rmse\n",
    "                min_params = f.split('/')[-1]\n",
    "\n",
    "        results_df.loc[name] = [min_rmse, min_params]\n",
    "\n",
    "\n",
    "# npy_dirs = glob('/Users/w76m851/OneDrive - Montana State University/spicy_s1_stacks/param_regional/*/')\n",
    "# npy_dirs\n",
    "# for d in npy_dirs[:1]:\n",
    "#     files = sorted(glob(d+'*.npy', recursive=True))\n",
    "\n",
    "# print(d, files)\n"
   ]
  },
  {
   "cell_type": "code",
   "execution_count": 4,
   "metadata": {},
   "outputs": [],
   "source": [
    "results_df.to_csv('rmse_results_20230502_part2.csv')"
   ]
  },
  {
   "cell_type": "code",
   "execution_count": 12,
   "metadata": {},
   "outputs": [
    {
     "data": {
      "text/plain": [
       "array([], dtype=float32)"
      ]
     },
     "execution_count": 12,
     "metadata": {},
     "output_type": "execute_result"
    }
   ],
   "source": [
    "np.load(files[-1])"
   ]
  },
  {
   "cell_type": "code",
   "execution_count": null,
   "metadata": {},
   "outputs": [],
   "source": []
  }
 ],
 "metadata": {
  "kernelspec": {
   "display_name": "spicy",
   "language": "python",
   "name": "python3"
  },
  "language_info": {
   "codemirror_mode": {
    "name": "ipython",
    "version": 3
   },
   "file_extension": ".py",
   "mimetype": "text/x-python",
   "name": "python",
   "nbconvert_exporter": "python",
   "pygments_lexer": "ipython3",
   "version": "3.11.0"
  },
  "vscode": {
   "interpreter": {
    "hash": "ce4bdd2387e2daa803a7d0f8b0d766d25a1c9eab6b20981c1c0786f34d7ccd75"
   }
  }
 },
 "nbformat": 4,
 "nbformat_minor": 2
}
