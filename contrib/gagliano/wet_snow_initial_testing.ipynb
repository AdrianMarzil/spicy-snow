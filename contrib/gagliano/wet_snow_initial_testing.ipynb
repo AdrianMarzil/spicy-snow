{
 "cells": [
  {
   "cell_type": "code",
   "execution_count": null,
   "metadata": {},
   "outputs": [],
   "source": [
    "import xarray as xr\n",
    "import matplotlib.pyplot as plt\n",
    "import pandas as pd\n",
    "import numpy as np\n",
    "from pathlib import Path\n",
    "from glob import glob\n",
    "from datetime import datetime\n",
    "import sys\n",
    "sys.path.append('../../../spicy-snow/')\n",
    "\n",
    "from spicy_snow.processing.snow_index import calc_delta_cross_ratio, calc_delta_gamma, \\\n",
    "    clip_delta_gamma_outlier, calc_snow_index, calc_snow_index_to_snow_depth\n",
    "from spicy_snow.processing.wet_snow import id_newly_wet_snow, id_wet_negative_si, \\\n",
    "    id_newly_frozen_snow, flag_wet_snow\n",
    "\n",
    "from dask.distributed import Client\n"
   ]
  },
  {
   "cell_type": "code",
   "execution_count": null,
   "metadata": {},
   "outputs": [],
   "source": [
    "client = Client(local_directory='/tmp', processes=False)\n",
    "client"
   ]
  },
  {
   "cell_type": "code",
   "execution_count": null,
   "metadata": {},
   "outputs": [],
   "source": [
    "# run this cell to remove wet snow = -SI\n",
    "from typing import Union\n",
    "\n",
    "def id_wet_negative_si_test(dataset: xr.Dataset, inplace: bool = False) -> Union[None, xr.Dataset]:\n",
    "    \"\"\"\n",
    "    Additional wet snow criteria if sd retrieval (snow-index since they are linear)\n",
    "    becomes negative with snow cover is present we set pixel to wet.\n",
    "\n",
    "    Args:\n",
    "    dataset: xarray dataset with snow_index as data vars\n",
    "    inplace: return copy of dataset or operate on dataset inplace?\n",
    "\n",
    "    Returns:\n",
    "    dataset: xarray data with wet_snow data var\n",
    "    \"\"\"\n",
    "    # check inplace flag\n",
    "    if not inplace:\n",
    "        dataset = dataset.copy(deep=True)\n",
    "\n",
    "    # check we have the neccessary variables\n",
    "    necessary_vars = set(['snow_index', 'ims'])\n",
    "    assert necessary_vars.issubset(set(dataset.data_vars)),\\\n",
    "          f\"Missing variables {necessary_vars.difference(set(dataset.data_vars))}\"\n",
    "\n",
    "    # add alt_wet_flag to dataset if not already present    \n",
    "    if 'alt_wet_flag' not in dataset.data_vars:\n",
    "        dataset['alt_wet_flag'] = xr.zeros_like(dataset['deltaVV'])\n",
    "\n",
    "    # identify wetting of snow by negative snow index with snow present\n",
    "    #dataset['alt_wet_flag'] = dataset['alt_wet_flag'].where(((dataset['ims'] != 4) | (dataset['snow_index'] > 0)), 1)\n",
    "\n",
    "    if not inplace:\n",
    "        return dataset"
   ]
  },
  {
   "cell_type": "code",
   "execution_count": null,
   "metadata": {},
   "outputs": [],
   "source": [
    "# %%time\n",
    "files = sorted(glob('spicy_s1_stacks/*.nc'))\n",
    "\n",
    "# Create parameter space\n",
    "a = 2.5\n",
    "b = 0.2\n",
    "c = 0.55\n",
    "\n",
    "wet_snow_thresh = np.arange(6, -6.1, -0.1)\n",
    "#wet_snow_thresh = np.arange(-4, -1, 1)\n",
    "\n",
    "for f in files:\n",
    "    ds_name = f.split('stacks/')[-1].split('.')[0]\n",
    "    print(datetime.now(), f' -- starting {ds_name}')\n",
    "\n",
    "    if Path(f'rmse_out_with_si/{ds_name}_wet_flag.nc').is_file():\n",
    "        print('This file already exists, continuing.')\n",
    "        continue\n",
    "    \n",
    "    # Open dataset \n",
    "    ds_ = xr.open_dataset(f).load()\n",
    "    dataset = ds_[['s1','deltaVV','ims','fcf','lidar-sd']]\n",
    "    td = abs(pd.to_datetime(dataset.time) - pd.to_datetime(dataset.attrs['lidar-flight-time']))\n",
    "    closest_ts_idx = np.where(td == td.min())[0][0]\n",
    "    closest_ts = dataset.time[closest_ts_idx]\n",
    "    # Initialize RMSE arrays\n",
    "    rmse_wet_flag = xr.DataArray(np.empty(len(wet_snow_thresh))*np.nan,\n",
    "                        coords={'wet_snow_thresh':wet_snow_thresh}, dims=('wet_snow_thresh'))\n",
    "    rmse_no_flag = xr.DataArray(np.empty(len(wet_snow_thresh))*np.nan,\n",
    "                        coords={'wet_snow_thresh':wet_snow_thresh}, dims=('wet_snow_thresh'))\n",
    "    valid_pixels = xr.DataArray(np.empty(len(wet_snow_thresh))*np.nan,\n",
    "                        coords={'wet_snow_thresh':wet_snow_thresh}, dims=('wet_snow_thresh'))\n",
    "    \n",
    "    # Brute-force loop\n",
    "    for wst in wet_snow_thresh:\n",
    "        print(f'A={a:0.2f}; B={b:0.2f}; C={c:0.2f}; wst={wst:0.2f}')\n",
    "        ds = calc_delta_cross_ratio(dataset, A=a, inplace=False)\n",
    "        ds = calc_delta_gamma(ds, B=b, inplace=False)\n",
    "        \n",
    "        ds = clip_delta_gamma_outlier(ds,thresh=8) # adjusted thresh from 3 to 8\n",
    "        ds = calc_snow_index(ds)\n",
    "        ds = calc_snow_index_to_snow_depth(ds, C=c, inplace=False)\n",
    "        ds = id_newly_wet_snow(ds,wet_thresh=wst)\n",
    "        ds = id_wet_negative_si(ds,wet_SI_thresh=0) #change to test depending on whether we want neg SI to flag as wet snow\n",
    "        ds = id_newly_frozen_snow(ds,freeze_thresh=-1*wst)\n",
    "        ds = flag_wet_snow(ds)\n",
    "        # Compare snow depths - mask wet snow\n",
    "        mask_wet = ~(pd.isnull(ds['lidar-sd']) | pd.isnull(ds['snow_depth'].sel(time=closest_ts)) | \n",
    "                ds['wet_snow'].sel(time=closest_ts).astype(bool))\n",
    "        diff_wet = ds['lidar-sd'].where(mask_wet) - ds['snow_depth'].sel(time=closest_ts).where(mask_wet)\n",
    "        rmse_wet = float(np.sqrt((diff_wet**2).sum()/len(diff_wet.values.flatten())))\n",
    "        print(f'RMSE wet = {rmse_wet:0.2f}')\n",
    "        rmse_wet_flag.loc[wst] = rmse_wet\n",
    "        # Compare snow depths - no wet snow mask\n",
    "        mask = ~(pd.isnull(ds['lidar-sd']) | pd.isnull(ds['snow_depth'].sel(time=closest_ts)))\n",
    "        diff = ds['lidar-sd'].where(mask) - ds['snow_depth'].sel(time=closest_ts).where(mask)\n",
    "        rmse = float(np.sqrt((diff**2).sum()/len(diff.values.flatten())))\n",
    "        print(f'RMSE = {rmse:0.2f}')\n",
    "        rmse_no_flag.loc[wst] = rmse\n",
    "        valid_pixels.loc[wst] = mask_wet.sum() / mask.sum()\n",
    "        print(f'Frac valid pixels = {mask_wet.sum() /mask.sum():0.2f}')\n",
    "\n",
    "    # After loop, save RMSE results per file\n",
    "    rmse_wet_flag.to_netcdf(f'rmse_out_with_si/{ds_name}_wet_flag.nc')\n",
    "    rmse_no_flag.to_netcdf(f'rmse_out_with_si/{ds_name}_no_flag.nc')\n",
    "    valid_pixels.to_netcdf(f'rmse_out_with_si/{ds_name}_valid_pixels.nc')\n",
    "    "
   ]
  },
  {
   "cell_type": "code",
   "execution_count": null,
   "metadata": {},
   "outputs": [],
   "source": [
    "with_neg_si_flag_wet_snow = True\n",
    "\n",
    "directory = 'rmse_out_with_si'\n",
    "#directory = 'rmse_out'\n",
    "\n",
    "#if with_neg_si_flag_wet_snow == True:\n",
    "#    directory = 'rmse_out_full_with_si'\n",
    "#else:\n",
    "#    directory = 'rmse_out_full'\n",
    "\n",
    "results = sorted(glob(f'{directory}/*.nc'))\n",
    "names = []\n",
    "for f in results:\n",
    "    if 'no_flag' in f:\n",
    "        ds_name = f.split(f'{directory}/')[-1]\n",
    "        ds_name = ds_name.split('_no')[0]\n",
    "        names.append(ds_name)\n",
    "\n",
    "thresh_results = pd.DataFrame(columns=names)\n",
    "no_thresh_results = pd.DataFrame(columns=names)\n",
    "valid_pixels_results = pd.DataFrame(columns=names)\n",
    "\n",
    "\n",
    "for f in results:\n",
    "    if 'wet_flag' in f:\n",
    "        r = xr.open_dataarray(f).load()\n",
    "        ds_name = f.split(f'{directory}/')[-1]\n",
    "        ds_name = ds_name.split('_wet')[0]\n",
    "        for ind,val in zip(r.wet_snow_thresh.values,r.values):\n",
    "            thresh_results.loc[ind,ds_name] = val\n",
    "    if 'no_flag' in f:\n",
    "        r = xr.open_dataarray(f).load()\n",
    "        ds_name = f.split(f'{directory}/')[-1]\n",
    "        ds_name = ds_name.split('_no')[0]\n",
    "        for ind,val in zip(r.wet_snow_thresh.values,r.values):\n",
    "            no_thresh_results.loc[ind,ds_name] = val\n",
    "    if 'valid' in f:\n",
    "        r = xr.open_dataarray(f).load()\n",
    "        ds_name = f.split(f'{directory}/')[-1]\n",
    "        ds_name = ds_name.split('_valid')[0]\n",
    "        for ind,val in zip(r.wet_snow_thresh.values,r.values):\n",
    "            valid_pixels_results.loc[ind,ds_name] = val\n"
   ]
  },
  {
   "cell_type": "code",
   "execution_count": null,
   "metadata": {},
   "outputs": [],
   "source": [
    "f,ax=plt.subplots(figsize=(12,4))\n",
    "thresh_results.plot(ax=ax)"
   ]
  },
  {
   "cell_type": "code",
   "execution_count": null,
   "metadata": {},
   "outputs": [],
   "source": [
    "f,ax=plt.subplots(figsize=(12,4))\n",
    "(thresh_results/no_thresh_results).plot(ax=ax)"
   ]
  },
  {
   "cell_type": "code",
   "execution_count": null,
   "metadata": {},
   "outputs": [],
   "source": [
    "f,ax=plt.subplots(figsize=(12,4))\n",
    "valid_pixels_results.plot(ax=ax)"
   ]
  },
  {
   "cell_type": "code",
   "execution_count": null,
   "metadata": {
    "tags": []
   },
   "outputs": [],
   "source": [
    "files = sorted(glob('spicy_s1_stacks/*.nc'))\n",
    "\n",
    "# Create parameter space\n",
    "A = np.array([2,2.5])\n",
    "B = np.array([0.2,0.3,0.4,0.5])\n",
    "C = np.array([0.4,0.45,0.5,0.55])\n",
    "\n",
    "# Ross optimized params\n",
    "#A = 2.5\n",
    "#B = 0.2\n",
    "#C = 0.55\n",
    "\n",
    "# Lievens params\n",
    "#A = 2\n",
    "#B = 0.5\n",
    "#C = 0.44\n",
    "\n",
    "wet_snow_thresh = np.arange(-4, -1.1, 0.1)\n",
    "\n",
    "for f in files:\n",
    "    ds_name = f.split('stacks/')[-1].split('.')[0]\n",
    "    print(datetime.now(), f' -- starting {ds_name}')\n",
    "\n",
    "    if Path(f'rmse_out_full_with_si/{ds_name}_wet_flag.nc').is_file():\n",
    "        print('This file already exists, continuing.')\n",
    "        continue\n",
    "\n",
    "    # Open dataset \n",
    "    ds_ = xr.open_dataset(f).load()\n",
    "    dataset = ds_[['s1','deltaVV','ims','fcf','lidar-sd']]\n",
    "    td = abs(pd.to_datetime(dataset.time) - pd.to_datetime(dataset.attrs['lidar-flight-time']))\n",
    "    closest_ts_idx = np.where(td == td.min())[0][0]\n",
    "    closest_ts = dataset.time[closest_ts_idx]\n",
    "    # Initialize RMSE arrays\n",
    "    rmse_wet_flag = xr.DataArray(np.empty((len(A), len(B), len(C),len(wet_snow_thresh)))*np.nan,\n",
    "                        coords=(A, B, C,wet_snow_thresh), dims=('A','B','C','wet_snow_thresh'))\n",
    "    rmse_no_flag = xr.DataArray(np.empty((len(A), len(B), len(C), len(wet_snow_thresh)))*np.nan,\n",
    "                        coords=(A, B, C, wet_snow_thresh), dims=('A','B','C','wet_snow_thresh'))\n",
    "    valid_pixels = xr.DataArray(np.empty((len(A), len(B), len(C), len(wet_snow_thresh)))*np.nan,\n",
    "                        coords=(A, B, C, wet_snow_thresh), dims=('A','B','C','wet_snow_thresh'))\n",
    "    # Brute-force loop\n",
    "    for a in A:\n",
    "        for b in B:\n",
    "            for c in C:\n",
    "                for wst in wet_snow_thresh:\n",
    "                    ds = calc_delta_cross_ratio(dataset, A=a, inplace=False)\n",
    "                    ds = calc_delta_gamma(ds, B=b, inplace=False)\n",
    "                    print(f'A={a:0.2f}; B={b:0.2f}; C={c:0.2f}; wst={wst:0.2f}')\n",
    "                    ds = clip_delta_gamma_outlier(ds,thresh=8)\n",
    "                    ds = calc_snow_index(ds)\n",
    "                    ds = calc_snow_index_to_snow_depth(ds, C=c, inplace=False)\n",
    "                    ds = id_newly_wet_snow(ds,wet_thresh=wst)\n",
    "                    ds = id_wet_negative_si(ds) #change to test depdning on whether to remove neg SI = wet snow\n",
    "                    ds = id_newly_frozen_snow(ds,freeze_thresh=-1*wst)\n",
    "                    ds = flag_wet_snow(ds)\n",
    "                    # Compare snow depths - mask wet snow\n",
    "                    mask_wet = ~(pd.isnull(ds['lidar-sd']) | pd.isnull(ds['snow_depth'].sel(time=closest_ts)) | \n",
    "                            ds['wet_snow'].sel(time=closest_ts).astype(bool))\n",
    "                    diff_wet = ds['lidar-sd'].where(mask_wet) - ds['snow_depth'].sel(time=closest_ts).where(mask_wet)\n",
    "                    rmse_wet = float(np.sqrt((diff_wet**2).sum()/len(diff_wet.values.flatten())))\n",
    "                    print(f'RMSE wet = {rmse_wet:0.2f}')\n",
    "                    rmse_wet_flag.loc[a, b, c,wst] = rmse_wet\n",
    "                    # Compare snow depths - no wet snow mask\n",
    "                    mask = ~(pd.isnull(ds['lidar-sd']) | pd.isnull(ds['snow_depth'].sel(time=closest_ts)))\n",
    "                    diff = ds['lidar-sd'].where(mask) - ds['snow_depth'].sel(time=closest_ts).where(mask)\n",
    "                    rmse = float(np.sqrt((diff**2).sum()/len(diff.values.flatten())))\n",
    "                    print(f'RMSE = {rmse:0.2f}')\n",
    "                    rmse_no_flag.loc[a,b,c,wst] = rmse\n",
    "                    valid_pixels.loc[a,b,c,wst] = mask_wet.sum() / mask.sum()\n",
    "                    print(f'Frac valid pixels = {mask_wet.sum()/ mask.sum():0.2f}')\n",
    "\n",
    "    # After loop, save RMSE results per file\n",
    "    rmse_wet_flag.to_netcdf(f'rmse_out_full_with_si/{ds_name}_wet_flag.nc')\n",
    "    rmse_no_flag.to_netcdf(f'rmse_out_full_with_si/{ds_name}_no_flag.nc')\n",
    "    valid_pixels.to_netcdf(f'rmse_out_full_with_si/{ds_name}_valid_pixels.nc')\n",
    "    "
   ]
  },
  {
   "cell_type": "code",
   "execution_count": null,
   "metadata": {},
   "outputs": [],
   "source": [
    "directory = 'rmse_out_full'\n",
    "directory = 'rmse_out_full_with_si'\n",
    "\n",
    "which_site = 5\n",
    "\n",
    "results1 = sorted(glob(f'{directory}/*wet*.nc'))\n",
    "results2 = sorted(glob(f'{directory}/*no*.nc'))\n",
    "results3 = sorted(glob(f'{directory}/*valid*.nc'))\n",
    "\n",
    "wet_snow = xr.open_dataarray(results1[which_site])\n",
    "all_snow = xr.open_dataarray(results2[which_site])\n",
    "frac_valid = xr.open_dataarray(results3[which_site])\n",
    "\n",
    "all_rmse = xr.concat([wet_snow,all_snow],'wet_or_all')\n"
   ]
  },
  {
   "cell_type": "code",
   "execution_count": null,
   "metadata": {},
   "outputs": [],
   "source": [
    "for a in A:\n",
    "    for b in B:\n",
    "        f = all_rmse.sel(A=a).sel(B=b).plot(hue='wet_or_all',col='C',add_legend=False)\n",
    "        for c,ax in zip(C,f.axs[0]):\n",
    "            frac_ax = ax.twinx()\n",
    "            fv = frac_valid.sel(A=a).sel(B=b).sel(C=c).plot(ax=frac_ax,color='green',label='dry pixel fraction')\n",
    "            frac_ax.set_title('')\n",
    "            ax.axvline(wet_snow.sel(A=a).sel(B=b).sel(C=c).idxmin(),color='black',linestyle='--')\n",
    "            ax.set_title(f'A={a:0.1f}, B={b:0.1f}, C={c:0.1f} \\n min(RMSE)={float(wet_snow.sel(A=a).sel(B=b).sel(C=c).min()):0.2f} @ {float(wet_snow.sel(A=a).sel(B=b).sel(C=c).idxmin()):0.2f}dB')\n",
    "        ax.legend(labels=['wet snow mask','no mask'], title= 'RMSE', loc='lower right')\n",
    "        frac_ax.legend(handles=fv,labels=['Dry pixel fraction'], loc='upper right')\n",
    "        plt.tight_layout()"
   ]
  },
  {
   "cell_type": "code",
   "execution_count": null,
   "metadata": {},
   "outputs": [],
   "source": [
    "iles = sorted(glob('spicy_s1_stacks/*.nc'))\n",
    "\n",
    "\n",
    "for f in files:\n",
    "    ds_name = f.split('stacks/')[-1].split('.')[0]\n",
    "    print(datetime.now(), f' -- starting {ds_name}')\n",
    "\n",
    "    # Open dataset \n",
    "    ds_ = xr.open_dataset(f).load()\n",
    "    dataset = ds_[['s1','deltaVV','ims','fcf','lidar-sd']]\n",
    "    td = abs(pd.to_datetime(dataset.time) - pd.to_datetime(dataset.attrs['lidar-flight-time']))\n",
    "    closest_ts_idx = np.where(td == td.min())[0][0]\n",
    "    closest_ts = dataset.time[closest_ts_idx]"
   ]
  },
  {
   "cell_type": "code",
   "execution_count": null,
   "metadata": {},
   "outputs": [],
   "source": [
    "a = 2.5\n",
    "b = 0.2\n",
    "c = 0.55\n",
    "wst = -3\n",
    "\n",
    "for wst in [-4,-3,-2,-1,0]:\n",
    "    ds = calc_delta_cross_ratio(dataset, A=a, inplace=False)\n",
    "    ds = calc_delta_gamma(ds, B=b, inplace=False)\n",
    "    print(f'A={a:0.2f}; B={b:0.2f}; C={c:0.2f}; wst={wst:0.2f}')\n",
    "    ds = clip_delta_gamma_outlier(ds)\n",
    "    ds = calc_snow_index(ds)\n",
    "    ds = calc_snow_index_to_snow_depth(ds, C=c, inplace=False)\n",
    "    ds = id_newly_wet_snow(ds,wet_thresh=wst)\n",
    "    ds = id_wet_negative_si(ds)\n",
    "    ds = id_newly_frozen_snow(ds,freeze_thresh=-1*wst)\n",
    "    ds = flag_wet_snow(ds)\n",
    "\n",
    "    ds['wet_snow'].plot(col='time',col_wrap=10)"
   ]
  },
  {
   "cell_type": "code",
   "execution_count": null,
   "metadata": {},
   "outputs": [],
   "source": [
    "f,ax=plt.subplots(1,2,figsize=(12,5))\n",
    "ds['snow_depth'].sel(time=closest_ts).plot(ax=ax[0])\n",
    "ds['wet_snow'].sel(time=closest_ts).plot(ax=ax[1])"
   ]
  },
  {
   "cell_type": "code",
   "execution_count": null,
   "metadata": {},
   "outputs": [],
   "source": [
    "a = 2.5\n",
    "b = 0.2\n",
    "c = 0.55\n",
    "\n",
    "for wst in [0,-1,-2,-3,-4,-5,-6,-7,-1000]:\n",
    "    ds = calc_delta_cross_ratio(dataset, A=a, inplace=False)\n",
    "    ds = calc_delta_gamma(ds, B=b, inplace=False)\n",
    "    print(f'A={a:0.2f}; B={b:0.2f}; C={c:0.2f}; wst={wst:0.2f}')\n",
    "    ds = clip_delta_gamma_outlier(ds,thresh=8)\n",
    "    ds = calc_snow_index(ds)\n",
    "    ds = calc_snow_index_to_snow_depth(ds, C=c, inplace=False)\n",
    "    ds = id_newly_wet_snow(ds,wet_thresh=wst)\n",
    "    ds = id_wet_negative_si(ds)\n",
    "    ds = id_newly_frozen_snow(ds,freeze_thresh=-1*wst)\n",
    "    ds = flag_wet_snow(ds)\n",
    "    f,ax=plt.subplots(1,2,figsize=(12,5))\n",
    "    ds['snow_depth'].sel(time=closest_ts).plot(ax=ax[0])\n",
    "    ds['wet_snow'].sel(time=closest_ts).plot(ax=ax[1])\n"
   ]
  },
  {
   "cell_type": "code",
   "execution_count": null,
   "metadata": {},
   "outputs": [],
   "source": [
    "mask_wet = ~(pd.isnull(ds['lidar-sd']) | pd.isnull(ds['snow_depth'].sel(time=closest_ts)) | ds['wet_snow'].sel(time=closest_ts).astype(bool))\n",
    "mask = ~(pd.isnull(ds['lidar-sd']) | pd.isnull(ds['snow_depth'].sel(time=closest_ts)))"
   ]
  },
  {
   "cell_type": "code",
   "execution_count": null,
   "metadata": {},
   "outputs": [],
   "source": [
    "ds"
   ]
  },
  {
   "cell_type": "code",
   "execution_count": null,
   "metadata": {},
   "outputs": [],
   "source": [
    "f,ax=plt.subplots(1,2,figsize=(12,7))\n",
    "ax[0].imshow(mask)\n",
    "mask_wet.plot(ax=ax[1])"
   ]
  },
  {
   "cell_type": "code",
   "execution_count": null,
   "metadata": {},
   "outputs": [],
   "source": [
    "mask.sum()"
   ]
  },
  {
   "cell_type": "code",
   "execution_count": null,
   "metadata": {},
   "outputs": [],
   "source": [
    "mask_wet.sum()"
   ]
  },
  {
   "cell_type": "code",
   "execution_count": null,
   "metadata": {},
   "outputs": [],
   "source": [
    "mask_wet.sum()/mask.sum()"
   ]
  },
  {
   "cell_type": "code",
   "execution_count": null,
   "metadata": {},
   "outputs": [],
   "source": [
    "( mask.sum() - mask_wet.sum()  ) / mask.sum()"
   ]
  },
  {
   "cell_type": "code",
   "execution_count": null,
   "metadata": {},
   "outputs": [],
   "source": [
    "#mask_wet = ~(pd.isnull(ds['lidar-sd']) | pd.isnull(ds['snow_depth'].sel(time=closest_ts)) | ds['wet_snow'].sel(time=closest_ts).astype(bool))\n",
    "#mask_wet.sum()\n",
    "# f,ax=plt.subplots()\n",
    "# ax.imshow(mask_wet)\n",
    "# mask = ~(pd.isnull(ds['lidar-sd']) | pd.isnull(ds['snow_depth'].sel(time=closest_ts)))\n",
    "# mask\n",
    "# f,ax=plt.subplots()\n",
    "# ax.imshow(mask)"
   ]
  },
  {
   "cell_type": "code",
   "execution_count": null,
   "metadata": {},
   "outputs": [],
   "source": []
  },
  {
   "cell_type": "code",
   "execution_count": null,
   "metadata": {},
   "outputs": [],
   "source": []
  },
  {
   "cell_type": "code",
   "execution_count": null,
   "metadata": {},
   "outputs": [],
   "source": []
  },
  {
   "cell_type": "code",
   "execution_count": null,
   "metadata": {},
   "outputs": [],
   "source": []
  },
  {
   "cell_type": "code",
   "execution_count": null,
   "metadata": {},
   "outputs": [],
   "source": []
  },
  {
   "attachments": {},
   "cell_type": "markdown",
   "metadata": {},
   "source": []
  }
 ],
 "metadata": {
  "kernelspec": {
   "display_name": "Python 3 (ipykernel)",
   "language": "python",
   "name": "python3"
  },
  "language_info": {
   "codemirror_mode": {
    "name": "ipython",
    "version": 3
   },
   "file_extension": ".py",
   "mimetype": "text/x-python",
   "name": "python",
   "nbconvert_exporter": "python",
   "pygments_lexer": "ipython3",
   "version": "3.11.3"
  },
  "vscode": {
   "interpreter": {
    "hash": "ce4bdd2387e2daa803a7d0f8b0d766d25a1c9eab6b20981c1c0786f34d7ccd75"
   }
  }
 },
 "nbformat": 4,
 "nbformat_minor": 4
}
