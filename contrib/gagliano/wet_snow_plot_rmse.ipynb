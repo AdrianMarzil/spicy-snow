{
 "cells": [
  {
   "cell_type": "code",
   "execution_count": null,
   "metadata": {},
   "outputs": [],
   "source": [
    "import xarray as xr\n",
    "import matplotlib.pyplot as plt\n",
    "import pandas as pd\n",
    "import numpy as np\n",
    "from pathlib import Path\n",
    "from glob import glob\n",
    "from datetime import datetime\n",
    "import sys\n",
    "sys.path.append('../../../spicy-snow/')\n",
    "\n",
    "from spicy_snow.processing.snow_index import calc_delta_cross_ratio, calc_delta_gamma, \\\n",
    "    clip_delta_gamma_outlier, calc_snow_index, calc_snow_index_to_snow_depth\n",
    "from spicy_snow.processing.wet_snow import id_newly_wet_snow, id_wet_negative_si, \\\n",
    "    id_newly_frozen_snow, flag_wet_snow\n",
    "from spicy_snow.retrieval import retrieval_from_parameters\n",
    "\n",
    "from dask.distributed import Client\n"
   ]
  },
  {
   "cell_type": "code",
   "execution_count": null,
   "metadata": {},
   "outputs": [],
   "source": [
    "directory = 'rmse_test_wet_snow'\n",
    "\n",
    "\n",
    "which_site = 1\n",
    "\n",
    "results1 = sorted(glob(f'{directory}/*wet*.nc'))\n",
    "results2 = sorted(glob(f'{directory}/*no*.nc'))\n",
    "results3 = sorted(glob(f'{directory}/*valid*.nc'))\n",
    "\n",
    "wet_snow = xr.open_dataarray(results1[which_site])\n",
    "all_snow = xr.open_dataarray(results2[which_site])\n",
    "frac_valid = xr.open_dataarray(results3[which_site])\n",
    "\n",
    "wet_snow = wet_snow.sel(freeze_snow_thresh=slice(1,2))\n",
    "all_snow = all_snow.sel(freeze_snow_thresh=slice(1,2))\n",
    "frac_valid = frac_valid.sel(freeze_snow_thresh=slice(1,2))\n",
    "\n",
    "all_rmse = xr.concat([wet_snow,all_snow],'wet_or_all')\n",
    "\n"
   ]
  },
  {
   "cell_type": "code",
   "execution_count": null,
   "metadata": {},
   "outputs": [],
   "source": [
    "#wet_snow.sel(SI_thresh=0).plot.contour(levels=10,linestyle='--',color='black')"
   ]
  },
  {
   "cell_type": "code",
   "execution_count": null,
   "metadata": {},
   "outputs": [],
   "source": [
    "f,ax=plt.subplots(2,2,figsize=(6,6),sharex=True,sharey=True)\n",
    "wet_snow.sel(SI_thresh=0).plot(ax=ax[0,0],vmin=0.3,vmax=0.9)\n",
    "frac_valid.sel(SI_thresh=0).plot(ax=ax[0,1],vmin=0,vmax=1)\n",
    "\n",
    "\n",
    "wet_snow.sel(SI_thresh=-100).plot(ax=ax[1,0],vmin=0.3,vmax=0.9)\n",
    "frac_valid.sel(SI_thresh=-100).plot(ax=ax[1,1],vmin=0,vmax=1)\n",
    "ax[1,0].set_title('RMSE')\n",
    "ax[1,1].set_title('Fraction of pixels dry')\n",
    "\n",
    "ax[0,0].set_title('RMSE')\n",
    "ax[0,1].set_title('Fraction dry pixels')\n",
    "\n",
    "ax[0,0].set_xlabel('')\n",
    "ax[0,1].set_xlabel('')\n",
    "ax[0,1].set_ylabel('')\n",
    "\n",
    "ax[1,1].set_ylabel('')\n",
    "\n",
    "ax[0,0].set_ylabel('Wet snow threshold')\n",
    "ax[1,0].set_ylabel('Wet snow threshold')\n",
    "\n",
    "ax[1,0].set_xlabel('Freeze snow threshold')\n",
    "ax[1,1].set_xlabel('Freeze snow threshold')\n",
    "\n",
    "\n",
    "f.suptitle('RMSE and Fraction dry pixels with and without alternate wet snow flag')\n",
    "\n",
    "rows=['with alternate wet snow flag','without alternate wet snow flag']\n",
    "pad = 5\n",
    "for ax, row in zip(ax[:,0], rows):\n",
    "    ax.annotate(row,xy=(0, 0.5), xytext=(-ax.yaxis.labelpad-pad,0),                    \n",
    "                xycoords=ax.yaxis.label, textcoords='offset points',\n",
    "                size='large', ha='right', va='center',rotation=90)\n",
    "plt.tight_layout()\n",
    "\n",
    "f.savefig('figures/RMSE_fracdry_mesh.png',dpi=600)"
   ]
  },
  {
   "cell_type": "code",
   "execution_count": null,
   "metadata": {},
   "outputs": [],
   "source": [
    "sit = 0\n",
    "f=all_rmse.sel(SI_thresh=sit).plot(hue='wet_or_all',col='wet_snow_thresh',add_legend=False,col_wrap=5)\n",
    "\n",
    "for wst,ax in zip(all_rmse.wet_snow_thresh,f.axs.ravel()):\n",
    "    frac_ax = ax.twinx()\n",
    "    fv = frac_valid.sel(SI_thresh=sit,wet_snow_thresh=wst).plot(ax=frac_ax,color='green',label='dry pixel fraction')\n",
    "    frac_ax.set_title('')\n",
    "    ax.axvline(wet_snow.sel(SI_thresh=sit,wet_snow_thresh=wst).idxmin(),color='black',linestyle='--')\n",
    "    ax.set_title('')\n",
    "    dry_percent = 100*frac_valid.sel(SI_thresh=sit,wet_snow_thresh=wst,freeze_snow_thresh=float(wet_snow.sel(SI_thresh=sit,wet_snow_thresh=wst).idxmin()))\n",
    "    ax.set_title(f'sit={sit:0.1f}, wst={wst:0.1f}, \\n min(RMSE)={float(wet_snow.sel(SI_thresh=sit,wet_snow_thresh=wst).min()):0.2f} @ {float(wet_snow.sel(SI_thresh=sit,wet_snow_thresh=wst).idxmin()):0.2f}dB,\\n Dry={dry_percent:0.2f}%')\n",
    "\n",
    "    \n",
    "ax.legend(labels=['wet snow mask','no mask'], title= 'RMSE', loc='lower right')\n",
    "frac_ax.legend(handles=fv,labels=['Dry pixel fraction'], loc='upper right')\n",
    "plt.tight_layout()"
   ]
  },
  {
   "cell_type": "code",
   "execution_count": null,
   "metadata": {},
   "outputs": [],
   "source": [
    "sit = -100\n",
    "f=all_rmse.sel(SI_thresh=sit).plot(hue='wet_or_all',col='wet_snow_thresh',add_legend=False,col_wrap=5)\n",
    "for wst,ax in zip(all_rmse.wet_snow_thresh,f.axs.ravel()):\n",
    "    frac_ax = ax.twinx()\n",
    "    fv = frac_valid.sel(SI_thresh=sit,wet_snow_thresh=wst).plot(ax=frac_ax,color='green',label='dry pixel fraction')\n",
    "    frac_ax.set_title('')\n",
    "    ax.axvline(wet_snow.sel(SI_thresh=sit,wet_snow_thresh=wst).idxmin(),color='black',linestyle='--')\n",
    "    ax.set_title('')\n",
    "    dry_percent = 100*frac_valid.sel(SI_thresh=sit,wet_snow_thresh=wst,freeze_snow_thresh=float(wet_snow.sel(SI_thresh=sit,wet_snow_thresh=wst).idxmin()))\n",
    "    ax.set_title(f'sit={sit:0.1f}, wst={wst:0.1f}, \\n min(RMSE)={float(wet_snow.sel(SI_thresh=sit,wet_snow_thresh=wst).min()):0.2f} @ {float(wet_snow.sel(SI_thresh=sit,wet_snow_thresh=wst).idxmin()):0.2f}dB,\\n Dry={dry_percent:0.2f}%')\n",
    "\n",
    "    \n",
    "ax.legend(labels=['wet snow mask','no mask'], title= 'RMSE', loc='lower right')\n",
    "frac_ax.legend(handles=fv,labels=['Dry pixel fraction'], loc='upper right')\n",
    "plt.tight_layout()"
   ]
  },
  {
   "cell_type": "code",
   "execution_count": null,
   "metadata": {},
   "outputs": [],
   "source": [
    "#sit = 0\n",
    "col_wrap = 3\n",
    "counter = 0\n",
    "f=wet_snow.plot(hue='SI_thresh',col='wet_snow_thresh',col_wrap=col_wrap,sharey=True,add_legend=False)\n",
    "f.fig.set_size_inches(8,16) #10,21\n",
    "\n",
    "for wst,ax in zip(all_rmse.wet_snow_thresh,f.axs.ravel()):\n",
    "    frac_ax = ax.twinx()\n",
    "    fv = frac_valid.sel(wet_snow_thresh=wst).plot(ax=frac_ax,hue='SI_thresh',label='dry pixel fraction',linestyle='--',add_legend=False)\n",
    "    frac_ax.set_ylim([0,1])\n",
    "    frac_ax.set_title('')\n",
    "    #ax.axvline(wet_snow.sel(SI_thresh=sit,wet_snow_thresh=wst).idxmin(),color='black',linestyle='--')\n",
    "    ax.set_title('')\n",
    "    dry_percent = 100*frac_valid.sel(SI_thresh=sit,wet_snow_thresh=wst,freeze_snow_thresh=float(wet_snow.sel(SI_thresh=sit,wet_snow_thresh=wst).idxmin()))\n",
    "    ax.set_title(f'wst={wst:0.1f}')\n",
    "\n",
    "    if np.mod(counter,col_wrap) == 0:\n",
    "        ax.set_ylabel('RMSE') \n",
    "    if np.mod(counter,col_wrap) == col_wrap-1:\n",
    "        frac_ax.set_ylabel('Fraction of pixels dry') \n",
    "    if wst > -1.69:\n",
    "        ax.set_xlabel('Freeze snow threshold')\n",
    "    counter = counter + 1\n",
    "\n",
    "\n",
    "\n",
    "    \n",
    "f.fig.legend(labels=['with alt flag','without alt flag'], title= 'RMSE', loc='lower right',bbox_to_anchor=(1.2, 0.6))\n",
    "f.fig.legend(handles=fv,labels=['with alt flag','without alt flag'], title='Dry pixel fraction', loc='upper right',bbox_to_anchor=(1.2, 0.6))\n",
    "\n",
    "f.fig.suptitle('RMSE and Fraction of dry pixels with and without alternate wet snow flag \\n vs. wet and freeze snow thresholds')\n",
    "\n",
    "plt.tight_layout()\n",
    "\n",
    "f.fig.savefig('figures/RMSE_fracdry_subplots.png',dpi=600)"
   ]
  },
  {
   "attachments": {},
   "cell_type": "markdown",
   "metadata": {},
   "source": []
  }
 ],
 "metadata": {
  "kernelspec": {
   "display_name": "Python 3 (ipykernel)",
   "language": "python",
   "name": "python3"
  },
  "language_info": {
   "codemirror_mode": {
    "name": "ipython",
    "version": 3
   },
   "file_extension": ".py",
   "mimetype": "text/x-python",
   "name": "python",
   "nbconvert_exporter": "python",
   "pygments_lexer": "ipython3",
   "version": "3.11.3"
  },
  "vscode": {
   "interpreter": {
    "hash": "ce4bdd2387e2daa803a7d0f8b0d766d25a1c9eab6b20981c1c0786f34d7ccd75"
   }
  }
 },
 "nbformat": 4,
 "nbformat_minor": 4
}
