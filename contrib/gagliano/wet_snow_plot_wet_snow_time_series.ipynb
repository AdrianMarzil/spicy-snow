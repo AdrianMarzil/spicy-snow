{
 "cells": [
  {
   "cell_type": "code",
   "execution_count": null,
   "metadata": {},
   "outputs": [],
   "source": [
    "import xarray as xr\n",
    "import matplotlib.pyplot as plt\n",
    "import pandas as pd\n",
    "import numpy as np\n",
    "from pathlib import Path\n",
    "from glob import glob\n",
    "from datetime import datetime\n",
    "import sys\n",
    "sys.path.append('../../../spicy-snow/')\n",
    "\n",
    "from spicy_snow.processing.snow_index import calc_delta_cross_ratio, calc_delta_gamma, \\\n",
    "    clip_delta_gamma_outlier, calc_snow_index, calc_snow_index_to_snow_depth\n",
    "from spicy_snow.processing.wet_snow import id_newly_wet_snow, id_wet_negative_si, \\\n",
    "    id_newly_frozen_snow, flag_wet_snow\n",
    "from spicy_snow.retrieval import retrieval_from_parameters\n",
    "\n",
    "from dask.distributed import Client\n"
   ]
  },
  {
   "cell_type": "code",
   "execution_count": null,
   "metadata": {},
   "outputs": [],
   "source": [
    "client = Client(local_directory='/tmp', processes=False)\n",
    "client"
   ]
  },
  {
   "cell_type": "code",
   "execution_count": null,
   "metadata": {},
   "outputs": [],
   "source": [
    "files = sorted(glob('spicy_s1_stacks/*.nc'))\n",
    "\n",
    "\n",
    "f = files[1]\n",
    "start_year = 2019\n",
    "start_year = 2020\n",
    "\n",
    "ds_name = f.split('stacks/')[-1].split('.')[0]\n",
    "print(datetime.now(), f' -- starting {ds_name}')\n",
    "\n",
    "    # Open dataset \n",
    "ds_ = xr.open_dataset(f).load()\n",
    "dataset = ds_[['s1','deltaVV','ims','fcf','lidar-sd']]\n",
    "td = abs(pd.to_datetime(dataset.time) - pd.to_datetime(dataset.attrs['lidar-flight-time']))\n",
    "closest_ts_idx = np.where(td == td.min())[0][0]\n",
    "closest_ts = dataset.time[closest_ts_idx]\n",
    "\n",
    "a = 2.5\n",
    "b = 0.2\n",
    "c = 0.55"
   ]
  },
  {
   "cell_type": "code",
   "execution_count": null,
   "metadata": {},
   "outputs": [],
   "source": [
    "ds = retrieval_from_parameters(dataset,A=a,B=b,C=c,wet_SI_thresh=0,freezing_snow_thresh=1,wet_snow_thres=-2)"
   ]
  },
  {
   "cell_type": "code",
   "execution_count": null,
   "metadata": {},
   "outputs": [],
   "source": [
    "ds['wet_snow'].plot(col='time',col_wrap=10)\n",
    "#ds['wet_flag'].plot(col='time',col_wrap=10)\n",
    "#ds['alt_wet_flag'].plot(col='time',col_wrap=10)\n",
    "#ds['freeze_flag'].plot(col='time',col_wrap=10)\n",
    "#ds['perma_wet'].plot(col='time',col_wrap=10)\n",
    "\n",
    "#ds['snow_index'].plot(col='time',col_wrap=10)\n"
   ]
  },
  {
   "cell_type": "code",
   "execution_count": null,
   "metadata": {},
   "outputs": [],
   "source": [
    "ds_resampled = ds['wet_snow'].resample(time='10D').median(dim='time')\n",
    "ds_resampled = ds_resampled > 0.5\n",
    "ds_resampled.plot(col='time',col_wrap=8)"
   ]
  },
  {
   "cell_type": "code",
   "execution_count": null,
   "metadata": {},
   "outputs": [],
   "source": [
    "code = '312_ID_SNTL'\n",
    "snotel_data = pd.read_parquet(f'https://github.com/scottyhq/snotel/raw/main/parquet/{code}.parquet')\n",
    "snotel_TAVG = snotel_data['TAVG'].loc[slice(f'{start_year}-08',f'{start_year+1}-04')]"
   ]
  },
  {
   "cell_type": "code",
   "execution_count": null,
   "metadata": {},
   "outputs": [],
   "source": [
    "f,ax=plt.subplots()\n",
    "for orbit in np.unique(ds['relative_orbit']):\n",
    "    ds_ws = ds['wet_snow']\n",
    "    ds_orbit = ds_ws[ds_ws['relative_orbit']==orbit]\n",
    "    ds_orbit.sum(dim=['x','y']).plot(ax=ax)\n",
    "\n",
    "T_ax = ax.twinx()\n",
    "snotel_TAVG.plot(ax=T_ax, color='red')\n",
    "T_ax.axhline(0,color='black',linestyle='--')\n",
    "\n"
   ]
  },
  {
   "cell_type": "code",
   "execution_count": null,
   "metadata": {},
   "outputs": [],
   "source": [
    "f,ax=plt.subplots(2,1,figsize=(7,6),sharex=True)\n",
    "PRCP_ax = ax[1].twinx()\n",
    "ds_resampled.sum(dim=['x','y']).plot(ax=ax[0],color='blue')\n",
    "ax[0].set_xlim([pd.to_datetime(f'{start_year}-10'),pd.to_datetime(f'{start_year+1}-03-21')])\n",
    "\n",
    "snotel_TAVG.plot(ax=ax[1], color='red')\n",
    "\n",
    "ax[1].axhline(0,color='black',linestyle='--')\n",
    "snotel_data['SNWD'].loc[slice(f'{start_year}-08',f'{start_year+1}-04')].plot(ax=PRCP_ax,color='green')\n",
    "ax[1].set_xlim([pd.to_datetime(f'{start_year}-10'),pd.to_datetime(f'{start_year+1}-03-21')])\n",
    "\n",
    "ax[0].set_title('Number of wet snow pixels (resampled to 10 days)')\n",
    "ax[0].set_ylabel('Pixels [count]')\n",
    "ax[0].set_xlabel('')\n",
    "ax[1].set_xlabel('')\n",
    "ax[1].set_title('Banner Summit SNOTEL site')\n",
    "ax[1].set_ylabel('Temperature [C]')\n",
    "PRCP_ax.set_xlabel('')\n",
    "PRCP_ax.set_ylabel('Snow Depth [m]')\n",
    "\n",
    "ax[0].yaxis.label.set_color('blue')\n",
    "ax[1].yaxis.label.set_color('red')\n",
    "PRCP_ax.yaxis.label.set_color('green')\n",
    "\n",
    "\n",
    "plt.tight_layout()\n",
    "\n",
    "f.savefig('figures/wet_snow_and_snotel.png',dpi=600)"
   ]
  },
  {
   "cell_type": "code",
   "execution_count": null,
   "metadata": {},
   "outputs": [],
   "source": [
    "ds_resampled = ds['wet_snow'].resample(time='10D').median(dim='time')\n",
    "ds_resampled = ds_resampled > 0.5\n",
    "f = ds_resampled.where(~ds['lidar-sd'].isnull()).sel(time=slice(f'{start_year}-10',f'{start_year+1}-03-21')).plot(col='time',col_wrap=6, add_colorbar=False)\n",
    "f.fig.suptitle('Wet snow time series resampled to 10 days')\n",
    "f.fig.set_size_inches(11,7)\n",
    "\n",
    "f.fig.tight_layout()\n",
    "f.fig.savefig('figures/wet_snow_ts_10days.png',dpi=600)"
   ]
  }
 ],
 "metadata": {
  "kernelspec": {
   "display_name": "Python 3 (ipykernel)",
   "language": "python",
   "name": "python3"
  },
  "language_info": {
   "codemirror_mode": {
    "name": "ipython",
    "version": 3
   },
   "file_extension": ".py",
   "mimetype": "text/x-python",
   "name": "python",
   "nbconvert_exporter": "python",
   "pygments_lexer": "ipython3",
   "version": "3.11.3"
  },
  "vscode": {
   "interpreter": {
    "hash": "ce4bdd2387e2daa803a7d0f8b0d766d25a1c9eab6b20981c1c0786f34d7ccd75"
   }
  }
 },
 "nbformat": 4,
 "nbformat_minor": 4
}
