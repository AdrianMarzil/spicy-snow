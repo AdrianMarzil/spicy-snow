{
 "cells": [
  {
   "cell_type": "code",
   "execution_count": null,
   "metadata": {},
   "outputs": [],
   "source": [
    "#function terrainCorrection(image) {\n",
    "\n",
    "imgGeom = image.geometry()\n",
    "srtm = ee.Image('USGS/SRTMGL1_003').clip(imgGeom) // 30m srtm \n",
    "sigma0Pow = ee.Image.constant(10).pow(image.divide(10.0))\n",
    "\n",
    "#Article ( numbers relate to chapters)\n",
    "#2.1.1 Radar geometry \n",
    "theta_i = image.select('angle')\n",
    "phi_i = ee.Terrain.aspect(theta_i)\n",
    "    .reduceRegion(ee.Reducer.mean(), theta_i.get('system:footprint'), 1000)\n",
    "    .get('aspect')\n",
    "\n",
    "# 2.1.2 Terrain geometry\n",
    "alpha_s = ee.Terrain.slope(srtm).select('slope')\n",
    "phi_s = ee.Terrain.aspect(srtm).select('aspect')\n",
    "\n",
    "# 2.1.3 Model geometry\n",
    "# reduce to 3 angle\n",
    "phi_r = ee.Image.constant(phi_i).subtract(phi_s)\n",
    "\n",
    "# convert all to radians\n",
    "phi_rRad = phi_r.multiply(Math.PI / 180)\n",
    "alpha_sRad = alpha_s.multiply(Math.PI / 180)\n",
    "theta_iRad = theta_i.multiply(Math.PI / 180)\n",
    "ninetyRad = ee.Image.constant(90).multiply(Math.PI / 180)\n",
    "\n",
    "# slope steepness in range (eq. 2)\n",
    "alpha_r = (alpha_sRad.tan().multiply(phi_rRad.cos())).atan()\n",
    "\n",
    "# slope steepness in azimuth (eq 3)\n",
    "alpha_az = (alpha_sRad.tan().multiply(phi_rRad.sin())).atan()\n",
    "\n",
    "# local incidence angle (eq. 4)\n",
    "theta_lia = (alpha_az.cos().multiply((theta_iRad.subtract(alpha_r)).cos())).acos()\n",
    "theta_liaDeg = theta_lia.multiply(180 / Math.PI)"
   ]
  }
 ],
 "metadata": {
  "kernelspec": {
   "display_name": "Python 3",
   "language": "python",
   "name": "python3"
  },
  "language_info": {
   "name": "python",
   "version": "3.8.9"
  },
  "orig_nbformat": 4,
  "vscode": {
   "interpreter": {
    "hash": "31f2aee4e71d21fbe5cf8b01ff0e069b9275f58929596ceb00d14d90e3e16cd6"
   }
  }
 },
 "nbformat": 4,
 "nbformat_minor": 2
}
