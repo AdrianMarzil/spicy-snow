{
 "cells": [
  {
   "cell_type": "code",
   "execution_count": null,
   "metadata": {},
   "outputs": [],
   "source": [
    "import pickle\n",
    "from pathlib import Path\n",
    "\n",
    "# Add main repo to path\n",
    "import sys\n",
    "from os.path import expanduser\n",
    "sys.path.append(expanduser('../../'))\n",
    "\n",
    "from spicy_snow import retrieve_snow_depth\n",
    "from spicy_snow.IO.user_dates import get_input_dates\n",
    "\n",
    "import shapely\n",
    "\n",
    "# Provide bounding box (EPSG:4326 user-provided coordinates)\n",
    "area = shapely.geometry.box(-106.9, 36.9, -106.4, 37.4)\n",
    "\n",
    "# Get tuple of dates. Provided date is ending date and start date is always prior August 1st\n",
    "dates = get_input_dates(\"2022-04-30\")\n",
    "\n",
    "# Function to actually get data, run processing, returns xarray dataset w/ daily time dimension\n",
    "#s1_sd = get_s1_snow_depth(area, dates, work_dir = './contrib/data/BPR_retrieval/')\n",
    "s1_sd = retrieve_snow_depth(area, dates, work_dir = 'Users/Adrian/Desktop/BPR_retrieval/')\n",
    "\n",
    "# work_dir will be created if not present \n",
    "# optional keyword ideas: job_name, fitting parameters (A, B, C), exisiting_job_name, outfp\n",
    "# `outfp = './idaho_ret.nc` will output datset to netcdf\n",
    "\n",
    "# plot first day of 2020 to check data quality\n",
    "s1_sd.sel(time = \"2022-01-01\").plot()\n",
    "\n",
    "# save as pickle file\n",
    "# dump completed dataset to data directory\n",
    "with open('./BPR_retrieval/spicy_test.pkl', 'wb') as f:\n",
    "    pickle.dump(ds, f)"
   ]
  },
  {
   "cell_type": "code",
   "execution_count": null,
   "metadata": {},
   "outputs": [],
   "source": [
    "# NOTES\n",
    "# From README file ...\n",
    "\n",
    "# Function to actually get data, run processing, returns xarray dataset w/ daily time dimension\n",
    "s1_sd = get_s1_snow_depth(area, dates, work_dir = './idaho_retrieval/)\n",
    "# Should 'get_s1_snow_depth' be 'retrieve_snow_depth'?\n"
   ]
  }
 ],
 "metadata": {
  "kernelspec": {
   "display_name": "spicy",
   "language": "python",
   "name": "python3"
  },
  "language_info": {
   "codemirror_mode": {
    "name": "ipython",
    "version": 3
   },
   "file_extension": ".py",
   "mimetype": "text/x-python",
   "name": "python",
   "nbconvert_exporter": "python",
   "pygments_lexer": "ipython3",
   "version": "3.11.0"
  }
 },
 "nbformat": 4,
 "nbformat_minor": 2
}
