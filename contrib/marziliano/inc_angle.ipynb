{
 "cells": [
  {
   "attachments": {},
   "cell_type": "markdown",
   "metadata": {},
   "source": [
    "### Import Libraries and Test Images"
   ]
  },
  {
   "cell_type": "code",
   "execution_count": null,
   "metadata": {},
   "outputs": [],
   "source": [
    "# standard imports\n",
    "from typing import Dict, List\n",
    "import numpy as np\n",
    "import xarray as xr\n",
    "import pandas as pd\n",
    "import rioxarray\n",
    "import matplotlib.pyplot as plt\n",
    "\n",
    "# load up the saved dataset\n",
    "import pickle\n",
    "with open('/Users/Adrian/Documents/VS CODE/spicy-snow/tests/test_data/2_img_ds', 'rb') as f:\n",
    "    ds = pickle.load(f)\n",
    "\n",
    "# add module to path so python can import it. This is the directory with \n",
    "# the __init__.py file in it to let python know this is a module.\n",
    "import sys\n",
    "sys.path.append('/Users/Adrian/Documents/VS CODE/spicy-snow/spicy_snow')\n",
    "\n",
    "# import the function to test\n",
    "from processing.s1_preprocessing import s1_amp_to_dB, s1_dB_to_amp, merge_partial_s1_images\n",
    "\n",
    "#dataset = ds.isel(time = slice(1, 3))\n",
    "dataset = ds"
   ]
  },
  {
   "cell_type": "code",
   "execution_count": null,
   "metadata": {},
   "outputs": [],
   "source": [
    "dataset"
   ]
  },
  {
   "cell_type": "markdown",
   "metadata": {},
   "source": [
    "### Plot Incidence Angles Before Mask"
   ]
  },
  {
   "cell_type": "code",
   "execution_count": null,
   "metadata": {},
   "outputs": [],
   "source": [
    "# BEFORE\n",
    "\n",
    "#s1_inc = s1[0, 2]\n",
    "#s1_inc >= 0.7\n",
    "#s1[dict(time=0, band=2)]\n",
    "\n",
    "s1 = dataset.s1\n",
    "s1_inc = s1.drop_sel(band=['VV', 'VH'])\n",
    "s1_inc_deg = np.rad2deg(s1_inc)\n",
    "#s1_inc.isel(time=0).plot()\n",
    "s1_inc_deg.plot()"
   ]
  },
  {
   "cell_type": "markdown",
   "metadata": {},
   "source": [
    "### Test Masking Function"
   ]
  },
  {
   "cell_type": "code",
   "execution_count": null,
   "metadata": {},
   "outputs": [],
   "source": [
    "# Select incidence angle from s1 data array\n",
    "for band in ['inc']:\n",
    "    data = dataset['s1'].sel(band=band)\n",
    "\n",
    "    # Mask pixels with incidence angle > 70 degrees ('inc' <= 0.7)\n",
    "    # data_masked = data.where(data <= 1.22)\n",
    "    dataset['s1'].loc[dict(band = band)] = data.where(data <= np.rad2deg(70))\n"
   ]
  },
  {
   "cell_type": "markdown",
   "metadata": {},
   "source": [
    "### Plot Incidence Angles After Mask"
   ]
  },
  {
   "cell_type": "code",
   "execution_count": null,
   "metadata": {},
   "outputs": [],
   "source": [
    "# AFTER\n",
    "s1_afterinc = dataset.s1\n",
    "s1_afterinc = s1.drop_sel(band=['VV', 'VH'])\n",
    "s1_afterinc_deg = np.rad2deg(s1_afterinc)\n",
    "#s1_afterinc.isel(time=0).plot()\n",
    "s1_afterinc_deg.plot()"
   ]
  },
  {
   "attachments": {},
   "cell_type": "markdown",
   "metadata": {},
   "source": [
    "## FINAL FUNCTION"
   ]
  },
  {
   "cell_type": "code",
   "execution_count": null,
   "metadata": {},
   "outputs": [],
   "source": [
    "def s1_incidence_angle_masking(dataset: xr.Dataset, inplace: bool = False) -> xr.Dataset:\n",
    "\"\"\"\n",
    "Remove s1 image outliers by masking pixels with incidence angles > 70 degrees\n",
    "\n",
    "Args:\n",
    "dataset: Xarray Dataset of sentinel images to mask incidence angle outliers\n",
    "\n",
    "Returns:\n",
    "dataset: Xarray Dataset of sentinel images with incidence angles > 70 degrees\n",
    "masked\n",
    "\"\"\"\n",
    " \n",
    "# Check inplace flag\n",
    "if not inplace:\n",
    "        dataset = dataset.copy(deep=True)\n",
    "\n",
    "\n",
    "# Mask pixels with incidence angle > 70 degrees\n",
    "for band in ['inc']:\n",
    "        data = dataset['s1'].sel(band=band)\n",
    "        # Convert 'inc' from radians to degrees\n",
    "        #data_deg = data * 180/(np.pi)\n",
    "\n",
    "        # Convert 'inc' radians to degrees and mask array ('inc' <= 70 deg)\n",
    "        dataset['s1'].loc[dict(band = band)] = data_deg.where(data_deg <= 0.7)\n",
    "\n",
    "if not inplace:\n",
    "        return dataset"
   ]
  }
 ],
 "metadata": {
  "kernelspec": {
   "display_name": "spicy",
   "language": "python",
   "name": "python3"
  },
  "language_info": {
   "codemirror_mode": {
    "name": "ipython",
    "version": 3
   },
   "file_extension": ".py",
   "mimetype": "text/x-python",
   "name": "python",
   "nbconvert_exporter": "python",
   "pygments_lexer": "ipython3",
   "version": "3.11.0"
  },
  "vscode": {
   "interpreter": {
    "hash": "13caf6e9649d854b781d0ff5e03ba6873899a9c51dd9632444222443f682bdc1"
   }
  }
 },
 "nbformat": 4,
 "nbformat_minor": 2
}
