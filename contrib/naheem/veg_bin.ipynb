{
 "cells": [
  {
   "cell_type": "code",
   "execution_count": null,
   "metadata": {},
   "outputs": [],
   "source": [
    "import netCDF4\n",
    "import xarray as xr\n",
    "import matplotlib.pyplot as plt\n",
    "import seaborn as sns\n",
    "import pandas as pd\n",
    "import numpy as np\n",
    "from pathlib import Path\n",
    "# Set the font size and style\n",
    "plt.rcParams.update({'font.size': 11, 'font.family': 'serif'})\n"
   ]
  },
  {
   "cell_type": "code",
   "execution_count": null,
   "metadata": {},
   "outputs": [],
   "source": [
    "df_list = []\n",
    "fp = '../../SnowEx-Data'\n",
    "lidar_dir = Path(fp)\n",
    "fps = list(lidar_dir.glob('*.nc'))\n",
    "fps\n",
    "\n",
    "for fp in fps:\n",
    "    # open dataset\n",
    "    ds = xr.open_dataset(fp)\n",
    "    #get lidar flight time\n",
    "    ft = pd.to_datetime(ds.attrs['lidar-flight-time'])\n",
    "    # 3 days buffer\n",
    "    dt = pd.Timedelta('3 days')\n",
    "    # get lidar-sd and lidar-vh\n",
    "    lidar_sd = ds['lidar-sd'].values.flatten()\n",
    "    lidar_vh = ds['lidar-vh'].values.flatten()\n",
    "    # get mean spicy snow depth for the time period\n",
    "    snow_depth = ds['snow_depth'].sel(time=slice(\n",
    "        ft - dt, ft + dt)).mean(dim='time').values.flatten()\n",
    "    #put in dataframe\n",
    "    df = pd.DataFrame({'lidar_vh': lidar_vh,\n",
    "                       'lidar_sd': lidar_sd, 'snow_depth': snow_depth})\n",
    "    #append to df_list\n",
    "    df_list.append(df)\n"
   ]
  },
  {
   "cell_type": "code",
   "execution_count": null,
   "metadata": {},
   "outputs": [],
   "source": [
    "merged_df = pd.concat(df_list, ignore_index=True)\n",
    "merged_df.dropna(inplace= True)"
   ]
  },
  {
   "cell_type": "code",
   "execution_count": null,
   "metadata": {},
   "outputs": [],
   "source": [
    "# Select non-negative records for lidar_sd and lidar_vh variables\n",
    "merged_df = merged_df[(\n",
    "    merged_df['lidar_sd'] >= 0) & (merged_df['lidar_vh'] >= 0)]\n"
   ]
  },
  {
   "cell_type": "code",
   "execution_count": null,
   "metadata": {},
   "outputs": [],
   "source": [
    "merged_df.describe()"
   ]
  },
  {
   "cell_type": "code",
   "execution_count": null,
   "metadata": {},
   "outputs": [],
   "source": [
    "# Define the bin edges and labels for vegetation height classes\n",
    "bin_edges = [0, 0.2, 2, float('inf')]\n",
    "class_labels = ['sparse vegetation', 'medium vegetation', 'dense vegetation']\n",
    "\n",
    "# Bin the vegetation height into classes\n",
    "merged_df['vegetation_class'] = pd.cut(\n",
    "    merged_df['lidar_vh'], bins=bin_edges, labels=class_labels)\n",
    "\n",
    "# Print the updated DataFrame\n",
    "print(merged_df)\n"
   ]
  },
  {
   "cell_type": "code",
   "execution_count": null,
   "metadata": {},
   "outputs": [],
   "source": [
    "# Select records where vegetation_class is 'sparse'\n",
    "merged_df[merged_df['vegetation_class'] == 'sparse vegetation']\n"
   ]
  },
  {
   "cell_type": "code",
   "execution_count": null,
   "metadata": {},
   "outputs": [],
   "source": [
    "class_colors = {'sparse vegetation': 'red', 'medium vegetation': 'green', 'dense vegetation': 'blue'}"
   ]
  },
  {
   "cell_type": "code",
   "execution_count": null,
   "metadata": {},
   "outputs": [],
   "source": [
    "# Create a list to store the data for each vegetation class\n",
    "class_data = []\n",
    "\n",
    "# Iterate over vegetation classes and extract the data\n",
    "for veg_class, color in class_colors.items():\n",
    "    class_data.append(merged_df.loc[merged_df['vegetation_class'] == veg_class, [\n",
    "                      'lidar_sd', 'snow_depth']])\n",
    "\n",
    "# Set up the figure and axes\n",
    "fig, axes = plt.subplots(nrows=1, ncols=len(\n",
    "    class_data), figsize=(12, 6), sharey=True)\n",
    "\n",
    "# Create violin plots for each vegetation class\n",
    "for i, (data, color) in enumerate(zip(class_data, class_colors.values())):\n",
    "    ax = axes[i]\n",
    "    sns.violinplot(data=data, palette=[color], ax=ax)\n",
    "    ax.set_xlabel('Variable')\n",
    "    ax.set_ylabel('Value')\n",
    "    ax.set_title(list(class_colors.keys())[i])\n",
    "\n",
    "# Adjust spacing between subplots\n",
    "plt.tight_layout()\n",
    "\n",
    "# Show the plot\n",
    "plt.show()\n"
   ]
  },
  {
   "cell_type": "code",
   "execution_count": null,
   "metadata": {},
   "outputs": [],
   "source": [
    "\n",
    "\n",
    "# Plot scatter plot\n",
    "plt.figure(figsize=(8, 6))\n",
    "for veg_class, color in class_colors.items():\n",
    "    class_data = merged_df[merged_df['vegetation_class'] == veg_class]\n",
    "    plt.scatter(class_data['lidar_sd'],\n",
    "                class_data['snow_depth'], c=color, label=veg_class)\n",
    "\n",
    "# Add labels and legend\n",
    "plt.xlabel('Lidar SD (m)')\n",
    "plt.ylabel('Snow Depth (m)')\n",
    "plt.legend()\n",
    "\n",
    "# Show the plot\n",
    "plt.show()\n"
   ]
  },
  {
   "cell_type": "code",
   "execution_count": null,
   "metadata": {},
   "outputs": [],
   "source": [
    "# Create subplots\n",
    "fig, axes = plt.subplots(nrows=1, ncols=3, figsize=(15, 5))\n",
    "\n",
    "# Iterate over vegetation classes and plot scatter plots\n",
    "for i, (veg_class, color) in enumerate(class_colors.items()):\n",
    "    class_data = merged_df[merged_df['vegetation_class'] == veg_class]\n",
    "    ax = axes[i]\n",
    "    ax.scatter(class_data['lidar_sd'], class_data['snow_depth'], c=color)\n",
    "    ax.set_xlabel('Lidar SD (m)')\n",
    "    ax.set_ylabel('Spicy Snow Depth (m)')\n",
    "    ax.set_title(veg_class)\n",
    "\n",
    "    # Calculate and display the correlation (r-value)\n",
    "    r_value = np.corrcoef(\n",
    "        class_data['lidar_sd'], class_data['snow_depth'])[0, 1]\n",
    "    ax.text(0.05, 0.9, f'r = {r_value:.2f}', transform=ax.transAxes)\n",
    "\n",
    "# Adjust spacing between subplots\n",
    "plt.tight_layout()\n",
    "\n",
    "# Show the plot\n",
    "plt.show()\n"
   ]
  },
  {
   "cell_type": "code",
   "execution_count": null,
   "metadata": {},
   "outputs": [],
   "source": [
    "# dataset = xr.open_dataset(\n",
    "#     '/home/naheemadebisi/geofiles1/home/NaheemAdebisi/PhD/dissertation/spicy-snow/SnowEx-Data/Banner_2020-02-18.sub.nc')\n",
    "# lidar_vh_values = dataset['lidar-vh'].values.flatten()\n",
    "# lidar_sd_values = dataset['lidar-sd'].values.flatten()\n",
    "# snow_depth_values = dataset['snow_depth'].sel(\n",
    "#     time='2020-02-17T13:49:32').values.flatten()\n",
    "\n",
    "# # Create a DataFrame to hold the values\n",
    "# banner_2020_02_18_df = pd.DataFrame({'lidar_vh': lidar_vh_values,\n",
    "#                   'lidar_sd': lidar_sd_values, 'snow_depth': snow_depth_values})\n",
    "# banner_2020_02_18_df\n"
   ]
  }
 ],
 "metadata": {
  "kernelspec": {
   "display_name": "earth-analytics-python",
   "language": "python",
   "name": "python3"
  },
  "language_info": {
   "codemirror_mode": {
    "name": "ipython",
    "version": 3
   },
   "file_extension": ".py",
   "mimetype": "text/x-python",
   "name": "python",
   "nbconvert_exporter": "python",
   "pygments_lexer": "ipython3",
   "version": "3.8.12"
  }
 },
 "nbformat": 4,
 "nbformat_minor": 2
}
